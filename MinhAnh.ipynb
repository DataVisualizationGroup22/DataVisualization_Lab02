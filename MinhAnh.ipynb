{
 "cells": [
  {
   "cell_type": "code",
   "execution_count": 140,
   "id": "991f8532-6c51-4f22-a81e-8801e2efc0bd",
   "metadata": {},
   "outputs": [],
   "source": [
    "import pandas as pd\n",
    "import seaborn as sns\n",
    "import matplotlib.pyplot as plt\n",
    "import numpy as np\n",
    "\n",
    "import pandas as pd\n",
    "import plotly.express as px\n",
    "import random"
   ]
  },
  {
   "cell_type": "markdown",
   "id": "802c5ce0-6107-4dad-bcec-4d793ecc9ad3",
   "metadata": {},
   "source": [
    "👉 Tiếp đến đọc file `\"Sample - Superstore.csv\"` vào dataframe `df` và in ra 5 dòng đầu tiên của dataframe."
   ]
  },
  {
   "cell_type": "code",
   "execution_count": 141,
   "id": "9a638968-1e2a-42c4-a06f-96f09b06d602",
   "metadata": {},
   "outputs": [
    {
     "data": {
      "text/html": [
       "<div>\n",
       "<style scoped>\n",
       "    .dataframe tbody tr th:only-of-type {\n",
       "        vertical-align: middle;\n",
       "    }\n",
       "\n",
       "    .dataframe tbody tr th {\n",
       "        vertical-align: top;\n",
       "    }\n",
       "\n",
       "    .dataframe thead th {\n",
       "        text-align: right;\n",
       "    }\n",
       "</style>\n",
       "<table border=\"1\" class=\"dataframe\">\n",
       "  <thead>\n",
       "    <tr style=\"text-align: right;\">\n",
       "      <th></th>\n",
       "      <th>Row ID</th>\n",
       "      <th>Order ID</th>\n",
       "      <th>Order Date</th>\n",
       "      <th>Ship Date</th>\n",
       "      <th>Ship Mode</th>\n",
       "      <th>Customer ID</th>\n",
       "      <th>Customer Name</th>\n",
       "      <th>Segment</th>\n",
       "      <th>Country</th>\n",
       "      <th>City</th>\n",
       "      <th>...</th>\n",
       "      <th>Postal Code</th>\n",
       "      <th>Region</th>\n",
       "      <th>Product ID</th>\n",
       "      <th>Category</th>\n",
       "      <th>Sub-Category</th>\n",
       "      <th>Product Name</th>\n",
       "      <th>Sales</th>\n",
       "      <th>Quantity</th>\n",
       "      <th>Discount</th>\n",
       "      <th>Profit</th>\n",
       "    </tr>\n",
       "  </thead>\n",
       "  <tbody>\n",
       "    <tr>\n",
       "      <th>0</th>\n",
       "      <td>1</td>\n",
       "      <td>CA-2016-152156</td>\n",
       "      <td>11/8/2016</td>\n",
       "      <td>11/11/2016</td>\n",
       "      <td>Second Class</td>\n",
       "      <td>CG-12520</td>\n",
       "      <td>Claire Gute</td>\n",
       "      <td>Consumer</td>\n",
       "      <td>United States</td>\n",
       "      <td>Henderson</td>\n",
       "      <td>...</td>\n",
       "      <td>42420</td>\n",
       "      <td>South</td>\n",
       "      <td>FUR-BO-10001798</td>\n",
       "      <td>Furniture</td>\n",
       "      <td>Bookcases</td>\n",
       "      <td>Bush Somerset Collection Bookcase</td>\n",
       "      <td>261.9600</td>\n",
       "      <td>2</td>\n",
       "      <td>0.00</td>\n",
       "      <td>41.9136</td>\n",
       "    </tr>\n",
       "    <tr>\n",
       "      <th>1</th>\n",
       "      <td>2</td>\n",
       "      <td>CA-2016-152156</td>\n",
       "      <td>11/8/2016</td>\n",
       "      <td>11/11/2016</td>\n",
       "      <td>Second Class</td>\n",
       "      <td>CG-12520</td>\n",
       "      <td>Claire Gute</td>\n",
       "      <td>Consumer</td>\n",
       "      <td>United States</td>\n",
       "      <td>Henderson</td>\n",
       "      <td>...</td>\n",
       "      <td>42420</td>\n",
       "      <td>South</td>\n",
       "      <td>FUR-CH-10000454</td>\n",
       "      <td>Furniture</td>\n",
       "      <td>Chairs</td>\n",
       "      <td>Hon Deluxe Fabric Upholstered Stacking Chairs,...</td>\n",
       "      <td>731.9400</td>\n",
       "      <td>3</td>\n",
       "      <td>0.00</td>\n",
       "      <td>219.5820</td>\n",
       "    </tr>\n",
       "    <tr>\n",
       "      <th>2</th>\n",
       "      <td>3</td>\n",
       "      <td>CA-2016-138688</td>\n",
       "      <td>6/12/2016</td>\n",
       "      <td>6/16/2016</td>\n",
       "      <td>Second Class</td>\n",
       "      <td>DV-13045</td>\n",
       "      <td>Darrin Van Huff</td>\n",
       "      <td>Corporate</td>\n",
       "      <td>United States</td>\n",
       "      <td>Los Angeles</td>\n",
       "      <td>...</td>\n",
       "      <td>90036</td>\n",
       "      <td>West</td>\n",
       "      <td>OFF-LA-10000240</td>\n",
       "      <td>Office Supplies</td>\n",
       "      <td>Labels</td>\n",
       "      <td>Self-Adhesive Address Labels for Typewriters b...</td>\n",
       "      <td>14.6200</td>\n",
       "      <td>2</td>\n",
       "      <td>0.00</td>\n",
       "      <td>6.8714</td>\n",
       "    </tr>\n",
       "    <tr>\n",
       "      <th>3</th>\n",
       "      <td>4</td>\n",
       "      <td>US-2015-108966</td>\n",
       "      <td>10/11/2015</td>\n",
       "      <td>10/18/2015</td>\n",
       "      <td>Standard Class</td>\n",
       "      <td>SO-20335</td>\n",
       "      <td>Sean O'Donnell</td>\n",
       "      <td>Consumer</td>\n",
       "      <td>United States</td>\n",
       "      <td>Fort Lauderdale</td>\n",
       "      <td>...</td>\n",
       "      <td>33311</td>\n",
       "      <td>South</td>\n",
       "      <td>FUR-TA-10000577</td>\n",
       "      <td>Furniture</td>\n",
       "      <td>Tables</td>\n",
       "      <td>Bretford CR4500 Series Slim Rectangular Table</td>\n",
       "      <td>957.5775</td>\n",
       "      <td>5</td>\n",
       "      <td>0.45</td>\n",
       "      <td>-383.0310</td>\n",
       "    </tr>\n",
       "    <tr>\n",
       "      <th>4</th>\n",
       "      <td>5</td>\n",
       "      <td>US-2015-108966</td>\n",
       "      <td>10/11/2015</td>\n",
       "      <td>10/18/2015</td>\n",
       "      <td>Standard Class</td>\n",
       "      <td>SO-20335</td>\n",
       "      <td>Sean O'Donnell</td>\n",
       "      <td>Consumer</td>\n",
       "      <td>United States</td>\n",
       "      <td>Fort Lauderdale</td>\n",
       "      <td>...</td>\n",
       "      <td>33311</td>\n",
       "      <td>South</td>\n",
       "      <td>OFF-ST-10000760</td>\n",
       "      <td>Office Supplies</td>\n",
       "      <td>Storage</td>\n",
       "      <td>Eldon Fold 'N Roll Cart System</td>\n",
       "      <td>22.3680</td>\n",
       "      <td>2</td>\n",
       "      <td>0.20</td>\n",
       "      <td>2.5164</td>\n",
       "    </tr>\n",
       "  </tbody>\n",
       "</table>\n",
       "<p>5 rows × 21 columns</p>\n",
       "</div>"
      ],
      "text/plain": [
       "   Row ID        Order ID  Order Date   Ship Date       Ship Mode Customer ID  \\\n",
       "0       1  CA-2016-152156   11/8/2016  11/11/2016    Second Class    CG-12520   \n",
       "1       2  CA-2016-152156   11/8/2016  11/11/2016    Second Class    CG-12520   \n",
       "2       3  CA-2016-138688   6/12/2016   6/16/2016    Second Class    DV-13045   \n",
       "3       4  US-2015-108966  10/11/2015  10/18/2015  Standard Class    SO-20335   \n",
       "4       5  US-2015-108966  10/11/2015  10/18/2015  Standard Class    SO-20335   \n",
       "\n",
       "     Customer Name    Segment        Country             City  ...  \\\n",
       "0      Claire Gute   Consumer  United States        Henderson  ...   \n",
       "1      Claire Gute   Consumer  United States        Henderson  ...   \n",
       "2  Darrin Van Huff  Corporate  United States      Los Angeles  ...   \n",
       "3   Sean O'Donnell   Consumer  United States  Fort Lauderdale  ...   \n",
       "4   Sean O'Donnell   Consumer  United States  Fort Lauderdale  ...   \n",
       "\n",
       "  Postal Code  Region       Product ID         Category Sub-Category  \\\n",
       "0       42420   South  FUR-BO-10001798        Furniture    Bookcases   \n",
       "1       42420   South  FUR-CH-10000454        Furniture       Chairs   \n",
       "2       90036    West  OFF-LA-10000240  Office Supplies       Labels   \n",
       "3       33311   South  FUR-TA-10000577        Furniture       Tables   \n",
       "4       33311   South  OFF-ST-10000760  Office Supplies      Storage   \n",
       "\n",
       "                                        Product Name     Sales  Quantity  \\\n",
       "0                  Bush Somerset Collection Bookcase  261.9600         2   \n",
       "1  Hon Deluxe Fabric Upholstered Stacking Chairs,...  731.9400         3   \n",
       "2  Self-Adhesive Address Labels for Typewriters b...   14.6200         2   \n",
       "3      Bretford CR4500 Series Slim Rectangular Table  957.5775         5   \n",
       "4                     Eldon Fold 'N Roll Cart System   22.3680         2   \n",
       "\n",
       "   Discount    Profit  \n",
       "0      0.00   41.9136  \n",
       "1      0.00  219.5820  \n",
       "2      0.00    6.8714  \n",
       "3      0.45 -383.0310  \n",
       "4      0.20    2.5164  \n",
       "\n",
       "[5 rows x 21 columns]"
      ]
     },
     "execution_count": 141,
     "metadata": {},
     "output_type": "execute_result"
    }
   ],
   "source": [
    "# Tên file chứa data\n",
    "DATA_FILE_NAME = \"Sample - Superstore.csv\"\n",
    "df = pd.read_csv(DATA_FILE_NAME, encoding= 'unicode_escape')\n",
    "df.head()"
   ]
  },
  {
   "cell_type": "code",
   "execution_count": 142,
   "id": "c3f7681e-b863-499a-9c16-62cb1183b499",
   "metadata": {
    "tags": []
   },
   "outputs": [
    {
     "data": {
      "text/html": [
       "<div>\n",
       "<style scoped>\n",
       "    .dataframe tbody tr th:only-of-type {\n",
       "        vertical-align: middle;\n",
       "    }\n",
       "\n",
       "    .dataframe tbody tr th {\n",
       "        vertical-align: top;\n",
       "    }\n",
       "\n",
       "    .dataframe thead th {\n",
       "        text-align: right;\n",
       "    }\n",
       "</style>\n",
       "<table border=\"1\" class=\"dataframe\">\n",
       "  <thead>\n",
       "    <tr style=\"text-align: right;\">\n",
       "      <th></th>\n",
       "      <th>Row ID</th>\n",
       "      <th>Postal Code</th>\n",
       "      <th>Sales</th>\n",
       "      <th>Quantity</th>\n",
       "      <th>Discount</th>\n",
       "      <th>Profit</th>\n",
       "    </tr>\n",
       "  </thead>\n",
       "  <tbody>\n",
       "    <tr>\n",
       "      <th>count</th>\n",
       "      <td>9994.000000</td>\n",
       "      <td>9994.000000</td>\n",
       "      <td>9994.000000</td>\n",
       "      <td>9994.000000</td>\n",
       "      <td>9994.000000</td>\n",
       "      <td>9994.000000</td>\n",
       "    </tr>\n",
       "    <tr>\n",
       "      <th>mean</th>\n",
       "      <td>4997.500000</td>\n",
       "      <td>55190.379428</td>\n",
       "      <td>229.858001</td>\n",
       "      <td>3.789574</td>\n",
       "      <td>0.156203</td>\n",
       "      <td>28.656896</td>\n",
       "    </tr>\n",
       "    <tr>\n",
       "      <th>std</th>\n",
       "      <td>2885.163629</td>\n",
       "      <td>32063.693350</td>\n",
       "      <td>623.245101</td>\n",
       "      <td>2.225110</td>\n",
       "      <td>0.206452</td>\n",
       "      <td>234.260108</td>\n",
       "    </tr>\n",
       "    <tr>\n",
       "      <th>min</th>\n",
       "      <td>1.000000</td>\n",
       "      <td>1040.000000</td>\n",
       "      <td>0.444000</td>\n",
       "      <td>1.000000</td>\n",
       "      <td>0.000000</td>\n",
       "      <td>-6599.978000</td>\n",
       "    </tr>\n",
       "    <tr>\n",
       "      <th>25%</th>\n",
       "      <td>2499.250000</td>\n",
       "      <td>23223.000000</td>\n",
       "      <td>17.280000</td>\n",
       "      <td>2.000000</td>\n",
       "      <td>0.000000</td>\n",
       "      <td>1.728750</td>\n",
       "    </tr>\n",
       "    <tr>\n",
       "      <th>50%</th>\n",
       "      <td>4997.500000</td>\n",
       "      <td>56430.500000</td>\n",
       "      <td>54.490000</td>\n",
       "      <td>3.000000</td>\n",
       "      <td>0.200000</td>\n",
       "      <td>8.666500</td>\n",
       "    </tr>\n",
       "    <tr>\n",
       "      <th>75%</th>\n",
       "      <td>7495.750000</td>\n",
       "      <td>90008.000000</td>\n",
       "      <td>209.940000</td>\n",
       "      <td>5.000000</td>\n",
       "      <td>0.200000</td>\n",
       "      <td>29.364000</td>\n",
       "    </tr>\n",
       "    <tr>\n",
       "      <th>max</th>\n",
       "      <td>9994.000000</td>\n",
       "      <td>99301.000000</td>\n",
       "      <td>22638.480000</td>\n",
       "      <td>14.000000</td>\n",
       "      <td>0.800000</td>\n",
       "      <td>8399.976000</td>\n",
       "    </tr>\n",
       "  </tbody>\n",
       "</table>\n",
       "</div>"
      ],
      "text/plain": [
       "            Row ID   Postal Code         Sales     Quantity     Discount  \\\n",
       "count  9994.000000   9994.000000   9994.000000  9994.000000  9994.000000   \n",
       "mean   4997.500000  55190.379428    229.858001     3.789574     0.156203   \n",
       "std    2885.163629  32063.693350    623.245101     2.225110     0.206452   \n",
       "min       1.000000   1040.000000      0.444000     1.000000     0.000000   \n",
       "25%    2499.250000  23223.000000     17.280000     2.000000     0.000000   \n",
       "50%    4997.500000  56430.500000     54.490000     3.000000     0.200000   \n",
       "75%    7495.750000  90008.000000    209.940000     5.000000     0.200000   \n",
       "max    9994.000000  99301.000000  22638.480000    14.000000     0.800000   \n",
       "\n",
       "            Profit  \n",
       "count  9994.000000  \n",
       "mean     28.656896  \n",
       "std     234.260108  \n",
       "min   -6599.978000  \n",
       "25%       1.728750  \n",
       "50%       8.666500  \n",
       "75%      29.364000  \n",
       "max    8399.976000  "
      ]
     },
     "execution_count": 142,
     "metadata": {},
     "output_type": "execute_result"
    }
   ],
   "source": [
    "df.describe()"
   ]
  },
  {
   "cell_type": "code",
   "execution_count": 144,
   "id": "00752fe8-81c2-4f67-b17e-35bc6156a9e1",
   "metadata": {
    "tags": []
   },
   "outputs": [
    {
     "name": "stdout",
     "output_type": "stream",
     "text": [
      "5009 ----  Order ID\n",
      "1237 ----  Order Date\n",
      "1334 ----  Ship Date\n",
      "4 ----  Ship Mode\n",
      "793 ----  Customer ID\n",
      "793 ----  Customer Name\n",
      "3 ----  Segment\n",
      "1 ----  Country\n",
      "531 ----  City\n",
      "49 ----  State\n",
      "4 ----  Region\n",
      "1862 ----  Product ID\n",
      "3 ----  Category\n",
      "17 ----  Sub-Category\n",
      "1850 ----  Product Name\n",
      "\n",
      "9994 ----  Row ID\n",
      "631 ----  Postal Code\n",
      "5825 ----  Sales\n",
      "14 ----  Quantity\n",
      "12 ----  Discount\n",
      "7287 ----  Profit\n"
     ]
    }
   ],
   "source": [
    "for col in cat_columns:\n",
    "    print(len(set(df[col])), '---- ', col)\n",
    "print()\n",
    "for col in num_columns:\n",
    "    print(len(set(df[col])), '---- ', col)"
   ]
  },
  {
   "cell_type": "markdown",
   "id": "db887597-fe44-4f50-a7c8-af468b26d2a6",
   "metadata": {},
   "source": [
    "## Biểu đồ 1"
   ]
  },
  {
   "cell_type": "markdown",
   "id": "5d06fec9-a56e-4ac5-bf4b-0cbf4d9945f9",
   "metadata": {},
   "source": [
    "**Tiêu đề:** Số lượng đơn đặt hàng ở các bang của nước Mỹ trong vòng 4 năm (2014-2017).\n",
    "\n",
    "**Loại biểu đồ:** Sunburst plot\n",
    "\n",
    "**Lý do lựa chọn:** Dùng biểu đồ Sunburst giúp dễ dàng so sánh tỉ lệ % giữa các khu vực và của loại mặt hàng theo số lượng. Đồng thời hỗ trợ thanh màu, lợi nhuận được thể hiện từ thấp đến cao theo các sắc độ của thanh màu.\n",
    "\n",
    "**Trực quan hóa:**"
   ]
  },
  {
   "cell_type": "code",
   "execution_count": 145,
   "id": "5f65d0c0-0504-45a5-9b92-0b71fd3bb07c",
   "metadata": {},
   "outputs": [
    {
     "data": {
      "application/vnd.plotly.v1+json": {
       "config": {
        "plotlyServerURL": "https://plot.ly"
       },
       "data": [
        {
         "branchvalues": "total",
         "customdata": [
          [
           1.8377149425287345
          ],
          [
           11.264798058790896
          ],
          [
           100.59299391191709
          ],
          [
           8.568774254742548
          ],
          [
           30.68754325286289
          ],
          [
           120.1194921215242
          ],
          [
           15.123677381874515
          ],
          [
           24.185866421052634
          ],
          [
           103.76948318425761
          ],
          [
           25.12528913204748
          ],
          [
           35.67552613683483
          ],
          [
           88.64347734475375
          ],
          [
           13.651123368211262
          ],
          [
           26.597962158386444
          ],
          [
           102.54855715520969
          ]
         ],
         "domain": {
          "x": [
           0,
           1
          ],
          "y": [
           0,
           1
          ]
         },
         "hovertemplate": "labels=%{label}<br>Quantity=%{value}<br>parent=%{parent}<br>id=%{id}<br>Profit=%{color}<extra></extra>",
         "ids": [
          "Furniture/Central",
          "Office Supplies/Central",
          "Technology/Central",
          "Furniture/East",
          "Office Supplies/East",
          "Technology/East",
          "Furniture/South",
          "Office Supplies/South",
          "Technology/South",
          "Furniture/West",
          "Office Supplies/West",
          "Technology/West",
          "Furniture",
          "Office Supplies",
          "Technology"
         ],
         "labels": [
          "Central",
          "Central",
          "Central",
          "East",
          "East",
          "East",
          "South",
          "South",
          "South",
          "West",
          "West",
          "West",
          "Furniture",
          "Office Supplies",
          "Technology"
         ],
         "marker": {
          "coloraxis": "coloraxis",
          "colors": [
           1.8377149425287345,
           11.264798058790896,
           100.59299391191709,
           8.568774254742548,
           30.68754325286289,
           120.1194921215242,
           15.123677381874515,
           24.185866421052634,
           103.76948318425761,
           25.12528913204748,
           35.67552613683483,
           88.64347734475375,
           13.651123368211262,
           26.597962158386444,
           102.54855715520969
          ]
         },
         "name": "",
         "parents": [
          "Furniture",
          "Office Supplies",
          "Technology",
          "Furniture",
          "Office Supplies",
          "Technology",
          "Furniture",
          "Office Supplies",
          "Technology",
          "Furniture",
          "Office Supplies",
          "Technology",
          "",
          "",
          ""
         ],
         "type": "sunburst",
         "values": [
          1827,
          5409,
          1544,
          2214,
          6462,
          1942,
          1291,
          3800,
          1118,
          2696,
          7235,
          2335,
          8028,
          22906,
          6939
         ]
        }
       ],
       "layout": {
        "coloraxis": {
         "cmid": 0,
         "colorbar": {
          "title": {
           "text": "Profit"
          }
         },
         "colorscale": [
          [
           0,
           "rgb(103,0,31)"
          ],
          [
           0.1,
           "rgb(178,24,43)"
          ],
          [
           0.2,
           "rgb(214,96,77)"
          ],
          [
           0.3,
           "rgb(244,165,130)"
          ],
          [
           0.4,
           "rgb(253,219,199)"
          ],
          [
           0.5,
           "rgb(247,247,247)"
          ],
          [
           0.6,
           "rgb(209,229,240)"
          ],
          [
           0.7,
           "rgb(146,197,222)"
          ],
          [
           0.8,
           "rgb(67,147,195)"
          ],
          [
           0.9,
           "rgb(33,102,172)"
          ],
          [
           1,
           "rgb(5,48,97)"
          ]
         ]
        },
        "height": 600,
        "legend": {
         "tracegroupgap": 0
        },
        "margin": {
         "t": 60
        },
        "template": {
         "data": {
          "bar": [
           {
            "error_x": {
             "color": "#2a3f5f"
            },
            "error_y": {
             "color": "#2a3f5f"
            },
            "marker": {
             "line": {
              "color": "#E5ECF6",
              "width": 0.5
             },
             "pattern": {
              "fillmode": "overlay",
              "size": 10,
              "solidity": 0.2
             }
            },
            "type": "bar"
           }
          ],
          "barpolar": [
           {
            "marker": {
             "line": {
              "color": "#E5ECF6",
              "width": 0.5
             },
             "pattern": {
              "fillmode": "overlay",
              "size": 10,
              "solidity": 0.2
             }
            },
            "type": "barpolar"
           }
          ],
          "carpet": [
           {
            "aaxis": {
             "endlinecolor": "#2a3f5f",
             "gridcolor": "white",
             "linecolor": "white",
             "minorgridcolor": "white",
             "startlinecolor": "#2a3f5f"
            },
            "baxis": {
             "endlinecolor": "#2a3f5f",
             "gridcolor": "white",
             "linecolor": "white",
             "minorgridcolor": "white",
             "startlinecolor": "#2a3f5f"
            },
            "type": "carpet"
           }
          ],
          "choropleth": [
           {
            "colorbar": {
             "outlinewidth": 0,
             "ticks": ""
            },
            "type": "choropleth"
           }
          ],
          "contour": [
           {
            "colorbar": {
             "outlinewidth": 0,
             "ticks": ""
            },
            "colorscale": [
             [
              0,
              "#0d0887"
             ],
             [
              0.1111111111111111,
              "#46039f"
             ],
             [
              0.2222222222222222,
              "#7201a8"
             ],
             [
              0.3333333333333333,
              "#9c179e"
             ],
             [
              0.4444444444444444,
              "#bd3786"
             ],
             [
              0.5555555555555556,
              "#d8576b"
             ],
             [
              0.6666666666666666,
              "#ed7953"
             ],
             [
              0.7777777777777778,
              "#fb9f3a"
             ],
             [
              0.8888888888888888,
              "#fdca26"
             ],
             [
              1,
              "#f0f921"
             ]
            ],
            "type": "contour"
           }
          ],
          "contourcarpet": [
           {
            "colorbar": {
             "outlinewidth": 0,
             "ticks": ""
            },
            "type": "contourcarpet"
           }
          ],
          "heatmap": [
           {
            "colorbar": {
             "outlinewidth": 0,
             "ticks": ""
            },
            "colorscale": [
             [
              0,
              "#0d0887"
             ],
             [
              0.1111111111111111,
              "#46039f"
             ],
             [
              0.2222222222222222,
              "#7201a8"
             ],
             [
              0.3333333333333333,
              "#9c179e"
             ],
             [
              0.4444444444444444,
              "#bd3786"
             ],
             [
              0.5555555555555556,
              "#d8576b"
             ],
             [
              0.6666666666666666,
              "#ed7953"
             ],
             [
              0.7777777777777778,
              "#fb9f3a"
             ],
             [
              0.8888888888888888,
              "#fdca26"
             ],
             [
              1,
              "#f0f921"
             ]
            ],
            "type": "heatmap"
           }
          ],
          "heatmapgl": [
           {
            "colorbar": {
             "outlinewidth": 0,
             "ticks": ""
            },
            "colorscale": [
             [
              0,
              "#0d0887"
             ],
             [
              0.1111111111111111,
              "#46039f"
             ],
             [
              0.2222222222222222,
              "#7201a8"
             ],
             [
              0.3333333333333333,
              "#9c179e"
             ],
             [
              0.4444444444444444,
              "#bd3786"
             ],
             [
              0.5555555555555556,
              "#d8576b"
             ],
             [
              0.6666666666666666,
              "#ed7953"
             ],
             [
              0.7777777777777778,
              "#fb9f3a"
             ],
             [
              0.8888888888888888,
              "#fdca26"
             ],
             [
              1,
              "#f0f921"
             ]
            ],
            "type": "heatmapgl"
           }
          ],
          "histogram": [
           {
            "marker": {
             "pattern": {
              "fillmode": "overlay",
              "size": 10,
              "solidity": 0.2
             }
            },
            "type": "histogram"
           }
          ],
          "histogram2d": [
           {
            "colorbar": {
             "outlinewidth": 0,
             "ticks": ""
            },
            "colorscale": [
             [
              0,
              "#0d0887"
             ],
             [
              0.1111111111111111,
              "#46039f"
             ],
             [
              0.2222222222222222,
              "#7201a8"
             ],
             [
              0.3333333333333333,
              "#9c179e"
             ],
             [
              0.4444444444444444,
              "#bd3786"
             ],
             [
              0.5555555555555556,
              "#d8576b"
             ],
             [
              0.6666666666666666,
              "#ed7953"
             ],
             [
              0.7777777777777778,
              "#fb9f3a"
             ],
             [
              0.8888888888888888,
              "#fdca26"
             ],
             [
              1,
              "#f0f921"
             ]
            ],
            "type": "histogram2d"
           }
          ],
          "histogram2dcontour": [
           {
            "colorbar": {
             "outlinewidth": 0,
             "ticks": ""
            },
            "colorscale": [
             [
              0,
              "#0d0887"
             ],
             [
              0.1111111111111111,
              "#46039f"
             ],
             [
              0.2222222222222222,
              "#7201a8"
             ],
             [
              0.3333333333333333,
              "#9c179e"
             ],
             [
              0.4444444444444444,
              "#bd3786"
             ],
             [
              0.5555555555555556,
              "#d8576b"
             ],
             [
              0.6666666666666666,
              "#ed7953"
             ],
             [
              0.7777777777777778,
              "#fb9f3a"
             ],
             [
              0.8888888888888888,
              "#fdca26"
             ],
             [
              1,
              "#f0f921"
             ]
            ],
            "type": "histogram2dcontour"
           }
          ],
          "mesh3d": [
           {
            "colorbar": {
             "outlinewidth": 0,
             "ticks": ""
            },
            "type": "mesh3d"
           }
          ],
          "parcoords": [
           {
            "line": {
             "colorbar": {
              "outlinewidth": 0,
              "ticks": ""
             }
            },
            "type": "parcoords"
           }
          ],
          "pie": [
           {
            "automargin": true,
            "type": "pie"
           }
          ],
          "scatter": [
           {
            "fillpattern": {
             "fillmode": "overlay",
             "size": 10,
             "solidity": 0.2
            },
            "type": "scatter"
           }
          ],
          "scatter3d": [
           {
            "line": {
             "colorbar": {
              "outlinewidth": 0,
              "ticks": ""
             }
            },
            "marker": {
             "colorbar": {
              "outlinewidth": 0,
              "ticks": ""
             }
            },
            "type": "scatter3d"
           }
          ],
          "scattercarpet": [
           {
            "marker": {
             "colorbar": {
              "outlinewidth": 0,
              "ticks": ""
             }
            },
            "type": "scattercarpet"
           }
          ],
          "scattergeo": [
           {
            "marker": {
             "colorbar": {
              "outlinewidth": 0,
              "ticks": ""
             }
            },
            "type": "scattergeo"
           }
          ],
          "scattergl": [
           {
            "marker": {
             "colorbar": {
              "outlinewidth": 0,
              "ticks": ""
             }
            },
            "type": "scattergl"
           }
          ],
          "scattermapbox": [
           {
            "marker": {
             "colorbar": {
              "outlinewidth": 0,
              "ticks": ""
             }
            },
            "type": "scattermapbox"
           }
          ],
          "scatterpolar": [
           {
            "marker": {
             "colorbar": {
              "outlinewidth": 0,
              "ticks": ""
             }
            },
            "type": "scatterpolar"
           }
          ],
          "scatterpolargl": [
           {
            "marker": {
             "colorbar": {
              "outlinewidth": 0,
              "ticks": ""
             }
            },
            "type": "scatterpolargl"
           }
          ],
          "scatterternary": [
           {
            "marker": {
             "colorbar": {
              "outlinewidth": 0,
              "ticks": ""
             }
            },
            "type": "scatterternary"
           }
          ],
          "surface": [
           {
            "colorbar": {
             "outlinewidth": 0,
             "ticks": ""
            },
            "colorscale": [
             [
              0,
              "#0d0887"
             ],
             [
              0.1111111111111111,
              "#46039f"
             ],
             [
              0.2222222222222222,
              "#7201a8"
             ],
             [
              0.3333333333333333,
              "#9c179e"
             ],
             [
              0.4444444444444444,
              "#bd3786"
             ],
             [
              0.5555555555555556,
              "#d8576b"
             ],
             [
              0.6666666666666666,
              "#ed7953"
             ],
             [
              0.7777777777777778,
              "#fb9f3a"
             ],
             [
              0.8888888888888888,
              "#fdca26"
             ],
             [
              1,
              "#f0f921"
             ]
            ],
            "type": "surface"
           }
          ],
          "table": [
           {
            "cells": {
             "fill": {
              "color": "#EBF0F8"
             },
             "line": {
              "color": "white"
             }
            },
            "header": {
             "fill": {
              "color": "#C8D4E3"
             },
             "line": {
              "color": "white"
             }
            },
            "type": "table"
           }
          ]
         },
         "layout": {
          "annotationdefaults": {
           "arrowcolor": "#2a3f5f",
           "arrowhead": 0,
           "arrowwidth": 1
          },
          "autotypenumbers": "strict",
          "coloraxis": {
           "colorbar": {
            "outlinewidth": 0,
            "ticks": ""
           }
          },
          "colorscale": {
           "diverging": [
            [
             0,
             "#8e0152"
            ],
            [
             0.1,
             "#c51b7d"
            ],
            [
             0.2,
             "#de77ae"
            ],
            [
             0.3,
             "#f1b6da"
            ],
            [
             0.4,
             "#fde0ef"
            ],
            [
             0.5,
             "#f7f7f7"
            ],
            [
             0.6,
             "#e6f5d0"
            ],
            [
             0.7,
             "#b8e186"
            ],
            [
             0.8,
             "#7fbc41"
            ],
            [
             0.9,
             "#4d9221"
            ],
            [
             1,
             "#276419"
            ]
           ],
           "sequential": [
            [
             0,
             "#0d0887"
            ],
            [
             0.1111111111111111,
             "#46039f"
            ],
            [
             0.2222222222222222,
             "#7201a8"
            ],
            [
             0.3333333333333333,
             "#9c179e"
            ],
            [
             0.4444444444444444,
             "#bd3786"
            ],
            [
             0.5555555555555556,
             "#d8576b"
            ],
            [
             0.6666666666666666,
             "#ed7953"
            ],
            [
             0.7777777777777778,
             "#fb9f3a"
            ],
            [
             0.8888888888888888,
             "#fdca26"
            ],
            [
             1,
             "#f0f921"
            ]
           ],
           "sequentialminus": [
            [
             0,
             "#0d0887"
            ],
            [
             0.1111111111111111,
             "#46039f"
            ],
            [
             0.2222222222222222,
             "#7201a8"
            ],
            [
             0.3333333333333333,
             "#9c179e"
            ],
            [
             0.4444444444444444,
             "#bd3786"
            ],
            [
             0.5555555555555556,
             "#d8576b"
            ],
            [
             0.6666666666666666,
             "#ed7953"
            ],
            [
             0.7777777777777778,
             "#fb9f3a"
            ],
            [
             0.8888888888888888,
             "#fdca26"
            ],
            [
             1,
             "#f0f921"
            ]
           ]
          },
          "colorway": [
           "#636efa",
           "#EF553B",
           "#00cc96",
           "#ab63fa",
           "#FFA15A",
           "#19d3f3",
           "#FF6692",
           "#B6E880",
           "#FF97FF",
           "#FECB52"
          ],
          "font": {
           "color": "#2a3f5f"
          },
          "geo": {
           "bgcolor": "white",
           "lakecolor": "white",
           "landcolor": "#E5ECF6",
           "showlakes": true,
           "showland": true,
           "subunitcolor": "white"
          },
          "hoverlabel": {
           "align": "left"
          },
          "hovermode": "closest",
          "mapbox": {
           "style": "light"
          },
          "paper_bgcolor": "white",
          "plot_bgcolor": "#E5ECF6",
          "polar": {
           "angularaxis": {
            "gridcolor": "white",
            "linecolor": "white",
            "ticks": ""
           },
           "bgcolor": "#E5ECF6",
           "radialaxis": {
            "gridcolor": "white",
            "linecolor": "white",
            "ticks": ""
           }
          },
          "scene": {
           "xaxis": {
            "backgroundcolor": "#E5ECF6",
            "gridcolor": "white",
            "gridwidth": 2,
            "linecolor": "white",
            "showbackground": true,
            "ticks": "",
            "zerolinecolor": "white"
           },
           "yaxis": {
            "backgroundcolor": "#E5ECF6",
            "gridcolor": "white",
            "gridwidth": 2,
            "linecolor": "white",
            "showbackground": true,
            "ticks": "",
            "zerolinecolor": "white"
           },
           "zaxis": {
            "backgroundcolor": "#E5ECF6",
            "gridcolor": "white",
            "gridwidth": 2,
            "linecolor": "white",
            "showbackground": true,
            "ticks": "",
            "zerolinecolor": "white"
           }
          },
          "shapedefaults": {
           "line": {
            "color": "#2a3f5f"
           }
          },
          "ternary": {
           "aaxis": {
            "gridcolor": "white",
            "linecolor": "white",
            "ticks": ""
           },
           "baxis": {
            "gridcolor": "white",
            "linecolor": "white",
            "ticks": ""
           },
           "bgcolor": "#E5ECF6",
           "caxis": {
            "gridcolor": "white",
            "linecolor": "white",
            "ticks": ""
           }
          },
          "title": {
           "x": 0.05
          },
          "xaxis": {
           "automargin": true,
           "gridcolor": "white",
           "linecolor": "white",
           "ticks": "",
           "title": {
            "standoff": 15
           },
           "zerolinecolor": "white",
           "zerolinewidth": 2
          },
          "yaxis": {
           "automargin": true,
           "gridcolor": "white",
           "linecolor": "white",
           "ticks": "",
           "title": {
            "standoff": 15
           },
           "zerolinecolor": "white",
           "zerolinewidth": 2
          }
         }
        },
        "width": 1000
       }
      },
      "image/png": "[encoded data removed]",
      "text/html": [
       "<div>                            <div id=\"8e756a66-8d2a-46a0-b1e4-f24617c1c582\" class=\"plotly-graph-div\" style=\"height:600px; width:1000px;\"></div>            <script type=\"text/javascript\">                require([\"plotly\"], function(Plotly) {                    window.PLOTLYENV=window.PLOTLYENV || {};                                    if (document.getElementById(\"8e756a66-8d2a-46a0-b1e4-f24617c1c582\")) {                    Plotly.newPlot(                        \"8e756a66-8d2a-46a0-b1e4-f24617c1c582\",                        [{\"branchvalues\":\"total\",\"customdata\":[[1.8377149425287345],[11.264798058790896],[100.59299391191709],[8.568774254742548],[30.68754325286289],[120.1194921215242],[15.123677381874515],[24.185866421052634],[103.76948318425761],[25.12528913204748],[35.67552613683483],[88.64347734475375],[13.651123368211262],[26.597962158386444],[102.54855715520969]],\"domain\":{\"x\":[0.0,1.0],\"y\":[0.0,1.0]},\"hovertemplate\":\"labels=%{label}<br>Quantity=%{value}<br>parent=%{parent}<br>id=%{id}<br>Profit=%{color}<extra></extra>\",\"ids\":[\"Furniture/Central\",\"Office Supplies/Central\",\"Technology/Central\",\"Furniture/East\",\"Office Supplies/East\",\"Technology/East\",\"Furniture/South\",\"Office Supplies/South\",\"Technology/South\",\"Furniture/West\",\"Office Supplies/West\",\"Technology/West\",\"Furniture\",\"Office Supplies\",\"Technology\"],\"labels\":[\"Central\",\"Central\",\"Central\",\"East\",\"East\",\"East\",\"South\",\"South\",\"South\",\"West\",\"West\",\"West\",\"Furniture\",\"Office Supplies\",\"Technology\"],\"marker\":{\"coloraxis\":\"coloraxis\",\"colors\":[1.8377149425287345,11.264798058790896,100.59299391191709,8.568774254742548,30.68754325286289,120.1194921215242,15.123677381874515,24.185866421052634,103.76948318425761,25.12528913204748,35.67552613683483,88.64347734475375,13.651123368211262,26.597962158386444,102.54855715520969]},\"name\":\"\",\"parents\":[\"Furniture\",\"Office Supplies\",\"Technology\",\"Furniture\",\"Office Supplies\",\"Technology\",\"Furniture\",\"Office Supplies\",\"Technology\",\"Furniture\",\"Office Supplies\",\"Technology\",\"\",\"\",\"\"],\"values\":[1827,5409,1544,2214,6462,1942,1291,3800,1118,2696,7235,2335,8028,22906,6939],\"type\":\"sunburst\"}],                        {\"template\":{\"data\":{\"histogram2dcontour\":[{\"type\":\"histogram2dcontour\",\"colorbar\":{\"outlinewidth\":0,\"ticks\":\"\"},\"colorscale\":[[0.0,\"#0d0887\"],[0.1111111111111111,\"#46039f\"],[0.2222222222222222,\"#7201a8\"],[0.3333333333333333,\"#9c179e\"],[0.4444444444444444,\"#bd3786\"],[0.5555555555555556,\"#d8576b\"],[0.6666666666666666,\"#ed7953\"],[0.7777777777777778,\"#fb9f3a\"],[0.8888888888888888,\"#fdca26\"],[1.0,\"#f0f921\"]]}],\"choropleth\":[{\"type\":\"choropleth\",\"colorbar\":{\"outlinewidth\":0,\"ticks\":\"\"}}],\"histogram2d\":[{\"type\":\"histogram2d\",\"colorbar\":{\"outlinewidth\":0,\"ticks\":\"\"},\"colorscale\":[[0.0,\"#0d0887\"],[0.1111111111111111,\"#46039f\"],[0.2222222222222222,\"#7201a8\"],[0.3333333333333333,\"#9c179e\"],[0.4444444444444444,\"#bd3786\"],[0.5555555555555556,\"#d8576b\"],[0.6666666666666666,\"#ed7953\"],[0.7777777777777778,\"#fb9f3a\"],[0.8888888888888888,\"#fdca26\"],[1.0,\"#f0f921\"]]}],\"heatmap\":[{\"type\":\"heatmap\",\"colorbar\":{\"outlinewidth\":0,\"ticks\":\"\"},\"colorscale\":[[0.0,\"#0d0887\"],[0.1111111111111111,\"#46039f\"],[0.2222222222222222,\"#7201a8\"],[0.3333333333333333,\"#9c179e\"],[0.4444444444444444,\"#bd3786\"],[0.5555555555555556,\"#d8576b\"],[0.6666666666666666,\"#ed7953\"],[0.7777777777777778,\"#fb9f3a\"],[0.8888888888888888,\"#fdca26\"],[1.0,\"#f0f921\"]]}],\"heatmapgl\":[{\"type\":\"heatmapgl\",\"colorbar\":{\"outlinewidth\":0,\"ticks\":\"\"},\"colorscale\":[[0.0,\"#0d0887\"],[0.1111111111111111,\"#46039f\"],[0.2222222222222222,\"#7201a8\"],[0.3333333333333333,\"#9c179e\"],[0.4444444444444444,\"#bd3786\"],[0.5555555555555556,\"#d8576b\"],[0.6666666666666666,\"#ed7953\"],[0.7777777777777778,\"#fb9f3a\"],[0.8888888888888888,\"#fdca26\"],[1.0,\"#f0f921\"]]}],\"contourcarpet\":[{\"type\":\"contourcarpet\",\"colorbar\":{\"outlinewidth\":0,\"ticks\":\"\"}}],\"contour\":[{\"type\":\"contour\",\"colorbar\":{\"outlinewidth\":0,\"ticks\":\"\"},\"colorscale\":[[0.0,\"#0d0887\"],[0.1111111111111111,\"#46039f\"],[0.2222222222222222,\"#7201a8\"],[0.3333333333333333,\"#9c179e\"],[0.4444444444444444,\"#bd3786\"],[0.5555555555555556,\"#d8576b\"],[0.6666666666666666,\"#ed7953\"],[0.7777777777777778,\"#fb9f3a\"],[0.8888888888888888,\"#fdca26\"],[1.0,\"#f0f921\"]]}],\"surface\":[{\"type\":\"surface\",\"colorbar\":{\"outlinewidth\":0,\"ticks\":\"\"},\"colorscale\":[[0.0,\"#0d0887\"],[0.1111111111111111,\"#46039f\"],[0.2222222222222222,\"#7201a8\"],[0.3333333333333333,\"#9c179e\"],[0.4444444444444444,\"#bd3786\"],[0.5555555555555556,\"#d8576b\"],[0.6666666666666666,\"#ed7953\"],[0.7777777777777778,\"#fb9f3a\"],[0.8888888888888888,\"#fdca26\"],[1.0,\"#f0f921\"]]}],\"mesh3d\":[{\"type\":\"mesh3d\",\"colorbar\":{\"outlinewidth\":0,\"ticks\":\"\"}}],\"scatter\":[{\"fillpattern\":{\"fillmode\":\"overlay\",\"size\":10,\"solidity\":0.2},\"type\":\"scatter\"}],\"parcoords\":[{\"type\":\"parcoords\",\"line\":{\"colorbar\":{\"outlinewidth\":0,\"ticks\":\"\"}}}],\"scatterpolargl\":[{\"type\":\"scatterpolargl\",\"marker\":{\"colorbar\":{\"outlinewidth\":0,\"ticks\":\"\"}}}],\"bar\":[{\"error_x\":{\"color\":\"#2a3f5f\"},\"error_y\":{\"color\":\"#2a3f5f\"},\"marker\":{\"line\":{\"color\":\"#E5ECF6\",\"width\":0.5},\"pattern\":{\"fillmode\":\"overlay\",\"size\":10,\"solidity\":0.2}},\"type\":\"bar\"}],\"scattergeo\":[{\"type\":\"scattergeo\",\"marker\":{\"colorbar\":{\"outlinewidth\":0,\"ticks\":\"\"}}}],\"scatterpolar\":[{\"type\":\"scatterpolar\",\"marker\":{\"colorbar\":{\"outlinewidth\":0,\"ticks\":\"\"}}}],\"histogram\":[{\"marker\":{\"pattern\":{\"fillmode\":\"overlay\",\"size\":10,\"solidity\":0.2}},\"type\":\"histogram\"}],\"scattergl\":[{\"type\":\"scattergl\",\"marker\":{\"colorbar\":{\"outlinewidth\":0,\"ticks\":\"\"}}}],\"scatter3d\":[{\"type\":\"scatter3d\",\"line\":{\"colorbar\":{\"outlinewidth\":0,\"ticks\":\"\"}},\"marker\":{\"colorbar\":{\"outlinewidth\":0,\"ticks\":\"\"}}}],\"scattermapbox\":[{\"type\":\"scattermapbox\",\"marker\":{\"colorbar\":{\"outlinewidth\":0,\"ticks\":\"\"}}}],\"scatterternary\":[{\"type\":\"scatterternary\",\"marker\":{\"colorbar\":{\"outlinewidth\":0,\"ticks\":\"\"}}}],\"scattercarpet\":[{\"type\":\"scattercarpet\",\"marker\":{\"colorbar\":{\"outlinewidth\":0,\"ticks\":\"\"}}}],\"carpet\":[{\"aaxis\":{\"endlinecolor\":\"#2a3f5f\",\"gridcolor\":\"white\",\"linecolor\":\"white\",\"minorgridcolor\":\"white\",\"startlinecolor\":\"#2a3f5f\"},\"baxis\":{\"endlinecolor\":\"#2a3f5f\",\"gridcolor\":\"white\",\"linecolor\":\"white\",\"minorgridcolor\":\"white\",\"startlinecolor\":\"#2a3f5f\"},\"type\":\"carpet\"}],\"table\":[{\"cells\":{\"fill\":{\"color\":\"#EBF0F8\"},\"line\":{\"color\":\"white\"}},\"header\":{\"fill\":{\"color\":\"#C8D4E3\"},\"line\":{\"color\":\"white\"}},\"type\":\"table\"}],\"barpolar\":[{\"marker\":{\"line\":{\"color\":\"#E5ECF6\",\"width\":0.5},\"pattern\":{\"fillmode\":\"overlay\",\"size\":10,\"solidity\":0.2}},\"type\":\"barpolar\"}],\"pie\":[{\"automargin\":true,\"type\":\"pie\"}]},\"layout\":{\"autotypenumbers\":\"strict\",\"colorway\":[\"#636efa\",\"#EF553B\",\"#00cc96\",\"#ab63fa\",\"#FFA15A\",\"#19d3f3\",\"#FF6692\",\"#B6E880\",\"#FF97FF\",\"#FECB52\"],\"font\":{\"color\":\"#2a3f5f\"},\"hovermode\":\"closest\",\"hoverlabel\":{\"align\":\"left\"},\"paper_bgcolor\":\"white\",\"plot_bgcolor\":\"#E5ECF6\",\"polar\":{\"bgcolor\":\"#E5ECF6\",\"angularaxis\":{\"gridcolor\":\"white\",\"linecolor\":\"white\",\"ticks\":\"\"},\"radialaxis\":{\"gridcolor\":\"white\",\"linecolor\":\"white\",\"ticks\":\"\"}},\"ternary\":{\"bgcolor\":\"#E5ECF6\",\"aaxis\":{\"gridcolor\":\"white\",\"linecolor\":\"white\",\"ticks\":\"\"},\"baxis\":{\"gridcolor\":\"white\",\"linecolor\":\"white\",\"ticks\":\"\"},\"caxis\":{\"gridcolor\":\"white\",\"linecolor\":\"white\",\"ticks\":\"\"}},\"coloraxis\":{\"colorbar\":{\"outlinewidth\":0,\"ticks\":\"\"}},\"colorscale\":{\"sequential\":[[0.0,\"#0d0887\"],[0.1111111111111111,\"#46039f\"],[0.2222222222222222,\"#7201a8\"],[0.3333333333333333,\"#9c179e\"],[0.4444444444444444,\"#bd3786\"],[0.5555555555555556,\"#d8576b\"],[0.6666666666666666,\"#ed7953\"],[0.7777777777777778,\"#fb9f3a\"],[0.8888888888888888,\"#fdca26\"],[1.0,\"#f0f921\"]],\"sequentialminus\":[[0.0,\"#0d0887\"],[0.1111111111111111,\"#46039f\"],[0.2222222222222222,\"#7201a8\"],[0.3333333333333333,\"#9c179e\"],[0.4444444444444444,\"#bd3786\"],[0.5555555555555556,\"#d8576b\"],[0.6666666666666666,\"#ed7953\"],[0.7777777777777778,\"#fb9f3a\"],[0.8888888888888888,\"#fdca26\"],[1.0,\"#f0f921\"]],\"diverging\":[[0,\"#8e0152\"],[0.1,\"#c51b7d\"],[0.2,\"#de77ae\"],[0.3,\"#f1b6da\"],[0.4,\"#fde0ef\"],[0.5,\"#f7f7f7\"],[0.6,\"#e6f5d0\"],[0.7,\"#b8e186\"],[0.8,\"#7fbc41\"],[0.9,\"#4d9221\"],[1,\"#276419\"]]},\"xaxis\":{\"gridcolor\":\"white\",\"linecolor\":\"white\",\"ticks\":\"\",\"title\":{\"standoff\":15},\"zerolinecolor\":\"white\",\"automargin\":true,\"zerolinewidth\":2},\"yaxis\":{\"gridcolor\":\"white\",\"linecolor\":\"white\",\"ticks\":\"\",\"title\":{\"standoff\":15},\"zerolinecolor\":\"white\",\"automargin\":true,\"zerolinewidth\":2},\"scene\":{\"xaxis\":{\"backgroundcolor\":\"#E5ECF6\",\"gridcolor\":\"white\",\"linecolor\":\"white\",\"showbackground\":true,\"ticks\":\"\",\"zerolinecolor\":\"white\",\"gridwidth\":2},\"yaxis\":{\"backgroundcolor\":\"#E5ECF6\",\"gridcolor\":\"white\",\"linecolor\":\"white\",\"showbackground\":true,\"ticks\":\"\",\"zerolinecolor\":\"white\",\"gridwidth\":2},\"zaxis\":{\"backgroundcolor\":\"#E5ECF6\",\"gridcolor\":\"white\",\"linecolor\":\"white\",\"showbackground\":true,\"ticks\":\"\",\"zerolinecolor\":\"white\",\"gridwidth\":2}},\"shapedefaults\":{\"line\":{\"color\":\"#2a3f5f\"}},\"annotationdefaults\":{\"arrowcolor\":\"#2a3f5f\",\"arrowhead\":0,\"arrowwidth\":1},\"geo\":{\"bgcolor\":\"white\",\"landcolor\":\"#E5ECF6\",\"subunitcolor\":\"white\",\"showland\":true,\"showlakes\":true,\"lakecolor\":\"white\"},\"title\":{\"x\":0.05},\"mapbox\":{\"style\":\"light\"}}},\"coloraxis\":{\"colorbar\":{\"title\":{\"text\":\"Profit\"}},\"colorscale\":[[0.0,\"rgb(103,0,31)\"],[0.1,\"rgb(178,24,43)\"],[0.2,\"rgb(214,96,77)\"],[0.3,\"rgb(244,165,130)\"],[0.4,\"rgb(253,219,199)\"],[0.5,\"rgb(247,247,247)\"],[0.6,\"rgb(209,229,240)\"],[0.7,\"rgb(146,197,222)\"],[0.8,\"rgb(67,147,195)\"],[0.9,\"rgb(33,102,172)\"],[1.0,\"rgb(5,48,97)\"]],\"cmid\":0},\"legend\":{\"tracegroupgap\":0},\"margin\":{\"t\":60},\"height\":600,\"width\":1000},                        {\"responsive\": true}                    ).then(function(){\n",
       "                            \n",
       "var gd = document.getElementById('8e756a66-8d2a-46a0-b1e4-f24617c1c582');\n",
       "var x = new MutationObserver(function (mutations, observer) {{\n",
       "        var display = window.getComputedStyle(gd).display;\n",
       "        if (!display || display === 'none') {{\n",
       "            console.log([gd, 'removed!']);\n",
       "            Plotly.purge(gd);\n",
       "            observer.disconnect();\n",
       "        }}\n",
       "}});\n",
       "\n",
       "// Listen for the removal of the full notebook cells\n",
       "var notebookContainer = gd.closest('#notebook-container');\n",
       "if (notebookContainer) {{\n",
       "    x.observe(notebookContainer, {childList: true});\n",
       "}}\n",
       "\n",
       "// Listen for the clearing of the current output cell\n",
       "var outputEl = gd.closest('.output');\n",
       "if (outputEl) {{\n",
       "    x.observe(outputEl, {childList: true});\n",
       "}}\n",
       "\n",
       "                        })                };                });            </script>        </div>"
      ]
     },
     "metadata": {},
     "output_type": "display_data"
    }
   ],
   "source": [
    "fig = px.sunburst(df, path=['Category','Region'], values='Quantity',\n",
    "                  color='Profit', \n",
    "                  color_continuous_scale='RdBu',\n",
    "                  color_continuous_midpoint=0,\n",
    "                  width=1000, height=600)\n",
    "fig.show()"
   ]
  },
  {
   "cell_type": "markdown",
   "id": "9f4167a5-7b9f-43cf-ad8e-50bbbf0e0f36",
   "metadata": {
    "tags": []
   },
   "source": [
    "**Nhận xét:**\n",
    "- Nhìn chung, tất cả các mặt hàng đều có lợi nhuận dương, nhưng ngoài Technology, tổng lợi nhuận của Furniture và Office Supplies không cao lắm.\n",
    "- Trong 3 loại mặt hàng, Technology là có lợi nhuận cao nhất và rất vượt trội so với các loại mặt hàng còn lại (trên 100, gấp gần 5 lần Office supplies và gấp gần 8 lần Furniture), mặc dù số lượng bán ra là thấp nhất.\n",
    "    - Công nghệ giúp tăng năng xuất làm việc cho các công ty.\n",
    "    - Lý do là do nguồn cung và nhu cầu sử dụng các sản phẩm công nghệ đang rất cao. Nhu cầu ngày càng cao góp phần nâng cấp sự cạnh tranh, và không ngừng xuất hiện những sản phẩm mới. Thêm nữa, công nghệ là ngành đang rất phát triển, tác động của công nghệ sẽ khiến cho nó có lãi và là thị trường hấp dẫn thu hút các nhà đầu tư, các doanh nghiệp cũng như người lao động.\n",
    "- Technology ở East region cho giá trị lợi nhuận cao nhất. Một vài lý do dự đoán:\n",
    "    - Thị trường ở East coast có điều kiện phát triển. Đây là nơi có các thành phố lớn: Boston, New York; Nơi có các đại học danh giá về khoa học công nghệ: MIT, Harvard, Yale. \n",
    "- Số lượng bán ra của Office Supplies rất cao, gấp hơn 1.5 lần so với tổng số lượng hai mặt hàng còn lại. </br>\n",
    "    => Mặt hàng này dễ bán nhưng lợi nhuận thu được chỉ ở mức trung bình."
   ]
  },
  {
   "cell_type": "markdown",
   "id": "31f01869-e29d-4473-9ad5-14dd9c3afa6c",
   "metadata": {},
   "source": [
    "**Kỹ thuật trực quan sử dụng:**\n",
    "\n",
    "- ***Màu sắc***: dùng màu sắc để thể hiện cho lợi nhuận từ thấp đến cao (các giá trị dương và âm):\n",
    "    - Màu đỏ: ngày có lợi nhuận âm.\n",
    "    - Màu xanh: ngày có lợi nhuận dương.\n",
    "    - Các màu sắc có sắc độ càng xanh đậm, lợi nhuận càng cao; càng đỏ đậm, lợi nhuận càng thấp.\n",
    "    \n",
    "- ***Kỹ thuật Manipulate View:***\n",
    "  + Tương tác trực tiếp với tooltip, hiển thị các giá trị về Quantity và Profit khi trỏ vào đối tượng.\n",
    "  + Cho phép người dùng khi bấm chọn một đối tượng cha, sẽ hiển thị một view mới thể hiện tỉ lệ phần trăm của các đối tượng con của nó.\n",
    "      VD: Bấm chọn West -> hiển thị một view mới, với vòng tròn trong là Technology, 4 region chia nhau vòng tròn ngoài để hiển thị giá trị.\n",
    "  \n",
    "=> Những kỹ thuật này giúp đồ thị vẫn giữ được sự rõ ràng, trực quan, tương tác thân thiện."
   ]
  },
  {
   "cell_type": "markdown",
   "id": "6d6af0c5-14c5-41d5-91bc-f6b44a40d3c1",
   "metadata": {
    "tags": []
   },
   "source": [
    "## Biểu đồ 2:\n",
    "**Tiêu đề:** So sánh số lượng đơn đặt hàng 2 năm gần nhất\n",
    "\n",
    "**Loại biểu đồ:** Choropleth\n",
    "\n",
    "**Lý do lựa chọn:** dùng biểu đồ Choropleth để thể hiện sự tăng/giảm về số lượng đặt hàng của các bang so với năm kề trước thông qua phép tính tỉ lệ.\n",
    "\n",
    "**Trực quan hóa:**"
   ]
  },
  {
   "cell_type": "code",
   "execution_count": 146,
   "id": "9e383144-e7d5-492d-bf91-a3c1dde19e2a",
   "metadata": {
    "tags": []
   },
   "outputs": [
    {
     "data": {
      "text/plain": [
       "(49, 2)"
      ]
     },
     "execution_count": 146,
     "metadata": {},
     "output_type": "execute_result"
    }
   ],
   "source": [
    "# Manage datatype\n",
    "df2 = df.copy()\n",
    "# Change data type of order data, get the year to a new column\n",
    "df2['Order Date'] = df['Order Date'].astype('datetime64[ns]')\n",
    "df2['Year'] = df2['Order Date'].dt.year\n",
    "df2['Month'] = df2['Order Date'].dt.month\n",
    "df2['Day'] = df2['Order Date'].dt.day\n",
    "df_year = df2[(df2['Year'] == 2017) | (df2['Year'] == 2016)][['State', 'Year']]\n",
    "df_2016 = df_year[df_year.Year == 2016].groupby('State').size()\n",
    "df_2017 = df_year[df_year.Year == 2017].groupby('State').size()\n",
    "# create new df include the numbers of orders in the 2 years: 2016, 2017\n",
    "df_cmp = pd.concat([df_2016, df_2017], axis = 1)\n",
    "df_cmp = df_cmp.rename(columns = {0:'2016', 1:'2017'})\n",
    "df_cmp.shape"
   ]
  },
  {
   "cell_type": "code",
   "execution_count": 147,
   "id": "dc21c7cd-fd8a-4b6f-8e69-fe58fe6a6a41",
   "metadata": {
    "tags": []
   },
   "outputs": [],
   "source": [
    "# fill na data\n",
    "## how: here if both column 2016, 2017 are nan => we ignore that state\n",
    "## else, we fill the nan value by mean of value in its neighbor states relevent values.\n",
    "df_cmp.loc[ 'Wyoming','2016'] = (df_cmp.loc[ 'Idaho','2016'] + df_cmp.loc[ 'Utah','2016'] + df_cmp.loc[ 'Colorado','2016'] + df_cmp.loc[ 'Nebraska','2016']) / 4\n",
    "df_cmp.loc[ 'Wyoming','2017'] = (df_cmp.loc[ 'Idaho','2017'] + df_cmp.loc[ 'Utah','2017'] + df_cmp.loc[ 'Colorado','2017'] + df_cmp.loc[ 'Nebraska','2017']) / 4\n",
    "df_cmp.loc[ 'South Dakota','2016'] = (df_cmp.loc[ 'Wyoming','2016'] + df_cmp.loc[ 'Nebraska','2016'] + df_cmp.loc[ 'Iowa','2016'] + df_cmp.loc[ 'Minnesota','2016']) / 4\n",
    "df_cmp.loc[ 'Montana','2016'] = (df_cmp.loc[ 'Idaho','2016'] + df_cmp.loc[ 'Wyoming','2016'] + df_cmp.loc[ 'South Dakota','2016']) / 3\n",
    "df_cmp.loc[ 'North Dakota','2016'] = (df_cmp.loc[ 'Montana','2016'] + df_cmp.loc[ 'Wyoming','2016'] + df_cmp.loc[ 'South Dakota','2016'] + df_cmp.loc[ 'Minnesota','2016']) / 4\n",
    "df_cmp.loc[ 'West Virginia','2016'] = (df_cmp.loc[ 'Ohio','2016'] + df_cmp.loc[ 'Kentucky','2016'] + df_cmp.loc[ 'Virginia','2016'] + df_cmp.loc[ 'Maryland','2016'] + df_cmp.loc[ 'Pennsylvania','2016']) / 4\n",
    "df_cmp.loc[ 'Maine','2017'] = (df_cmp.loc[ 'Vermont','2016'] + df_cmp.loc[ 'New Hampshire','2016']) / 2\n",
    "\n",
    "# calculate the increase/decrease order rate\n",
    "df_cmp['rate'] = (df_cmp['2017'] / df_cmp['2016'] - 1).round(1)\n",
    "df_cmp = df_cmp.reset_index()"
   ]
  },
  {
   "cell_type": "code",
   "execution_count": 148,
   "id": "070bcd90-815a-41c0-945e-4498a89034db",
   "metadata": {},
   "outputs": [],
   "source": [
    "code = {'Alabama': 'AL',\n",
    "        'Alaska': 'AK',\n",
    "        'Arizona': 'AZ',\n",
    "        'Arkansas': 'AR',\n",
    "        'California': 'CA',\n",
    "        'Colorado': 'CO',\n",
    "        'Connecticut': 'CT',\n",
    "        'Delaware': 'DE',\n",
    "        'District of Columbia': 'DC',\n",
    "        'Florida': 'FL',\n",
    "        'Georgia': 'GA',\n",
    "        'Hawaii': 'HI',\n",
    "        'Idaho': 'ID',\n",
    "        'Illinois': 'IL',\n",
    "        'Indiana': 'IN',\n",
    "        'Iowa': 'IA',\n",
    "        'Kansas': 'KS',\n",
    "        'Kentucky': 'KY',\n",
    "        'Louisiana': 'LA',\n",
    "        'Maine': 'ME',\n",
    "        'Maryland': 'MD',\n",
    "        'Massachusetts': 'MA',\n",
    "        'Michigan': 'MI',\n",
    "        'Minnesota': 'MN',\n",
    "        'Mississippi': 'MS',\n",
    "        'Missouri': 'MO',\n",
    "        'Montana': 'MT',\n",
    "        'Nebraska': 'NE',\n",
    "        'Nevada': 'NV',\n",
    "        'New Hampshire': 'NH',\n",
    "        'New Jersey': 'NJ',\n",
    "        'New Mexico': 'NM',\n",
    "        'New York': 'NY',\n",
    "        'North Carolina': 'NC',\n",
    "        'North Dakota': 'ND',\n",
    "        'Ohio': 'OH',\n",
    "        'Oklahoma': 'OK',\n",
    "        'Oregon': 'OR',\n",
    "        'Pennsylvania': 'PA',\n",
    "        'Rhode Island': 'RI',\n",
    "        'South Carolina': 'SC',\n",
    "        'South Dakota': 'SD',\n",
    "        'Tennessee': 'TN',\n",
    "        'Texas': 'TX',\n",
    "        'Utah': 'UT',\n",
    "        'Vermont': 'VT',\n",
    "        'Virginia': 'VA',\n",
    "        'Washington': 'WA',\n",
    "        'West Virginia': 'WV',\n",
    "        'Wisconsin': 'WI',\n",
    "        'Wyoming': 'WY'}"
   ]
  },
  {
   "cell_type": "code",
   "execution_count": 149,
   "id": "316677df-5418-4024-9745-8fb2f5a3b04a",
   "metadata": {
    "tags": []
   },
   "outputs": [
    {
     "data": {
      "application/vnd.plotly.v1+json": {
       "config": {
        "plotlyServerURL": "https://plot.ly"
       },
       "data": [
        {
         "coloraxis": "coloraxis",
         "customdata": [
          [
           19,
           16,
           -0.2
          ],
          [
           43,
           70,
           0.6
          ],
          [
           20,
           19,
           -0.1
          ],
          [
           526,
           663,
           0.3
          ],
          [
           52,
           61,
           0.2
          ],
          [
           22,
           34,
           0.5
          ],
          [
           24,
           19,
           -0.2
          ],
          [
           5,
           2,
           -0.6
          ],
          [
           86,
           126,
           0.5
          ],
          [
           53,
           62,
           0.2
          ],
          [
           4,
           8,
           1
          ],
          [
           121,
           172,
           0.4
          ],
          [
           35,
           61,
           0.7
          ],
          [
           8,
           16,
           1
          ],
          [
           7,
           6,
           -0.1
          ],
          [
           22,
           51,
           1.3
          ],
          [
           5,
           14,
           1.8
          ],
          [
           2,
           5,
           1.5
          ],
          [
           25,
           37,
           0.5
          ],
          [
           24,
           39,
           0.6
          ],
          [
           71,
           67,
           -0.1
          ],
          [
           8,
           38,
           3.8
          ],
          [
           23,
           13,
           -0.4
          ],
          [
           14,
           26,
           0.9
          ],
          [
           15,
           10,
           -0.3
          ],
          [
           10,
           6,
           -0.4
          ],
          [
           6,
           7,
           0.2
          ],
          [
           49,
           43,
           -0.1
          ],
          [
           4,
           22,
           4.5
          ],
          [
           320,
           352,
           0.1
          ],
          [
           74,
           85,
           0.1
          ],
          [
           132,
           161,
           0.2
          ],
          [
           32,
           17,
           -0.5
          ],
          [
           35,
           30,
           -0.1
          ],
          [
           138,
           197,
           0.4
          ],
          [
           15,
           21,
           0.4
          ],
          [
           11,
           8,
           -0.3
          ],
          [
           39,
           81,
           1.1
          ],
          [
           248,
           317,
           0.3
          ],
          [
           8,
           15,
           0.9
          ],
          [
           4,
           5,
           0.2
          ],
          [
           61,
           43,
           -0.3
          ],
          [
           122,
           215,
           0.8
          ],
          [
           44,
           33,
           -0.2
          ],
          [
           19.75,
           23.5,
           0.2
          ],
          [
           12.145833333333334,
           5,
           -0.6
          ],
          [
           13.145833333333334,
           7,
           -0.5
          ],
          [
           12.6875,
           8,
           -0.4
          ],
          [
           94.5,
           4,
           -1
          ]
         ],
         "geo": "geo",
         "hovertemplate": "<b>%{hovertext}</b><br><br>Code=%{location}<br>2016=%{customdata[0]}<br>2017=%{customdata[1]}<br>rate=%{z}<extra></extra>",
         "hovertext": [
          "Alabama",
          "Arizona",
          "Arkansas",
          "California",
          "Colorado",
          "Connecticut",
          "Delaware",
          "District of Columbia",
          "Florida",
          "Georgia",
          "Idaho",
          "Illinois",
          "Indiana",
          "Iowa",
          "Kansas",
          "Kentucky",
          "Louisiana",
          "Maine",
          "Maryland",
          "Massachusetts",
          "Michigan",
          "Minnesota",
          "Mississippi",
          "Missouri",
          "Nebraska",
          "Nevada",
          "New Hampshire",
          "New Jersey",
          "New Mexico",
          "New York",
          "North Carolina",
          "Ohio",
          "Oklahoma",
          "Oregon",
          "Pennsylvania",
          "Rhode Island",
          "South Carolina",
          "Tennessee",
          "Texas",
          "Utah",
          "Vermont",
          "Virginia",
          "Washington",
          "Wisconsin",
          "Wyoming",
          "Montana",
          "North Dakota",
          "South Dakota",
          "West Virginia"
         ],
         "locationmode": "USA-states",
         "locations": [
          "AL",
          "AZ",
          "AR",
          "CA",
          "CO",
          "CT",
          "DE",
          "DC",
          "FL",
          "GA",
          "ID",
          "IL",
          "IN",
          "IA",
          "KS",
          "KY",
          "LA",
          "ME",
          "MD",
          "MA",
          "MI",
          "MN",
          "MS",
          "MO",
          "NE",
          "NV",
          "NH",
          "NJ",
          "NM",
          "NY",
          "NC",
          "OH",
          "OK",
          "OR",
          "PA",
          "RI",
          "SC",
          "TN",
          "TX",
          "UT",
          "VT",
          "VA",
          "WA",
          "WI",
          "WY",
          "MT",
          "ND",
          "SD",
          "WV"
         ],
         "name": "",
         "type": "choropleth",
         "z": [
          -0.2,
          0.6,
          -0.1,
          0.3,
          0.2,
          0.5,
          -0.2,
          -0.6,
          0.5,
          0.2,
          1,
          0.4,
          0.7,
          1,
          -0.1,
          1.3,
          1.8,
          1.5,
          0.5,
          0.6,
          -0.1,
          3.8,
          -0.4,
          0.9,
          -0.3,
          -0.4,
          0.2,
          -0.1,
          4.5,
          0.1,
          0.1,
          0.2,
          -0.5,
          -0.1,
          0.4,
          0.4,
          -0.3,
          1.1,
          0.3,
          0.9,
          0.2,
          -0.3,
          0.8,
          -0.2,
          0.2,
          -0.6,
          -0.5,
          -0.4,
          -1
         ]
        },
        {
         "fillcolor": "white",
         "locationmode": "USA-states",
         "locations": [
          "AL",
          "AZ",
          "AR",
          "CA",
          "CO",
          "CT",
          "DE",
          "DC",
          "FL",
          "GA",
          "ID",
          "IL",
          "IN",
          "IA",
          "KS",
          "KY",
          "LA",
          "ME",
          "MD",
          "MA",
          "MI",
          "MN",
          "MS",
          "MO",
          "NE",
          "NV",
          "NH",
          "NJ",
          "NM",
          "NY",
          "NC",
          "OH",
          "OK",
          "OR",
          "PA",
          "RI",
          "SC",
          "TN",
          "TX",
          "UT",
          "VT",
          "VA",
          "WA",
          "WI",
          "WY",
          "MT",
          "ND",
          "SD",
          "WV"
         ],
         "mode": "text",
         "text": [
          -0.2,
          0.6,
          -0.1,
          0.3,
          0.2,
          0.5,
          -0.2,
          -0.6,
          0.5,
          0.2,
          1,
          0.4,
          0.7,
          1,
          -0.1,
          1.3,
          1.8,
          1.5,
          0.5,
          0.6,
          -0.1,
          3.8,
          -0.4,
          0.9,
          -0.3,
          -0.4,
          0.2,
          -0.1,
          4.5,
          0.1,
          0.1,
          0.2,
          -0.5,
          -0.1,
          0.4,
          0.4,
          -0.3,
          1.1,
          0.3,
          0.9,
          0.2,
          -0.3,
          0.8,
          -0.2,
          0.2,
          -0.6,
          -0.5,
          -0.4,
          -1
         ],
         "type": "scattergeo"
        }
       ],
       "layout": {
        "coloraxis": {
         "colorbar": {
          "title": {
           "text": "rate"
          }
         },
         "colorscale": [
          [
           0,
           "rgb(94,79,162)"
          ],
          [
           0.1,
           "rgb(50,136,189)"
          ],
          [
           0.2,
           "rgb(102,194,165)"
          ],
          [
           0.3,
           "rgb(171,221,164)"
          ],
          [
           0.4,
           "rgb(230,245,152)"
          ],
          [
           0.5,
           "rgb(255,255,191)"
          ],
          [
           0.6,
           "rgb(254,224,139)"
          ],
          [
           0.7,
           "rgb(253,174,97)"
          ],
          [
           0.8,
           "rgb(244,109,67)"
          ],
          [
           0.9,
           "rgb(213,62,79)"
          ],
          [
           1,
           "rgb(158,1,66)"
          ]
         ]
        },
        "geo": {
         "center": {},
         "domain": {
          "x": [
           0,
           1
          ],
          "y": [
           0,
           1
          ]
         },
         "scope": "usa"
        },
        "height": 600,
        "legend": {
         "tracegroupgap": 0
        },
        "margin": {
         "t": 60
        },
        "template": {
         "data": {
          "bar": [
           {
            "error_x": {
             "color": "#2a3f5f"
            },
            "error_y": {
             "color": "#2a3f5f"
            },
            "marker": {
             "line": {
              "color": "#E5ECF6",
              "width": 0.5
             },
             "pattern": {
              "fillmode": "overlay",
              "size": 10,
              "solidity": 0.2
             }
            },
            "type": "bar"
           }
          ],
          "barpolar": [
           {
            "marker": {
             "line": {
              "color": "#E5ECF6",
              "width": 0.5
             },
             "pattern": {
              "fillmode": "overlay",
              "size": 10,
              "solidity": 0.2
             }
            },
            "type": "barpolar"
           }
          ],
          "carpet": [
           {
            "aaxis": {
             "endlinecolor": "#2a3f5f",
             "gridcolor": "white",
             "linecolor": "white",
             "minorgridcolor": "white",
             "startlinecolor": "#2a3f5f"
            },
            "baxis": {
             "endlinecolor": "#2a3f5f",
             "gridcolor": "white",
             "linecolor": "white",
             "minorgridcolor": "white",
             "startlinecolor": "#2a3f5f"
            },
            "type": "carpet"
           }
          ],
          "choropleth": [
           {
            "colorbar": {
             "outlinewidth": 0,
             "ticks": ""
            },
            "type": "choropleth"
           }
          ],
          "contour": [
           {
            "colorbar": {
             "outlinewidth": 0,
             "ticks": ""
            },
            "colorscale": [
             [
              0,
              "#0d0887"
             ],
             [
              0.1111111111111111,
              "#46039f"
             ],
             [
              0.2222222222222222,
              "#7201a8"
             ],
             [
              0.3333333333333333,
              "#9c179e"
             ],
             [
              0.4444444444444444,
              "#bd3786"
             ],
             [
              0.5555555555555556,
              "#d8576b"
             ],
             [
              0.6666666666666666,
              "#ed7953"
             ],
             [
              0.7777777777777778,
              "#fb9f3a"
             ],
             [
              0.8888888888888888,
              "#fdca26"
             ],
             [
              1,
              "#f0f921"
             ]
            ],
            "type": "contour"
           }
          ],
          "contourcarpet": [
           {
            "colorbar": {
             "outlinewidth": 0,
             "ticks": ""
            },
            "type": "contourcarpet"
           }
          ],
          "heatmap": [
           {
            "colorbar": {
             "outlinewidth": 0,
             "ticks": ""
            },
            "colorscale": [
             [
              0,
              "#0d0887"
             ],
             [
              0.1111111111111111,
              "#46039f"
             ],
             [
              0.2222222222222222,
              "#7201a8"
             ],
             [
              0.3333333333333333,
              "#9c179e"
             ],
             [
              0.4444444444444444,
              "#bd3786"
             ],
             [
              0.5555555555555556,
              "#d8576b"
             ],
             [
              0.6666666666666666,
              "#ed7953"
             ],
             [
              0.7777777777777778,
              "#fb9f3a"
             ],
             [
              0.8888888888888888,
              "#fdca26"
             ],
             [
              1,
              "#f0f921"
             ]
            ],
            "type": "heatmap"
           }
          ],
          "heatmapgl": [
           {
            "colorbar": {
             "outlinewidth": 0,
             "ticks": ""
            },
            "colorscale": [
             [
              0,
              "#0d0887"
             ],
             [
              0.1111111111111111,
              "#46039f"
             ],
             [
              0.2222222222222222,
              "#7201a8"
             ],
             [
              0.3333333333333333,
              "#9c179e"
             ],
             [
              0.4444444444444444,
              "#bd3786"
             ],
             [
              0.5555555555555556,
              "#d8576b"
             ],
             [
              0.6666666666666666,
              "#ed7953"
             ],
             [
              0.7777777777777778,
              "#fb9f3a"
             ],
             [
              0.8888888888888888,
              "#fdca26"
             ],
             [
              1,
              "#f0f921"
             ]
            ],
            "type": "heatmapgl"
           }
          ],
          "histogram": [
           {
            "marker": {
             "pattern": {
              "fillmode": "overlay",
              "size": 10,
              "solidity": 0.2
             }
            },
            "type": "histogram"
           }
          ],
          "histogram2d": [
           {
            "colorbar": {
             "outlinewidth": 0,
             "ticks": ""
            },
            "colorscale": [
             [
              0,
              "#0d0887"
             ],
             [
              0.1111111111111111,
              "#46039f"
             ],
             [
              0.2222222222222222,
              "#7201a8"
             ],
             [
              0.3333333333333333,
              "#9c179e"
             ],
             [
              0.4444444444444444,
              "#bd3786"
             ],
             [
              0.5555555555555556,
              "#d8576b"
             ],
             [
              0.6666666666666666,
              "#ed7953"
             ],
             [
              0.7777777777777778,
              "#fb9f3a"
             ],
             [
              0.8888888888888888,
              "#fdca26"
             ],
             [
              1,
              "#f0f921"
             ]
            ],
            "type": "histogram2d"
           }
          ],
          "histogram2dcontour": [
           {
            "colorbar": {
             "outlinewidth": 0,
             "ticks": ""
            },
            "colorscale": [
             [
              0,
              "#0d0887"
             ],
             [
              0.1111111111111111,
              "#46039f"
             ],
             [
              0.2222222222222222,
              "#7201a8"
             ],
             [
              0.3333333333333333,
              "#9c179e"
             ],
             [
              0.4444444444444444,
              "#bd3786"
             ],
             [
              0.5555555555555556,
              "#d8576b"
             ],
             [
              0.6666666666666666,
              "#ed7953"
             ],
             [
              0.7777777777777778,
              "#fb9f3a"
             ],
             [
              0.8888888888888888,
              "#fdca26"
             ],
             [
              1,
              "#f0f921"
             ]
            ],
            "type": "histogram2dcontour"
           }
          ],
          "mesh3d": [
           {
            "colorbar": {
             "outlinewidth": 0,
             "ticks": ""
            },
            "type": "mesh3d"
           }
          ],
          "parcoords": [
           {
            "line": {
             "colorbar": {
              "outlinewidth": 0,
              "ticks": ""
             }
            },
            "type": "parcoords"
           }
          ],
          "pie": [
           {
            "automargin": true,
            "type": "pie"
           }
          ],
          "scatter": [
           {
            "fillpattern": {
             "fillmode": "overlay",
             "size": 10,
             "solidity": 0.2
            },
            "type": "scatter"
           }
          ],
          "scatter3d": [
           {
            "line": {
             "colorbar": {
              "outlinewidth": 0,
              "ticks": ""
             }
            },
            "marker": {
             "colorbar": {
              "outlinewidth": 0,
              "ticks": ""
             }
            },
            "type": "scatter3d"
           }
          ],
          "scattercarpet": [
           {
            "marker": {
             "colorbar": {
              "outlinewidth": 0,
              "ticks": ""
             }
            },
            "type": "scattercarpet"
           }
          ],
          "scattergeo": [
           {
            "marker": {
             "colorbar": {
              "outlinewidth": 0,
              "ticks": ""
             }
            },
            "type": "scattergeo"
           }
          ],
          "scattergl": [
           {
            "marker": {
             "colorbar": {
              "outlinewidth": 0,
              "ticks": ""
             }
            },
            "type": "scattergl"
           }
          ],
          "scattermapbox": [
           {
            "marker": {
             "colorbar": {
              "outlinewidth": 0,
              "ticks": ""
             }
            },
            "type": "scattermapbox"
           }
          ],
          "scatterpolar": [
           {
            "marker": {
             "colorbar": {
              "outlinewidth": 0,
              "ticks": ""
             }
            },
            "type": "scatterpolar"
           }
          ],
          "scatterpolargl": [
           {
            "marker": {
             "colorbar": {
              "outlinewidth": 0,
              "ticks": ""
             }
            },
            "type": "scatterpolargl"
           }
          ],
          "scatterternary": [
           {
            "marker": {
             "colorbar": {
              "outlinewidth": 0,
              "ticks": ""
             }
            },
            "type": "scatterternary"
           }
          ],
          "surface": [
           {
            "colorbar": {
             "outlinewidth": 0,
             "ticks": ""
            },
            "colorscale": [
             [
              0,
              "#0d0887"
             ],
             [
              0.1111111111111111,
              "#46039f"
             ],
             [
              0.2222222222222222,
              "#7201a8"
             ],
             [
              0.3333333333333333,
              "#9c179e"
             ],
             [
              0.4444444444444444,
              "#bd3786"
             ],
             [
              0.5555555555555556,
              "#d8576b"
             ],
             [
              0.6666666666666666,
              "#ed7953"
             ],
             [
              0.7777777777777778,
              "#fb9f3a"
             ],
             [
              0.8888888888888888,
              "#fdca26"
             ],
             [
              1,
              "#f0f921"
             ]
            ],
            "type": "surface"
           }
          ],
          "table": [
           {
            "cells": {
             "fill": {
              "color": "#EBF0F8"
             },
             "line": {
              "color": "white"
             }
            },
            "header": {
             "fill": {
              "color": "#C8D4E3"
             },
             "line": {
              "color": "white"
             }
            },
            "type": "table"
           }
          ]
         },
         "layout": {
          "annotationdefaults": {
           "arrowcolor": "#2a3f5f",
           "arrowhead": 0,
           "arrowwidth": 1
          },
          "autotypenumbers": "strict",
          "coloraxis": {
           "colorbar": {
            "outlinewidth": 0,
            "ticks": ""
           }
          },
          "colorscale": {
           "diverging": [
            [
             0,
             "#8e0152"
            ],
            [
             0.1,
             "#c51b7d"
            ],
            [
             0.2,
             "#de77ae"
            ],
            [
             0.3,
             "#f1b6da"
            ],
            [
             0.4,
             "#fde0ef"
            ],
            [
             0.5,
             "#f7f7f7"
            ],
            [
             0.6,
             "#e6f5d0"
            ],
            [
             0.7,
             "#b8e186"
            ],
            [
             0.8,
             "#7fbc41"
            ],
            [
             0.9,
             "#4d9221"
            ],
            [
             1,
             "#276419"
            ]
           ],
           "sequential": [
            [
             0,
             "#0d0887"
            ],
            [
             0.1111111111111111,
             "#46039f"
            ],
            [
             0.2222222222222222,
             "#7201a8"
            ],
            [
             0.3333333333333333,
             "#9c179e"
            ],
            [
             0.4444444444444444,
             "#bd3786"
            ],
            [
             0.5555555555555556,
             "#d8576b"
            ],
            [
             0.6666666666666666,
             "#ed7953"
            ],
            [
             0.7777777777777778,
             "#fb9f3a"
            ],
            [
             0.8888888888888888,
             "#fdca26"
            ],
            [
             1,
             "#f0f921"
            ]
           ],
           "sequentialminus": [
            [
             0,
             "#0d0887"
            ],
            [
             0.1111111111111111,
             "#46039f"
            ],
            [
             0.2222222222222222,
             "#7201a8"
            ],
            [
             0.3333333333333333,
             "#9c179e"
            ],
            [
             0.4444444444444444,
             "#bd3786"
            ],
            [
             0.5555555555555556,
             "#d8576b"
            ],
            [
             0.6666666666666666,
             "#ed7953"
            ],
            [
             0.7777777777777778,
             "#fb9f3a"
            ],
            [
             0.8888888888888888,
             "#fdca26"
            ],
            [
             1,
             "#f0f921"
            ]
           ]
          },
          "colorway": [
           "#636efa",
           "#EF553B",
           "#00cc96",
           "#ab63fa",
           "#FFA15A",
           "#19d3f3",
           "#FF6692",
           "#B6E880",
           "#FF97FF",
           "#FECB52"
          ],
          "font": {
           "color": "#2a3f5f"
          },
          "geo": {
           "bgcolor": "white",
           "lakecolor": "white",
           "landcolor": "#E5ECF6",
           "showlakes": true,
           "showland": true,
           "subunitcolor": "white"
          },
          "hoverlabel": {
           "align": "left"
          },
          "hovermode": "closest",
          "mapbox": {
           "style": "light"
          },
          "paper_bgcolor": "white",
          "plot_bgcolor": "#E5ECF6",
          "polar": {
           "angularaxis": {
            "gridcolor": "white",
            "linecolor": "white",
            "ticks": ""
           },
           "bgcolor": "#E5ECF6",
           "radialaxis": {
            "gridcolor": "white",
            "linecolor": "white",
            "ticks": ""
           }
          },
          "scene": {
           "xaxis": {
            "backgroundcolor": "#E5ECF6",
            "gridcolor": "white",
            "gridwidth": 2,
            "linecolor": "white",
            "showbackground": true,
            "ticks": "",
            "zerolinecolor": "white"
           },
           "yaxis": {
            "backgroundcolor": "#E5ECF6",
            "gridcolor": "white",
            "gridwidth": 2,
            "linecolor": "white",
            "showbackground": true,
            "ticks": "",
            "zerolinecolor": "white"
           },
           "zaxis": {
            "backgroundcolor": "#E5ECF6",
            "gridcolor": "white",
            "gridwidth": 2,
            "linecolor": "white",
            "showbackground": true,
            "ticks": "",
            "zerolinecolor": "white"
           }
          },
          "shapedefaults": {
           "line": {
            "color": "#2a3f5f"
           }
          },
          "ternary": {
           "aaxis": {
            "gridcolor": "white",
            "linecolor": "white",
            "ticks": ""
           },
           "baxis": {
            "gridcolor": "white",
            "linecolor": "white",
            "ticks": ""
           },
           "bgcolor": "#E5ECF6",
           "caxis": {
            "gridcolor": "white",
            "linecolor": "white",
            "ticks": ""
           }
          },
          "title": {
           "x": 0.05
          },
          "xaxis": {
           "automargin": true,
           "gridcolor": "white",
           "linecolor": "white",
           "ticks": "",
           "title": {
            "standoff": 15
           },
           "zerolinecolor": "white",
           "zerolinewidth": 2
          },
          "yaxis": {
           "automargin": true,
           "gridcolor": "white",
           "linecolor": "white",
           "ticks": "",
           "title": {
            "standoff": 15
           },
           "zerolinecolor": "white",
           "zerolinewidth": 2
          }
         }
        },
        "title": {
         "text": "Current Order Rate by State (2017 compared to 2016)",
         "x": 0.5,
         "xanchor": "center",
         "yanchor": "top"
        },
        "width": 1000
       }
      },
      "image/png": "[encoded data removed]",
      "text/html": [
       "<div>                            <div id=\"33a696e9-aee1-4781-950e-4bfde243ddd2\" class=\"plotly-graph-div\" style=\"height:600px; width:1000px;\"></div>            <script type=\"text/javascript\">                require([\"plotly\"], function(Plotly) {                    window.PLOTLYENV=window.PLOTLYENV || {};                                    if (document.getElementById(\"33a696e9-aee1-4781-950e-4bfde243ddd2\")) {                    Plotly.newPlot(                        \"33a696e9-aee1-4781-950e-4bfde243ddd2\",                        [{\"coloraxis\":\"coloraxis\",\"customdata\":[[19.0,16.0,-0.2],[43.0,70.0,0.6],[20.0,19.0,-0.1],[526.0,663.0,0.3],[52.0,61.0,0.2],[22.0,34.0,0.5],[24.0,19.0,-0.2],[5.0,2.0,-0.6],[86.0,126.0,0.5],[53.0,62.0,0.2],[4.0,8.0,1.0],[121.0,172.0,0.4],[35.0,61.0,0.7],[8.0,16.0,1.0],[7.0,6.0,-0.1],[22.0,51.0,1.3],[5.0,14.0,1.8],[2.0,5.0,1.5],[25.0,37.0,0.5],[24.0,39.0,0.6],[71.0,67.0,-0.1],[8.0,38.0,3.8],[23.0,13.0,-0.4],[14.0,26.0,0.9],[15.0,10.0,-0.3],[10.0,6.0,-0.4],[6.0,7.0,0.2],[49.0,43.0,-0.1],[4.0,22.0,4.5],[320.0,352.0,0.1],[74.0,85.0,0.1],[132.0,161.0,0.2],[32.0,17.0,-0.5],[35.0,30.0,-0.1],[138.0,197.0,0.4],[15.0,21.0,0.4],[11.0,8.0,-0.3],[39.0,81.0,1.1],[248.0,317.0,0.3],[8.0,15.0,0.9],[4.0,5.0,0.2],[61.0,43.0,-0.3],[122.0,215.0,0.8],[44.0,33.0,-0.2],[19.75,23.5,0.2],[12.145833333333334,5.0,-0.6],[13.145833333333334,7.0,-0.5],[12.6875,8.0,-0.4],[94.5,4.0,-1.0]],\"geo\":\"geo\",\"hovertemplate\":\"<b>%{hovertext}</b><br><br>Code=%{location}<br>2016=%{customdata[0]}<br>2017=%{customdata[1]}<br>rate=%{z}<extra></extra>\",\"hovertext\":[\"Alabama\",\"Arizona\",\"Arkansas\",\"California\",\"Colorado\",\"Connecticut\",\"Delaware\",\"District of Columbia\",\"Florida\",\"Georgia\",\"Idaho\",\"Illinois\",\"Indiana\",\"Iowa\",\"Kansas\",\"Kentucky\",\"Louisiana\",\"Maine\",\"Maryland\",\"Massachusetts\",\"Michigan\",\"Minnesota\",\"Mississippi\",\"Missouri\",\"Nebraska\",\"Nevada\",\"New Hampshire\",\"New Jersey\",\"New Mexico\",\"New York\",\"North Carolina\",\"Ohio\",\"Oklahoma\",\"Oregon\",\"Pennsylvania\",\"Rhode Island\",\"South Carolina\",\"Tennessee\",\"Texas\",\"Utah\",\"Vermont\",\"Virginia\",\"Washington\",\"Wisconsin\",\"Wyoming\",\"Montana\",\"North Dakota\",\"South Dakota\",\"West Virginia\"],\"locationmode\":\"USA-states\",\"locations\":[\"AL\",\"AZ\",\"AR\",\"CA\",\"CO\",\"CT\",\"DE\",\"DC\",\"FL\",\"GA\",\"ID\",\"IL\",\"IN\",\"IA\",\"KS\",\"KY\",\"LA\",\"ME\",\"MD\",\"MA\",\"MI\",\"MN\",\"MS\",\"MO\",\"NE\",\"NV\",\"NH\",\"NJ\",\"NM\",\"NY\",\"NC\",\"OH\",\"OK\",\"OR\",\"PA\",\"RI\",\"SC\",\"TN\",\"TX\",\"UT\",\"VT\",\"VA\",\"WA\",\"WI\",\"WY\",\"MT\",\"ND\",\"SD\",\"WV\"],\"name\":\"\",\"z\":[-0.2,0.6,-0.1,0.3,0.2,0.5,-0.2,-0.6,0.5,0.2,1.0,0.4,0.7,1.0,-0.1,1.3,1.8,1.5,0.5,0.6,-0.1,3.8,-0.4,0.9,-0.3,-0.4,0.2,-0.1,4.5,0.1,0.1,0.2,-0.5,-0.1,0.4,0.4,-0.3,1.1,0.3,0.9,0.2,-0.3,0.8,-0.2,0.2,-0.6,-0.5,-0.4,-1.0],\"type\":\"choropleth\"},{\"fillcolor\":\"white\",\"locationmode\":\"USA-states\",\"locations\":[\"AL\",\"AZ\",\"AR\",\"CA\",\"CO\",\"CT\",\"DE\",\"DC\",\"FL\",\"GA\",\"ID\",\"IL\",\"IN\",\"IA\",\"KS\",\"KY\",\"LA\",\"ME\",\"MD\",\"MA\",\"MI\",\"MN\",\"MS\",\"MO\",\"NE\",\"NV\",\"NH\",\"NJ\",\"NM\",\"NY\",\"NC\",\"OH\",\"OK\",\"OR\",\"PA\",\"RI\",\"SC\",\"TN\",\"TX\",\"UT\",\"VT\",\"VA\",\"WA\",\"WI\",\"WY\",\"MT\",\"ND\",\"SD\",\"WV\"],\"mode\":\"text\",\"text\":[-0.2,0.6,-0.1,0.3,0.2,0.5,-0.2,-0.6,0.5,0.2,1.0,0.4,0.7,1.0,-0.1,1.3,1.8,1.5,0.5,0.6,-0.1,3.8,-0.4,0.9,-0.3,-0.4,0.2,-0.1,4.5,0.1,0.1,0.2,-0.5,-0.1,0.4,0.4,-0.3,1.1,0.3,0.9,0.2,-0.3,0.8,-0.2,0.2,-0.6,-0.5,-0.4,-1.0],\"type\":\"scattergeo\"}],                        {\"template\":{\"data\":{\"histogram2dcontour\":[{\"type\":\"histogram2dcontour\",\"colorbar\":{\"outlinewidth\":0,\"ticks\":\"\"},\"colorscale\":[[0.0,\"#0d0887\"],[0.1111111111111111,\"#46039f\"],[0.2222222222222222,\"#7201a8\"],[0.3333333333333333,\"#9c179e\"],[0.4444444444444444,\"#bd3786\"],[0.5555555555555556,\"#d8576b\"],[0.6666666666666666,\"#ed7953\"],[0.7777777777777778,\"#fb9f3a\"],[0.8888888888888888,\"#fdca26\"],[1.0,\"#f0f921\"]]}],\"choropleth\":[{\"type\":\"choropleth\",\"colorbar\":{\"outlinewidth\":0,\"ticks\":\"\"}}],\"histogram2d\":[{\"type\":\"histogram2d\",\"colorbar\":{\"outlinewidth\":0,\"ticks\":\"\"},\"colorscale\":[[0.0,\"#0d0887\"],[0.1111111111111111,\"#46039f\"],[0.2222222222222222,\"#7201a8\"],[0.3333333333333333,\"#9c179e\"],[0.4444444444444444,\"#bd3786\"],[0.5555555555555556,\"#d8576b\"],[0.6666666666666666,\"#ed7953\"],[0.7777777777777778,\"#fb9f3a\"],[0.8888888888888888,\"#fdca26\"],[1.0,\"#f0f921\"]]}],\"heatmap\":[{\"type\":\"heatmap\",\"colorbar\":{\"outlinewidth\":0,\"ticks\":\"\"},\"colorscale\":[[0.0,\"#0d0887\"],[0.1111111111111111,\"#46039f\"],[0.2222222222222222,\"#7201a8\"],[0.3333333333333333,\"#9c179e\"],[0.4444444444444444,\"#bd3786\"],[0.5555555555555556,\"#d8576b\"],[0.6666666666666666,\"#ed7953\"],[0.7777777777777778,\"#fb9f3a\"],[0.8888888888888888,\"#fdca26\"],[1.0,\"#f0f921\"]]}],\"heatmapgl\":[{\"type\":\"heatmapgl\",\"colorbar\":{\"outlinewidth\":0,\"ticks\":\"\"},\"colorscale\":[[0.0,\"#0d0887\"],[0.1111111111111111,\"#46039f\"],[0.2222222222222222,\"#7201a8\"],[0.3333333333333333,\"#9c179e\"],[0.4444444444444444,\"#bd3786\"],[0.5555555555555556,\"#d8576b\"],[0.6666666666666666,\"#ed7953\"],[0.7777777777777778,\"#fb9f3a\"],[0.8888888888888888,\"#fdca26\"],[1.0,\"#f0f921\"]]}],\"contourcarpet\":[{\"type\":\"contourcarpet\",\"colorbar\":{\"outlinewidth\":0,\"ticks\":\"\"}}],\"contour\":[{\"type\":\"contour\",\"colorbar\":{\"outlinewidth\":0,\"ticks\":\"\"},\"colorscale\":[[0.0,\"#0d0887\"],[0.1111111111111111,\"#46039f\"],[0.2222222222222222,\"#7201a8\"],[0.3333333333333333,\"#9c179e\"],[0.4444444444444444,\"#bd3786\"],[0.5555555555555556,\"#d8576b\"],[0.6666666666666666,\"#ed7953\"],[0.7777777777777778,\"#fb9f3a\"],[0.8888888888888888,\"#fdca26\"],[1.0,\"#f0f921\"]]}],\"surface\":[{\"type\":\"surface\",\"colorbar\":{\"outlinewidth\":0,\"ticks\":\"\"},\"colorscale\":[[0.0,\"#0d0887\"],[0.1111111111111111,\"#46039f\"],[0.2222222222222222,\"#7201a8\"],[0.3333333333333333,\"#9c179e\"],[0.4444444444444444,\"#bd3786\"],[0.5555555555555556,\"#d8576b\"],[0.6666666666666666,\"#ed7953\"],[0.7777777777777778,\"#fb9f3a\"],[0.8888888888888888,\"#fdca26\"],[1.0,\"#f0f921\"]]}],\"mesh3d\":[{\"type\":\"mesh3d\",\"colorbar\":{\"outlinewidth\":0,\"ticks\":\"\"}}],\"scatter\":[{\"fillpattern\":{\"fillmode\":\"overlay\",\"size\":10,\"solidity\":0.2},\"type\":\"scatter\"}],\"parcoords\":[{\"type\":\"parcoords\",\"line\":{\"colorbar\":{\"outlinewidth\":0,\"ticks\":\"\"}}}],\"scatterpolargl\":[{\"type\":\"scatterpolargl\",\"marker\":{\"colorbar\":{\"outlinewidth\":0,\"ticks\":\"\"}}}],\"bar\":[{\"error_x\":{\"color\":\"#2a3f5f\"},\"error_y\":{\"color\":\"#2a3f5f\"},\"marker\":{\"line\":{\"color\":\"#E5ECF6\",\"width\":0.5},\"pattern\":{\"fillmode\":\"overlay\",\"size\":10,\"solidity\":0.2}},\"type\":\"bar\"}],\"scattergeo\":[{\"type\":\"scattergeo\",\"marker\":{\"colorbar\":{\"outlinewidth\":0,\"ticks\":\"\"}}}],\"scatterpolar\":[{\"type\":\"scatterpolar\",\"marker\":{\"colorbar\":{\"outlinewidth\":0,\"ticks\":\"\"}}}],\"histogram\":[{\"marker\":{\"pattern\":{\"fillmode\":\"overlay\",\"size\":10,\"solidity\":0.2}},\"type\":\"histogram\"}],\"scattergl\":[{\"type\":\"scattergl\",\"marker\":{\"colorbar\":{\"outlinewidth\":0,\"ticks\":\"\"}}}],\"scatter3d\":[{\"type\":\"scatter3d\",\"line\":{\"colorbar\":{\"outlinewidth\":0,\"ticks\":\"\"}},\"marker\":{\"colorbar\":{\"outlinewidth\":0,\"ticks\":\"\"}}}],\"scattermapbox\":[{\"type\":\"scattermapbox\",\"marker\":{\"colorbar\":{\"outlinewidth\":0,\"ticks\":\"\"}}}],\"scatterternary\":[{\"type\":\"scatterternary\",\"marker\":{\"colorbar\":{\"outlinewidth\":0,\"ticks\":\"\"}}}],\"scattercarpet\":[{\"type\":\"scattercarpet\",\"marker\":{\"colorbar\":{\"outlinewidth\":0,\"ticks\":\"\"}}}],\"carpet\":[{\"aaxis\":{\"endlinecolor\":\"#2a3f5f\",\"gridcolor\":\"white\",\"linecolor\":\"white\",\"minorgridcolor\":\"white\",\"startlinecolor\":\"#2a3f5f\"},\"baxis\":{\"endlinecolor\":\"#2a3f5f\",\"gridcolor\":\"white\",\"linecolor\":\"white\",\"minorgridcolor\":\"white\",\"startlinecolor\":\"#2a3f5f\"},\"type\":\"carpet\"}],\"table\":[{\"cells\":{\"fill\":{\"color\":\"#EBF0F8\"},\"line\":{\"color\":\"white\"}},\"header\":{\"fill\":{\"color\":\"#C8D4E3\"},\"line\":{\"color\":\"white\"}},\"type\":\"table\"}],\"barpolar\":[{\"marker\":{\"line\":{\"color\":\"#E5ECF6\",\"width\":0.5},\"pattern\":{\"fillmode\":\"overlay\",\"size\":10,\"solidity\":0.2}},\"type\":\"barpolar\"}],\"pie\":[{\"automargin\":true,\"type\":\"pie\"}]},\"layout\":{\"autotypenumbers\":\"strict\",\"colorway\":[\"#636efa\",\"#EF553B\",\"#00cc96\",\"#ab63fa\",\"#FFA15A\",\"#19d3f3\",\"#FF6692\",\"#B6E880\",\"#FF97FF\",\"#FECB52\"],\"font\":{\"color\":\"#2a3f5f\"},\"hovermode\":\"closest\",\"hoverlabel\":{\"align\":\"left\"},\"paper_bgcolor\":\"white\",\"plot_bgcolor\":\"#E5ECF6\",\"polar\":{\"bgcolor\":\"#E5ECF6\",\"angularaxis\":{\"gridcolor\":\"white\",\"linecolor\":\"white\",\"ticks\":\"\"},\"radialaxis\":{\"gridcolor\":\"white\",\"linecolor\":\"white\",\"ticks\":\"\"}},\"ternary\":{\"bgcolor\":\"#E5ECF6\",\"aaxis\":{\"gridcolor\":\"white\",\"linecolor\":\"white\",\"ticks\":\"\"},\"baxis\":{\"gridcolor\":\"white\",\"linecolor\":\"white\",\"ticks\":\"\"},\"caxis\":{\"gridcolor\":\"white\",\"linecolor\":\"white\",\"ticks\":\"\"}},\"coloraxis\":{\"colorbar\":{\"outlinewidth\":0,\"ticks\":\"\"}},\"colorscale\":{\"sequential\":[[0.0,\"#0d0887\"],[0.1111111111111111,\"#46039f\"],[0.2222222222222222,\"#7201a8\"],[0.3333333333333333,\"#9c179e\"],[0.4444444444444444,\"#bd3786\"],[0.5555555555555556,\"#d8576b\"],[0.6666666666666666,\"#ed7953\"],[0.7777777777777778,\"#fb9f3a\"],[0.8888888888888888,\"#fdca26\"],[1.0,\"#f0f921\"]],\"sequentialminus\":[[0.0,\"#0d0887\"],[0.1111111111111111,\"#46039f\"],[0.2222222222222222,\"#7201a8\"],[0.3333333333333333,\"#9c179e\"],[0.4444444444444444,\"#bd3786\"],[0.5555555555555556,\"#d8576b\"],[0.6666666666666666,\"#ed7953\"],[0.7777777777777778,\"#fb9f3a\"],[0.8888888888888888,\"#fdca26\"],[1.0,\"#f0f921\"]],\"diverging\":[[0,\"#8e0152\"],[0.1,\"#c51b7d\"],[0.2,\"#de77ae\"],[0.3,\"#f1b6da\"],[0.4,\"#fde0ef\"],[0.5,\"#f7f7f7\"],[0.6,\"#e6f5d0\"],[0.7,\"#b8e186\"],[0.8,\"#7fbc41\"],[0.9,\"#4d9221\"],[1,\"#276419\"]]},\"xaxis\":{\"gridcolor\":\"white\",\"linecolor\":\"white\",\"ticks\":\"\",\"title\":{\"standoff\":15},\"zerolinecolor\":\"white\",\"automargin\":true,\"zerolinewidth\":2},\"yaxis\":{\"gridcolor\":\"white\",\"linecolor\":\"white\",\"ticks\":\"\",\"title\":{\"standoff\":15},\"zerolinecolor\":\"white\",\"automargin\":true,\"zerolinewidth\":2},\"scene\":{\"xaxis\":{\"backgroundcolor\":\"#E5ECF6\",\"gridcolor\":\"white\",\"linecolor\":\"white\",\"showbackground\":true,\"ticks\":\"\",\"zerolinecolor\":\"white\",\"gridwidth\":2},\"yaxis\":{\"backgroundcolor\":\"#E5ECF6\",\"gridcolor\":\"white\",\"linecolor\":\"white\",\"showbackground\":true,\"ticks\":\"\",\"zerolinecolor\":\"white\",\"gridwidth\":2},\"zaxis\":{\"backgroundcolor\":\"#E5ECF6\",\"gridcolor\":\"white\",\"linecolor\":\"white\",\"showbackground\":true,\"ticks\":\"\",\"zerolinecolor\":\"white\",\"gridwidth\":2}},\"shapedefaults\":{\"line\":{\"color\":\"#2a3f5f\"}},\"annotationdefaults\":{\"arrowcolor\":\"#2a3f5f\",\"arrowhead\":0,\"arrowwidth\":1},\"geo\":{\"bgcolor\":\"white\",\"landcolor\":\"#E5ECF6\",\"subunitcolor\":\"white\",\"showland\":true,\"showlakes\":true,\"lakecolor\":\"white\"},\"title\":{\"x\":0.05},\"mapbox\":{\"style\":\"light\"}}},\"geo\":{\"domain\":{\"x\":[0.0,1.0],\"y\":[0.0,1.0]},\"center\":{},\"scope\":\"usa\"},\"coloraxis\":{\"colorbar\":{\"title\":{\"text\":\"rate\"}},\"colorscale\":[[0.0,\"rgb(94,79,162)\"],[0.1,\"rgb(50,136,189)\"],[0.2,\"rgb(102,194,165)\"],[0.3,\"rgb(171,221,164)\"],[0.4,\"rgb(230,245,152)\"],[0.5,\"rgb(255,255,191)\"],[0.6,\"rgb(254,224,139)\"],[0.7,\"rgb(253,174,97)\"],[0.8,\"rgb(244,109,67)\"],[0.9,\"rgb(213,62,79)\"],[1.0,\"rgb(158,1,66)\"]]},\"legend\":{\"tracegroupgap\":0},\"margin\":{\"t\":60},\"height\":600,\"width\":1000,\"title\":{\"text\":\"Current Order Rate by State (2017 compared to 2016)\",\"xanchor\":\"center\",\"yanchor\":\"top\",\"x\":0.5}},                        {\"responsive\": true}                    ).then(function(){\n",
       "                            \n",
       "var gd = document.getElementById('33a696e9-aee1-4781-950e-4bfde243ddd2');\n",
       "var x = new MutationObserver(function (mutations, observer) {{\n",
       "        var display = window.getComputedStyle(gd).display;\n",
       "        if (!display || display === 'none') {{\n",
       "            console.log([gd, 'removed!']);\n",
       "            Plotly.purge(gd);\n",
       "            observer.disconnect();\n",
       "        }}\n",
       "}});\n",
       "\n",
       "// Listen for the removal of the full notebook cells\n",
       "var notebookContainer = gd.closest('#notebook-container');\n",
       "if (notebookContainer) {{\n",
       "    x.observe(notebookContainer, {childList: true});\n",
       "}}\n",
       "\n",
       "// Listen for the clearing of the current output cell\n",
       "var outputEl = gd.closest('.output');\n",
       "if (outputEl) {{\n",
       "    x.observe(outputEl, {childList: true});\n",
       "}}\n",
       "\n",
       "                        })                };                });            </script>        </div>"
      ]
     },
     "metadata": {},
     "output_type": "display_data"
    }
   ],
   "source": [
    "df_cmp['Code'] = df_cmp['State'].map(code)\n",
    "\n",
    "fig = px.choropleth(df_cmp, \n",
    "                    locations='Code',\n",
    "                    color='rate',\n",
    "                    color_continuous_scale='spectral_r',\n",
    "                    hover_name='State',\n",
    "                    hover_data = ['2016','2017','rate'],\n",
    "                    locationmode='USA-states',\n",
    "                    labels={'Rate'},\n",
    "                    scope='usa', \n",
    "                    width = 1000, height = 600)\n",
    "\n",
    "fig.add_scattergeo(\n",
    "    locations=df_cmp['Code'],\n",
    "    locationmode='USA-states',\n",
    "    text=df_cmp['rate'],\n",
    "    mode='text', fillcolor = 'white')\n",
    "fig.update_layout(\n",
    "    title={'text':'Current Order Rate by State (2017 compared to 2016)',\n",
    "           'xanchor':'center',\n",
    "           'yanchor':'top',\n",
    "           'x':0.5})\n",
    "\n",
    "fig.show()\n"
   ]
  },
  {
   "cell_type": "markdown",
   "id": "f058ce3e-9619-4df5-b511-b11659af31c5",
   "metadata": {},
   "source": [
    "**Nhận xét:**\n",
    "\n",
    "Biểu đồ tỉ lệ số đơn đặt hàng của 2 năm gần nhất (2017 so với 2016). Biểu đồ cho thấy sự phát triển tương đối về số lượng đơn đặt hàng so với năm ngoái.\n",
    "- Hầu hết các vùng có tỉ lệ đặt hàng hoặc là giảm, hoặc là tăng dưới 2 lần.\n",
    "- Nổi bật nhất là 2 vùng: New Mexico và Minnesota, với độ tăng đáng kể lần lượt là 4.5 và 3.8 so với năm ngoái.\n",
    "- Khu vực MidWest ở biên giới giáp với West các bang đều biểu hiện sự giảm số lượng đơn đặt hàng so với năm trước. Tuy nhiên vì số lượng đơn đặt hàng cũng không cao (dưới 20 đơn/năm), nên tỉ lệ thay đổi cũng không đáng kể."
   ]
  },
  {
   "cell_type": "markdown",
   "id": "89a9b349-872a-4e57-a512-2d4309a348b7",
   "metadata": {},
   "source": [
    "**Kỹ thuật trực quan sử dụng:**\n",
    "\n",
    "- ***Màu sắc***: dùng màu sắc để thể hiện cho lợi nhuận từ thấp đến cao (các giá trị dương và âm):\n",
    "    - Màu xanh dương: Lợi nhuận giảm so với năm ngoái\n",
    "    - Các màu nóng trở đì (từ xanh lá đến đỏ): Lợi nhuận giảm so với năm ngoái.\n",
    "    - Các màu sắc có sắc độ càng nóng, tỉ lệ tăng của lợi nhuận càng cao.\n",
    "    \n",
    "- ***Kỹ thuật Manipulate View:***\n",
    "    + Tương tác trực tiếp với tooltip, hiển thị các giá trị về Profit 2 năm 2017, 2017 và số liệu về tỉ lệ khi trỏ vào đối tượng.\n",
    "    + Phóng to thu nhỏ bản đồ để tới khu vực cần xem trên biểu đồ. \n",
    "  \n",
    "=> Những kỹ thuật này giúp đồ thị vẫn giữ được sự rõ ràng, trực quan, tương tác thân thiện."
   ]
  },
  {
   "cell_type": "markdown",
   "id": "f8fabcc8-f1b8-4c3f-8a62-03725dfadff1",
   "metadata": {},
   "source": [
    "## Biểu đồ 3:"
   ]
  },
  {
   "cell_type": "code",
   "execution_count": 150,
   "id": "55338c6b-54e0-49df-b066-1b3eac833e5f",
   "metadata": {
    "tags": []
   },
   "outputs": [],
   "source": [
    "df3 = df2.copy()\n",
    "df3['Year-Quarter'] = pd.PeriodIndex(df3['Order Date'], freq='Q')\n",
    "df3['Quarter'] = pd.PeriodIndex(df3['Order Date'], freq='Q').quarter\n",
    "\n",
    "discount_df= df3.groupby(['Discount', 'Quarter','Category'])[[\"Profit\", \"Quantity\"]].sum().reset_index()\n",
    "num_of_bills = df3.groupby(['Discount', 'Quarter','Category']).size().reset_index()\n",
    "discount_df['Discount'] = discount_df['Discount']*100\n",
    "discount_df['Order volumn'] = num_of_bills[0]"
   ]
  },
  {
   "cell_type": "code",
   "execution_count": 151,
   "id": "05d19f42-8476-40a5-8240-676f810fa9c3",
   "metadata": {},
   "outputs": [
    {
     "data": {
      "application/vnd.plotly.v1+json": {
       "config": {
        "plotlyServerURL": "https://plot.ly"
       },
       "data": [
        {
         "hovertemplate": "<b>%{hovertext}</b><br><br>Category=Furniture<br>Quarter=1<br>Discount=%{x}<br>Profit=%{y}<br>Order volumn=%{marker.size}<extra></extra>",
         "hovertext": [
          "Furniture",
          "Furniture",
          "Furniture",
          "Furniture",
          "Furniture",
          "Furniture",
          "Furniture",
          "Furniture",
          "Furniture",
          "Furniture"
         ],
         "legendgroup": "Furniture",
         "marker": {
          "color": "#ffb400",
          "size": [
           118,
           8,
           5,
           71,
           35,
           7,
           11,
           10,
           17,
           2
          ],
          "sizemode": "area",
          "sizeref": 0.448,
          "symbol": "circle"
         },
         "mode": "markers",
         "name": "Furniture",
         "orientation": "v",
         "showlegend": true,
         "type": "scatter",
         "x": [
          0,
          10,
          15,
          20,
          30,
          32,
          40,
          50,
          60,
          70
         ],
         "xaxis": "x",
         "y": [
          8409.5621,
          303.8881,
          82.5396,
          689.1243,
          -1663.0329,
          -638.885,
          -4114.9252,
          -2046.3294,
          -1081.1887,
          -419.3988
         ],
         "yaxis": "y"
        },
        {
         "hovertemplate": "<b>%{hovertext}</b><br><br>Category=Office Supplies<br>Quarter=1<br>Discount=%{x}<br>Profit=%{y}<br>Order volumn=%{marker.size}<extra></extra>",
         "hovertext": [
          "Office Supplies",
          "Office Supplies",
          "Office Supplies",
          "Office Supplies",
          "Office Supplies"
         ],
         "legendgroup": "Office Supplies",
         "marker": {
          "color": "#363445",
          "size": [
           463,
           2,
           262,
           47,
           44
          ],
          "sizemode": "area",
          "sizeref": 0.448,
          "symbol": "circle"
         },
         "mode": "markers",
         "name": "Office Supplies",
         "orientation": "v",
         "showlegend": true,
         "type": "scatter",
         "x": [
          0,
          10,
          20,
          70,
          80
         ],
         "xaxis": "x",
         "y": [
          22582.2644,
          141.9152,
          3415.7999,
          -893.1537999999999,
          -4273.4118
         ],
         "yaxis": "y"
        },
        {
         "hovertemplate": "<b>%{hovertext}</b><br><br>Category=Technology<br>Quarter=1<br>Discount=%{x}<br>Profit=%{y}<br>Order volumn=%{marker.size}<extra></extra>",
         "hovertext": [
          "Technology",
          "Technology",
          "Technology",
          "Technology",
          "Technology",
          "Technology",
          "Technology"
         ],
         "legendgroup": "Technology",
         "marker": {
          "color": "#9080ff",
          "size": [
           119,
           2,
           119,
           2,
           28,
           3,
           2
          ],
          "sizemode": "area",
          "sizeref": 0.448,
          "symbol": "circle"
         },
         "mode": "markers",
         "name": "Technology",
         "orientation": "v",
         "showlegend": true,
         "type": "scatter",
         "x": [
          0,
          10,
          20,
          30,
          40,
          50,
          70
         ],
         "xaxis": "x",
         "y": [
          25360.888000000003,
          832.0843,
          5820.5322,
          165.0464,
          -1200.1325,
          -1855.3324,
          -1594.1100000000001
         ],
         "yaxis": "y"
        }
       ],
       "frames": [
        {
         "data": [
          {
           "hovertemplate": "<b>%{hovertext}</b><br><br>Category=Furniture<br>Quarter=1<br>Discount=%{x}<br>Profit=%{y}<br>Order volumn=%{marker.size}<extra></extra>",
           "hovertext": [
            "Furniture",
            "Furniture",
            "Furniture",
            "Furniture",
            "Furniture",
            "Furniture",
            "Furniture",
            "Furniture",
            "Furniture",
            "Furniture"
           ],
           "legendgroup": "Furniture",
           "marker": {
            "color": "#ffb400",
            "size": [
             118,
             8,
             5,
             71,
             35,
             7,
             11,
             10,
             17,
             2
            ],
            "sizemode": "area",
            "sizeref": 0.448,
            "symbol": "circle"
           },
           "mode": "markers",
           "name": "Furniture",
           "orientation": "v",
           "showlegend": true,
           "type": "scatter",
           "x": [
            0,
            10,
            15,
            20,
            30,
            32,
            40,
            50,
            60,
            70
           ],
           "xaxis": "x",
           "y": [
            8409.5621,
            303.8881,
            82.5396,
            689.1243,
            -1663.0329,
            -638.885,
            -4114.9252,
            -2046.3294,
            -1081.1887,
            -419.3988
           ],
           "yaxis": "y"
          },
          {
           "hovertemplate": "<b>%{hovertext}</b><br><br>Category=Office Supplies<br>Quarter=1<br>Discount=%{x}<br>Profit=%{y}<br>Order volumn=%{marker.size}<extra></extra>",
           "hovertext": [
            "Office Supplies",
            "Office Supplies",
            "Office Supplies",
            "Office Supplies",
            "Office Supplies"
           ],
           "legendgroup": "Office Supplies",
           "marker": {
            "color": "#363445",
            "size": [
             463,
             2,
             262,
             47,
             44
            ],
            "sizemode": "area",
            "sizeref": 0.448,
            "symbol": "circle"
           },
           "mode": "markers",
           "name": "Office Supplies",
           "orientation": "v",
           "showlegend": true,
           "type": "scatter",
           "x": [
            0,
            10,
            20,
            70,
            80
           ],
           "xaxis": "x",
           "y": [
            22582.2644,
            141.9152,
            3415.7999,
            -893.1537999999999,
            -4273.4118
           ],
           "yaxis": "y"
          },
          {
           "hovertemplate": "<b>%{hovertext}</b><br><br>Category=Technology<br>Quarter=1<br>Discount=%{x}<br>Profit=%{y}<br>Order volumn=%{marker.size}<extra></extra>",
           "hovertext": [
            "Technology",
            "Technology",
            "Technology",
            "Technology",
            "Technology",
            "Technology",
            "Technology"
           ],
           "legendgroup": "Technology",
           "marker": {
            "color": "#9080ff",
            "size": [
             119,
             2,
             119,
             2,
             28,
             3,
             2
            ],
            "sizemode": "area",
            "sizeref": 0.448,
            "symbol": "circle"
           },
           "mode": "markers",
           "name": "Technology",
           "orientation": "v",
           "showlegend": true,
           "type": "scatter",
           "x": [
            0,
            10,
            20,
            30,
            40,
            50,
            70
           ],
           "xaxis": "x",
           "y": [
            25360.888000000003,
            832.0843,
            5820.5322,
            165.0464,
            -1200.1325,
            -1855.3324,
            -1594.1100000000001
           ],
           "yaxis": "y"
          }
         ],
         "name": "1"
        },
        {
         "data": [
          {
           "hovertemplate": "<b>%{hovertext}</b><br><br>Category=Furniture<br>Quarter=2<br>Discount=%{x}<br>Profit=%{y}<br>Order volumn=%{marker.size}<extra></extra>",
           "hovertext": [
            "Furniture",
            "Furniture",
            "Furniture",
            "Furniture",
            "Furniture",
            "Furniture",
            "Furniture",
            "Furniture",
            "Furniture",
            "Furniture",
            "Furniture"
           ],
           "legendgroup": "Furniture",
           "marker": {
            "color": "#ffb400",
            "size": [
             161,
             12,
             14,
             130,
             51,
             5,
             12,
             4,
             10,
             32,
             2
            ],
            "sizemode": "area",
            "sizeref": 0.448,
            "symbol": "circle"
           },
           "mode": "markers",
           "name": "Furniture",
           "orientation": "v",
           "showlegend": true,
           "type": "scatter",
           "x": [
            0,
            10,
            15,
            20,
            30,
            32,
            40,
            45,
            50,
            60,
            70
           ],
           "xaxis": "x",
           "y": [
            12219.7429,
            970.3186,
            430.30559999999997,
            680.1125,
            -2435.9509,
            -283.6658,
            -1631.2266,
            -885.0468,
            -2797.2122,
            -1012.4194,
            -509.94899999999996
           ],
           "yaxis": "y"
          },
          {
           "hovertemplate": "<b>%{hovertext}</b><br><br>Category=Office Supplies<br>Quarter=2<br>Discount=%{x}<br>Profit=%{y}<br>Order volumn=%{marker.size}<extra></extra>",
           "hovertext": [
            "Office Supplies",
            "Office Supplies",
            "Office Supplies",
            "Office Supplies",
            "Office Supplies"
           ],
           "legendgroup": "Office Supplies",
           "marker": {
            "color": "#363445",
            "size": [
             659,
             5,
             485,
             90,
             74
            ],
            "sizemode": "area",
            "sizeref": 0.448,
            "symbol": "circle"
           },
           "mode": "markers",
           "name": "Office Supplies",
           "orientation": "v",
           "showlegend": true,
           "type": "scatter",
           "x": [
            0,
            10,
            20,
            70,
            80
           ],
           "xaxis": "x",
           "y": [
            25363.2348,
            425.3784,
            8049.6283,
            -2334.7391,
            -6652.4776
           ],
           "yaxis": "y"
          },
          {
           "hovertemplate": "<b>%{hovertext}</b><br><br>Category=Technology<br>Quarter=2<br>Discount=%{x}<br>Profit=%{y}<br>Order volumn=%{marker.size}<extra></extra>",
           "hovertext": [
            "Technology",
            "Technology",
            "Technology",
            "Technology",
            "Technology",
            "Technology"
           ],
           "legendgroup": "Technology",
           "marker": {
            "color": "#9080ff",
            "size": [
             162,
             183,
             1,
             23,
             2,
             3
            ],
            "sizemode": "area",
            "sizeref": 0.448,
            "symbol": "circle"
           },
           "mode": "markers",
           "name": "Technology",
           "orientation": "v",
           "showlegend": true,
           "type": "scatter",
           "x": [
            0,
            20,
            30,
            40,
            50,
            70
           ],
           "xaxis": "x",
           "y": [
            18338.9735,
            10603.233,
            43.1991,
            470.1839999999998,
            -29.6575,
            -3737.4263
           ],
           "yaxis": "y"
          }
         ],
         "name": "2"
        },
        {
         "data": [
          {
           "hovertemplate": "<b>%{hovertext}</b><br><br>Category=Furniture<br>Quarter=3<br>Discount=%{x}<br>Profit=%{y}<br>Order volumn=%{marker.size}<extra></extra>",
           "hovertext": [
            "Furniture",
            "Furniture",
            "Furniture",
            "Furniture",
            "Furniture",
            "Furniture",
            "Furniture",
            "Furniture",
            "Furniture",
            "Furniture",
            "Furniture"
           ],
           "legendgroup": "Furniture",
           "marker": {
            "color": "#ffb400",
            "size": [
             228,
             27,
             14,
             168,
             59,
             5,
             19,
             3,
             15,
             29,
             3
            ],
            "sizemode": "area",
            "sizeref": 0.448,
            "symbol": "circle"
           },
           "mode": "markers",
           "name": "Furniture",
           "orientation": "v",
           "showlegend": true,
           "type": "scatter",
           "x": [
            0,
            10,
            15,
            20,
            30,
            32,
            40,
            45,
            50,
            60,
            70
           ],
           "xaxis": "x",
           "y": [
            14206.8658,
            3067.19,
            794.6204,
            2243.8172,
            -3260.8646,
            -806.3898,
            -2312.5566,
            -533.6704,
            -4693.6548,
            -1267.9074,
            -560.6687999999999
           ],
           "yaxis": "y"
          },
          {
           "hovertemplate": "<b>%{hovertext}</b><br><br>Category=Office Supplies<br>Quarter=3<br>Discount=%{x}<br>Profit=%{y}<br>Order volumn=%{marker.size}<extra></extra>",
           "hovertext": [
            "Office Supplies",
            "Office Supplies",
            "Office Supplies",
            "Office Supplies",
            "Office Supplies"
           ],
           "legendgroup": "Office Supplies",
           "marker": {
            "color": "#363445",
            "size": [
             887,
             3,
             648,
             110,
             81
            ],
            "sizemode": "area",
            "sizeref": 0.448,
            "symbol": "circle"
           },
           "mode": "markers",
           "name": "Office Supplies",
           "orientation": "v",
           "showlegend": true,
           "type": "scatter",
           "x": [
            0,
            10,
            20,
            70,
            80
           ],
           "xaxis": "x",
           "y": [
            35791.1943,
            180.75,
            11326.2359,
            -5880.2103,
            -9126.3468
           ],
           "yaxis": "y"
          },
          {
           "hovertemplate": "<b>%{hovertext}</b><br><br>Category=Technology<br>Quarter=3<br>Discount=%{x}<br>Profit=%{y}<br>Order volumn=%{marker.size}<extra></extra>",
           "hovertext": [
            "Technology",
            "Technology",
            "Technology",
            "Technology",
            "Technology",
            "Technology"
           ],
           "legendgroup": "Technology",
           "marker": {
            "color": "#9080ff",
            "size": [
             245,
             210,
             1,
             36,
             3,
             5
            ],
            "sizemode": "area",
            "sizeref": 0.448,
            "symbol": "circle"
           },
           "mode": "markers",
           "name": "Technology",
           "orientation": "v",
           "showlegend": true,
           "type": "scatter",
           "x": [
            0,
            20,
            30,
            40,
            50,
            70
           ],
           "xaxis": "x",
           "y": [
            27530.3861,
            12799.8646,
            -19.47,
            -4296.2665,
            -1628.4897,
            -1087.3500999999999
           ],
           "yaxis": "y"
          }
         ],
         "name": "3"
        },
        {
         "data": [
          {
           "hovertemplate": "<b>%{hovertext}</b><br><br>Category=Furniture<br>Quarter=4<br>Discount=%{x}<br>Profit=%{y}<br>Order volumn=%{marker.size}<extra></extra>",
           "hovertext": [
            "Furniture",
            "Furniture",
            "Furniture",
            "Furniture",
            "Furniture",
            "Furniture",
            "Furniture",
            "Furniture",
            "Furniture",
            "Furniture",
            "Furniture"
           ],
           "legendgroup": "Furniture",
           "marker": {
            "color": "#ffb400",
            "size": [
             329,
             29,
             19,
             246,
             77,
             10,
             33,
             4,
             19,
             60,
             8
            ],
            "sizemode": "area",
            "sizeref": 0.448,
            "symbol": "circle"
           },
           "mode": "markers",
           "name": "Furniture",
           "orientation": "v",
           "showlegend": true,
           "type": "scatter",
           "x": [
            0,
            10,
            15,
            20,
            30,
            32,
            40,
            45,
            50,
            60,
            70
           ],
           "xaxis": "x",
           "y": [
            23296.9056,
            2769.6152,
            111.52590000000001,
            2652.8950999999997,
            -3335.4685,
            -662.1971,
            -8128.6884,
            -1074.3939,
            -3334.0026,
            -2583.1396999999997,
            -2404.9228000000003
           ],
           "yaxis": "y"
          },
          {
           "hovertemplate": "<b>%{hovertext}</b><br><br>Category=Office Supplies<br>Quarter=4<br>Discount=%{x}<br>Profit=%{y}<br>Order volumn=%{marker.size}<extra></extra>",
           "hovertext": [
            "Office Supplies",
            "Office Supplies",
            "Office Supplies",
            "Office Supplies",
            "Office Supplies"
           ],
           "legendgroup": "Office Supplies",
           "marker": {
            "color": "#363445",
            "size": [
             1120,
             6,
             806,
             133,
             101
            ],
            "sizemode": "area",
            "sizeref": 0.448,
            "symbol": "circle"
           },
           "mode": "markers",
           "name": "Office Supplies",
           "orientation": "v",
           "showlegend": true,
           "type": "scatter",
           "x": [
            0,
            10,
            20,
            70,
            80
           ],
           "xaxis": "x",
           "y": [
            46769.4129,
            338.0372,
            15247.0871,
            -7492.9952,
            -10486.803
           ],
           "yaxis": "y"
          },
          {
           "hovertemplate": "<b>%{hovertext}</b><br><br>Category=Technology<br>Quarter=4<br>Discount=%{x}<br>Profit=%{y}<br>Order volumn=%{marker.size}<extra></extra>",
           "hovertext": [
            "Technology",
            "Technology",
            "Technology",
            "Technology",
            "Technology",
            "Technology"
           ],
           "legendgroup": "Technology",
           "marker": {
            "color": "#9080ff",
            "size": [
             307,
             329,
             1,
             44,
             4,
             13
            ],
            "sizemode": "area",
            "sizeref": 0.448,
            "symbol": "circle"
           },
           "mode": "markers",
           "name": "Technology",
           "orientation": "v",
           "showlegend": true,
           "type": "scatter",
           "x": [
            0,
            20,
            30,
            40,
            50,
            70
           ],
           "xaxis": "x",
           "y": [
            61118.1728,
            16808.9759,
            137.264,
            -1843.4386,
            -4121.7495,
            -13160.4327
           ],
           "yaxis": "y"
          }
         ],
         "name": "4"
        }
       ],
       "layout": {
        "height": 600,
        "legend": {
         "itemsizing": "constant",
         "title": {
          "text": "Category"
         },
         "tracegroupgap": 0
        },
        "margin": {
         "t": 130
        },
        "paper_bgcolor": "#f8fff2",
        "plot_bgcolor": "#f8fff2",
        "sliders": [
         {
          "active": 0,
          "currentvalue": {
           "prefix": "Quarter="
          },
          "len": 0.9,
          "pad": {
           "b": 10,
           "t": 60
          },
          "steps": [
           {
            "args": [
             [
              "1"
             ],
             {
              "frame": {
               "duration": 0,
               "redraw": false
              },
              "fromcurrent": true,
              "mode": "immediate",
              "transition": {
               "duration": 0,
               "easing": "linear"
              }
             }
            ],
            "label": "1",
            "method": "animate"
           },
           {
            "args": [
             [
              "2"
             ],
             {
              "frame": {
               "duration": 0,
               "redraw": false
              },
              "fromcurrent": true,
              "mode": "immediate",
              "transition": {
               "duration": 0,
               "easing": "linear"
              }
             }
            ],
            "label": "2",
            "method": "animate"
           },
           {
            "args": [
             [
              "3"
             ],
             {
              "frame": {
               "duration": 0,
               "redraw": false
              },
              "fromcurrent": true,
              "mode": "immediate",
              "transition": {
               "duration": 0,
               "easing": "linear"
              }
             }
            ],
            "label": "3",
            "method": "animate"
           },
           {
            "args": [
             [
              "4"
             ],
             {
              "frame": {
               "duration": 0,
               "redraw": false
              },
              "fromcurrent": true,
              "mode": "immediate",
              "transition": {
               "duration": 0,
               "easing": "linear"
              }
             }
            ],
            "label": "4",
            "method": "animate"
           }
          ],
          "x": 0.1,
          "xanchor": "left",
          "y": 0,
          "yanchor": "top"
         }
        ],
        "template": {
         "data": {
          "bar": [
           {
            "error_x": {
             "color": "#2a3f5f"
            },
            "error_y": {
             "color": "#2a3f5f"
            },
            "marker": {
             "line": {
              "color": "#E5ECF6",
              "width": 0.5
             },
             "pattern": {
              "fillmode": "overlay",
              "size": 10,
              "solidity": 0.2
             }
            },
            "type": "bar"
           }
          ],
          "barpolar": [
           {
            "marker": {
             "line": {
              "color": "#E5ECF6",
              "width": 0.5
             },
             "pattern": {
              "fillmode": "overlay",
              "size": 10,
              "solidity": 0.2
             }
            },
            "type": "barpolar"
           }
          ],
          "carpet": [
           {
            "aaxis": {
             "endlinecolor": "#2a3f5f",
             "gridcolor": "white",
             "linecolor": "white",
             "minorgridcolor": "white",
             "startlinecolor": "#2a3f5f"
            },
            "baxis": {
             "endlinecolor": "#2a3f5f",
             "gridcolor": "white",
             "linecolor": "white",
             "minorgridcolor": "white",
             "startlinecolor": "#2a3f5f"
            },
            "type": "carpet"
           }
          ],
          "choropleth": [
           {
            "colorbar": {
             "outlinewidth": 0,
             "ticks": ""
            },
            "type": "choropleth"
           }
          ],
          "contour": [
           {
            "colorbar": {
             "outlinewidth": 0,
             "ticks": ""
            },
            "colorscale": [
             [
              0,
              "#0d0887"
             ],
             [
              0.1111111111111111,
              "#46039f"
             ],
             [
              0.2222222222222222,
              "#7201a8"
             ],
             [
              0.3333333333333333,
              "#9c179e"
             ],
             [
              0.4444444444444444,
              "#bd3786"
             ],
             [
              0.5555555555555556,
              "#d8576b"
             ],
             [
              0.6666666666666666,
              "#ed7953"
             ],
             [
              0.7777777777777778,
              "#fb9f3a"
             ],
             [
              0.8888888888888888,
              "#fdca26"
             ],
             [
              1,
              "#f0f921"
             ]
            ],
            "type": "contour"
           }
          ],
          "contourcarpet": [
           {
            "colorbar": {
             "outlinewidth": 0,
             "ticks": ""
            },
            "type": "contourcarpet"
           }
          ],
          "heatmap": [
           {
            "colorbar": {
             "outlinewidth": 0,
             "ticks": ""
            },
            "colorscale": [
             [
              0,
              "#0d0887"
             ],
             [
              0.1111111111111111,
              "#46039f"
             ],
             [
              0.2222222222222222,
              "#7201a8"
             ],
             [
              0.3333333333333333,
              "#9c179e"
             ],
             [
              0.4444444444444444,
              "#bd3786"
             ],
             [
              0.5555555555555556,
              "#d8576b"
             ],
             [
              0.6666666666666666,
              "#ed7953"
             ],
             [
              0.7777777777777778,
              "#fb9f3a"
             ],
             [
              0.8888888888888888,
              "#fdca26"
             ],
             [
              1,
              "#f0f921"
             ]
            ],
            "type": "heatmap"
           }
          ],
          "heatmapgl": [
           {
            "colorbar": {
             "outlinewidth": 0,
             "ticks": ""
            },
            "colorscale": [
             [
              0,
              "#0d0887"
             ],
             [
              0.1111111111111111,
              "#46039f"
             ],
             [
              0.2222222222222222,
              "#7201a8"
             ],
             [
              0.3333333333333333,
              "#9c179e"
             ],
             [
              0.4444444444444444,
              "#bd3786"
             ],
             [
              0.5555555555555556,
              "#d8576b"
             ],
             [
              0.6666666666666666,
              "#ed7953"
             ],
             [
              0.7777777777777778,
              "#fb9f3a"
             ],
             [
              0.8888888888888888,
              "#fdca26"
             ],
             [
              1,
              "#f0f921"
             ]
            ],
            "type": "heatmapgl"
           }
          ],
          "histogram": [
           {
            "marker": {
             "pattern": {
              "fillmode": "overlay",
              "size": 10,
              "solidity": 0.2
             }
            },
            "type": "histogram"
           }
          ],
          "histogram2d": [
           {
            "colorbar": {
             "outlinewidth": 0,
             "ticks": ""
            },
            "colorscale": [
             [
              0,
              "#0d0887"
             ],
             [
              0.1111111111111111,
              "#46039f"
             ],
             [
              0.2222222222222222,
              "#7201a8"
             ],
             [
              0.3333333333333333,
              "#9c179e"
             ],
             [
              0.4444444444444444,
              "#bd3786"
             ],
             [
              0.5555555555555556,
              "#d8576b"
             ],
             [
              0.6666666666666666,
              "#ed7953"
             ],
             [
              0.7777777777777778,
              "#fb9f3a"
             ],
             [
              0.8888888888888888,
              "#fdca26"
             ],
             [
              1,
              "#f0f921"
             ]
            ],
            "type": "histogram2d"
           }
          ],
          "histogram2dcontour": [
           {
            "colorbar": {
             "outlinewidth": 0,
             "ticks": ""
            },
            "colorscale": [
             [
              0,
              "#0d0887"
             ],
             [
              0.1111111111111111,
              "#46039f"
             ],
             [
              0.2222222222222222,
              "#7201a8"
             ],
             [
              0.3333333333333333,
              "#9c179e"
             ],
             [
              0.4444444444444444,
              "#bd3786"
             ],
             [
              0.5555555555555556,
              "#d8576b"
             ],
             [
              0.6666666666666666,
              "#ed7953"
             ],
             [
              0.7777777777777778,
              "#fb9f3a"
             ],
             [
              0.8888888888888888,
              "#fdca26"
             ],
             [
              1,
              "#f0f921"
             ]
            ],
            "type": "histogram2dcontour"
           }
          ],
          "mesh3d": [
           {
            "colorbar": {
             "outlinewidth": 0,
             "ticks": ""
            },
            "type": "mesh3d"
           }
          ],
          "parcoords": [
           {
            "line": {
             "colorbar": {
              "outlinewidth": 0,
              "ticks": ""
             }
            },
            "type": "parcoords"
           }
          ],
          "pie": [
           {
            "automargin": true,
            "type": "pie"
           }
          ],
          "scatter": [
           {
            "fillpattern": {
             "fillmode": "overlay",
             "size": 10,
             "solidity": 0.2
            },
            "type": "scatter"
           }
          ],
          "scatter3d": [
           {
            "line": {
             "colorbar": {
              "outlinewidth": 0,
              "ticks": ""
             }
            },
            "marker": {
             "colorbar": {
              "outlinewidth": 0,
              "ticks": ""
             }
            },
            "type": "scatter3d"
           }
          ],
          "scattercarpet": [
           {
            "marker": {
             "colorbar": {
              "outlinewidth": 0,
              "ticks": ""
             }
            },
            "type": "scattercarpet"
           }
          ],
          "scattergeo": [
           {
            "marker": {
             "colorbar": {
              "outlinewidth": 0,
              "ticks": ""
             }
            },
            "type": "scattergeo"
           }
          ],
          "scattergl": [
           {
            "marker": {
             "colorbar": {
              "outlinewidth": 0,
              "ticks": ""
             }
            },
            "type": "scattergl"
           }
          ],
          "scattermapbox": [
           {
            "marker": {
             "colorbar": {
              "outlinewidth": 0,
              "ticks": ""
             }
            },
            "type": "scattermapbox"
           }
          ],
          "scatterpolar": [
           {
            "marker": {
             "colorbar": {
              "outlinewidth": 0,
              "ticks": ""
             }
            },
            "type": "scatterpolar"
           }
          ],
          "scatterpolargl": [
           {
            "marker": {
             "colorbar": {
              "outlinewidth": 0,
              "ticks": ""
             }
            },
            "type": "scatterpolargl"
           }
          ],
          "scatterternary": [
           {
            "marker": {
             "colorbar": {
              "outlinewidth": 0,
              "ticks": ""
             }
            },
            "type": "scatterternary"
           }
          ],
          "surface": [
           {
            "colorbar": {
             "outlinewidth": 0,
             "ticks": ""
            },
            "colorscale": [
             [
              0,
              "#0d0887"
             ],
             [
              0.1111111111111111,
              "#46039f"
             ],
             [
              0.2222222222222222,
              "#7201a8"
             ],
             [
              0.3333333333333333,
              "#9c179e"
             ],
             [
              0.4444444444444444,
              "#bd3786"
             ],
             [
              0.5555555555555556,
              "#d8576b"
             ],
             [
              0.6666666666666666,
              "#ed7953"
             ],
             [
              0.7777777777777778,
              "#fb9f3a"
             ],
             [
              0.8888888888888888,
              "#fdca26"
             ],
             [
              1,
              "#f0f921"
             ]
            ],
            "type": "surface"
           }
          ],
          "table": [
           {
            "cells": {
             "fill": {
              "color": "#EBF0F8"
             },
             "line": {
              "color": "white"
             }
            },
            "header": {
             "fill": {
              "color": "#C8D4E3"
             },
             "line": {
              "color": "white"
             }
            },
            "type": "table"
           }
          ]
         },
         "layout": {
          "annotationdefaults": {
           "arrowcolor": "#2a3f5f",
           "arrowhead": 0,
           "arrowwidth": 1
          },
          "autotypenumbers": "strict",
          "coloraxis": {
           "colorbar": {
            "outlinewidth": 0,
            "ticks": ""
           }
          },
          "colorscale": {
           "diverging": [
            [
             0,
             "#8e0152"
            ],
            [
             0.1,
             "#c51b7d"
            ],
            [
             0.2,
             "#de77ae"
            ],
            [
             0.3,
             "#f1b6da"
            ],
            [
             0.4,
             "#fde0ef"
            ],
            [
             0.5,
             "#f7f7f7"
            ],
            [
             0.6,
             "#e6f5d0"
            ],
            [
             0.7,
             "#b8e186"
            ],
            [
             0.8,
             "#7fbc41"
            ],
            [
             0.9,
             "#4d9221"
            ],
            [
             1,
             "#276419"
            ]
           ],
           "sequential": [
            [
             0,
             "#0d0887"
            ],
            [
             0.1111111111111111,
             "#46039f"
            ],
            [
             0.2222222222222222,
             "#7201a8"
            ],
            [
             0.3333333333333333,
             "#9c179e"
            ],
            [
             0.4444444444444444,
             "#bd3786"
            ],
            [
             0.5555555555555556,
             "#d8576b"
            ],
            [
             0.6666666666666666,
             "#ed7953"
            ],
            [
             0.7777777777777778,
             "#fb9f3a"
            ],
            [
             0.8888888888888888,
             "#fdca26"
            ],
            [
             1,
             "#f0f921"
            ]
           ],
           "sequentialminus": [
            [
             0,
             "#0d0887"
            ],
            [
             0.1111111111111111,
             "#46039f"
            ],
            [
             0.2222222222222222,
             "#7201a8"
            ],
            [
             0.3333333333333333,
             "#9c179e"
            ],
            [
             0.4444444444444444,
             "#bd3786"
            ],
            [
             0.5555555555555556,
             "#d8576b"
            ],
            [
             0.6666666666666666,
             "#ed7953"
            ],
            [
             0.7777777777777778,
             "#fb9f3a"
            ],
            [
             0.8888888888888888,
             "#fdca26"
            ],
            [
             1,
             "#f0f921"
            ]
           ]
          },
          "colorway": [
           "#636efa",
           "#EF553B",
           "#00cc96",
           "#ab63fa",
           "#FFA15A",
           "#19d3f3",
           "#FF6692",
           "#B6E880",
           "#FF97FF",
           "#FECB52"
          ],
          "font": {
           "color": "#2a3f5f"
          },
          "geo": {
           "bgcolor": "white",
           "lakecolor": "white",
           "landcolor": "#E5ECF6",
           "showlakes": true,
           "showland": true,
           "subunitcolor": "white"
          },
          "hoverlabel": {
           "align": "left"
          },
          "hovermode": "closest",
          "mapbox": {
           "style": "light"
          },
          "paper_bgcolor": "white",
          "plot_bgcolor": "#E5ECF6",
          "polar": {
           "angularaxis": {
            "gridcolor": "white",
            "linecolor": "white",
            "ticks": ""
           },
           "bgcolor": "#E5ECF6",
           "radialaxis": {
            "gridcolor": "white",
            "linecolor": "white",
            "ticks": ""
           }
          },
          "scene": {
           "xaxis": {
            "backgroundcolor": "#E5ECF6",
            "gridcolor": "white",
            "gridwidth": 2,
            "linecolor": "white",
            "showbackground": true,
            "ticks": "",
            "zerolinecolor": "white"
           },
           "yaxis": {
            "backgroundcolor": "#E5ECF6",
            "gridcolor": "white",
            "gridwidth": 2,
            "linecolor": "white",
            "showbackground": true,
            "ticks": "",
            "zerolinecolor": "white"
           },
           "zaxis": {
            "backgroundcolor": "#E5ECF6",
            "gridcolor": "white",
            "gridwidth": 2,
            "linecolor": "white",
            "showbackground": true,
            "ticks": "",
            "zerolinecolor": "white"
           }
          },
          "shapedefaults": {
           "line": {
            "color": "#2a3f5f"
           }
          },
          "ternary": {
           "aaxis": {
            "gridcolor": "white",
            "linecolor": "white",
            "ticks": ""
           },
           "baxis": {
            "gridcolor": "white",
            "linecolor": "white",
            "ticks": ""
           },
           "bgcolor": "#E5ECF6",
           "caxis": {
            "gridcolor": "white",
            "linecolor": "white",
            "ticks": ""
           }
          },
          "title": {
           "x": 0.05
          },
          "xaxis": {
           "automargin": true,
           "gridcolor": "white",
           "linecolor": "white",
           "ticks": "",
           "title": {
            "standoff": 15
           },
           "zerolinecolor": "white",
           "zerolinewidth": 2
          },
          "yaxis": {
           "automargin": true,
           "gridcolor": "white",
           "linecolor": "white",
           "ticks": "",
           "title": {
            "standoff": 15
           },
           "zerolinecolor": "white",
           "zerolinewidth": 2
          }
         }
        },
        "title": {
         "font": {
          "family": "Franklin Gothic",
          "size": 25
         },
         "text": "Profit and order volume based on discount by quarters",
         "x": 0.1,
         "y": 0.95
        },
        "updatemenus": [
         {
          "buttons": [
           {
            "args": [
             null,
             {
              "frame": {
               "duration": 500,
               "redraw": false
              },
              "fromcurrent": true,
              "mode": "immediate",
              "transition": {
               "duration": 500,
               "easing": "linear"
              }
             }
            ],
            "label": "&#9654;",
            "method": "animate"
           },
           {
            "args": [
             [
              null
             ],
             {
              "frame": {
               "duration": 0,
               "redraw": false
              },
              "fromcurrent": true,
              "mode": "immediate",
              "transition": {
               "duration": 0,
               "easing": "linear"
              }
             }
            ],
            "label": "&#9724;",
            "method": "animate"
           }
          ],
          "direction": "left",
          "pad": {
           "r": 10,
           "t": 70
          },
          "showactive": false,
          "type": "buttons",
          "x": 0.1,
          "xanchor": "right",
          "y": 0,
          "yanchor": "top"
         }
        ],
        "width": 900,
        "xaxis": {
         "anchor": "y",
         "autorange": true,
         "domain": [
          0,
          1
         ],
         "range": [
          -8.333848233143716,
          85.82573770222638
         ],
         "title": {
          "text": "Discount"
         },
         "type": "linear"
        },
        "yaxis": {
         "anchor": "x",
         "categoryarray": [
          "Furniture",
          "Office Supplies",
          "Technology"
         ],
         "domain": [
          0,
          1
         ],
         "range": [
          -20000,
          70000
         ],
         "title": {
          "text": "Profit"
         },
         "type": "linear"
        }
       }
      },
      "image/png": "[encoded data removed]",
      "text/html": [
       "<div>                            <div id=\"0738f292-c35b-4c38-ada0-7b2a9249879b\" class=\"plotly-graph-div\" style=\"height:600px; width:900px;\"></div>            <script type=\"text/javascript\">                require([\"plotly\"], function(Plotly) {                    window.PLOTLYENV=window.PLOTLYENV || {};                                    if (document.getElementById(\"0738f292-c35b-4c38-ada0-7b2a9249879b\")) {                    Plotly.newPlot(                        \"0738f292-c35b-4c38-ada0-7b2a9249879b\",                        [{\"hovertemplate\":\"<b>%{hovertext}</b><br><br>Category=Furniture<br>Quarter=1<br>Discount=%{x}<br>Profit=%{y}<br>Order volumn=%{marker.size}<extra></extra>\",\"hovertext\":[\"Furniture\",\"Furniture\",\"Furniture\",\"Furniture\",\"Furniture\",\"Furniture\",\"Furniture\",\"Furniture\",\"Furniture\",\"Furniture\"],\"legendgroup\":\"Furniture\",\"marker\":{\"color\":\"#ffb400\",\"size\":[118,8,5,71,35,7,11,10,17,2],\"sizemode\":\"area\",\"sizeref\":0.448,\"symbol\":\"circle\"},\"mode\":\"markers\",\"name\":\"Furniture\",\"orientation\":\"v\",\"showlegend\":true,\"x\":[0.0,10.0,15.0,20.0,30.0,32.0,40.0,50.0,60.0,70.0],\"xaxis\":\"x\",\"y\":[8409.5621,303.8881,82.5396,689.1243,-1663.0329,-638.885,-4114.9252,-2046.3294,-1081.1887,-419.3988],\"yaxis\":\"y\",\"type\":\"scatter\"},{\"hovertemplate\":\"<b>%{hovertext}</b><br><br>Category=Office Supplies<br>Quarter=1<br>Discount=%{x}<br>Profit=%{y}<br>Order volumn=%{marker.size}<extra></extra>\",\"hovertext\":[\"Office Supplies\",\"Office Supplies\",\"Office Supplies\",\"Office Supplies\",\"Office Supplies\"],\"legendgroup\":\"Office Supplies\",\"marker\":{\"color\":\"#363445\",\"size\":[463,2,262,47,44],\"sizemode\":\"area\",\"sizeref\":0.448,\"symbol\":\"circle\"},\"mode\":\"markers\",\"name\":\"Office Supplies\",\"orientation\":\"v\",\"showlegend\":true,\"x\":[0.0,10.0,20.0,70.0,80.0],\"xaxis\":\"x\",\"y\":[22582.2644,141.9152,3415.7999,-893.1537999999999,-4273.4118],\"yaxis\":\"y\",\"type\":\"scatter\"},{\"hovertemplate\":\"<b>%{hovertext}</b><br><br>Category=Technology<br>Quarter=1<br>Discount=%{x}<br>Profit=%{y}<br>Order volumn=%{marker.size}<extra></extra>\",\"hovertext\":[\"Technology\",\"Technology\",\"Technology\",\"Technology\",\"Technology\",\"Technology\",\"Technology\"],\"legendgroup\":\"Technology\",\"marker\":{\"color\":\"#9080ff\",\"size\":[119,2,119,2,28,3,2],\"sizemode\":\"area\",\"sizeref\":0.448,\"symbol\":\"circle\"},\"mode\":\"markers\",\"name\":\"Technology\",\"orientation\":\"v\",\"showlegend\":true,\"x\":[0.0,10.0,20.0,30.0,40.0,50.0,70.0],\"xaxis\":\"x\",\"y\":[25360.888000000003,832.0843,5820.5322,165.0464,-1200.1325,-1855.3324,-1594.1100000000001],\"yaxis\":\"y\",\"type\":\"scatter\"}],                        {\"template\":{\"data\":{\"histogram2dcontour\":[{\"type\":\"histogram2dcontour\",\"colorbar\":{\"outlinewidth\":0,\"ticks\":\"\"},\"colorscale\":[[0.0,\"#0d0887\"],[0.1111111111111111,\"#46039f\"],[0.2222222222222222,\"#7201a8\"],[0.3333333333333333,\"#9c179e\"],[0.4444444444444444,\"#bd3786\"],[0.5555555555555556,\"#d8576b\"],[0.6666666666666666,\"#ed7953\"],[0.7777777777777778,\"#fb9f3a\"],[0.8888888888888888,\"#fdca26\"],[1.0,\"#f0f921\"]]}],\"choropleth\":[{\"type\":\"choropleth\",\"colorbar\":{\"outlinewidth\":0,\"ticks\":\"\"}}],\"histogram2d\":[{\"type\":\"histogram2d\",\"colorbar\":{\"outlinewidth\":0,\"ticks\":\"\"},\"colorscale\":[[0.0,\"#0d0887\"],[0.1111111111111111,\"#46039f\"],[0.2222222222222222,\"#7201a8\"],[0.3333333333333333,\"#9c179e\"],[0.4444444444444444,\"#bd3786\"],[0.5555555555555556,\"#d8576b\"],[0.6666666666666666,\"#ed7953\"],[0.7777777777777778,\"#fb9f3a\"],[0.8888888888888888,\"#fdca26\"],[1.0,\"#f0f921\"]]}],\"heatmap\":[{\"type\":\"heatmap\",\"colorbar\":{\"outlinewidth\":0,\"ticks\":\"\"},\"colorscale\":[[0.0,\"#0d0887\"],[0.1111111111111111,\"#46039f\"],[0.2222222222222222,\"#7201a8\"],[0.3333333333333333,\"#9c179e\"],[0.4444444444444444,\"#bd3786\"],[0.5555555555555556,\"#d8576b\"],[0.6666666666666666,\"#ed7953\"],[0.7777777777777778,\"#fb9f3a\"],[0.8888888888888888,\"#fdca26\"],[1.0,\"#f0f921\"]]}],\"heatmapgl\":[{\"type\":\"heatmapgl\",\"colorbar\":{\"outlinewidth\":0,\"ticks\":\"\"},\"colorscale\":[[0.0,\"#0d0887\"],[0.1111111111111111,\"#46039f\"],[0.2222222222222222,\"#7201a8\"],[0.3333333333333333,\"#9c179e\"],[0.4444444444444444,\"#bd3786\"],[0.5555555555555556,\"#d8576b\"],[0.6666666666666666,\"#ed7953\"],[0.7777777777777778,\"#fb9f3a\"],[0.8888888888888888,\"#fdca26\"],[1.0,\"#f0f921\"]]}],\"contourcarpet\":[{\"type\":\"contourcarpet\",\"colorbar\":{\"outlinewidth\":0,\"ticks\":\"\"}}],\"contour\":[{\"type\":\"contour\",\"colorbar\":{\"outlinewidth\":0,\"ticks\":\"\"},\"colorscale\":[[0.0,\"#0d0887\"],[0.1111111111111111,\"#46039f\"],[0.2222222222222222,\"#7201a8\"],[0.3333333333333333,\"#9c179e\"],[0.4444444444444444,\"#bd3786\"],[0.5555555555555556,\"#d8576b\"],[0.6666666666666666,\"#ed7953\"],[0.7777777777777778,\"#fb9f3a\"],[0.8888888888888888,\"#fdca26\"],[1.0,\"#f0f921\"]]}],\"surface\":[{\"type\":\"surface\",\"colorbar\":{\"outlinewidth\":0,\"ticks\":\"\"},\"colorscale\":[[0.0,\"#0d0887\"],[0.1111111111111111,\"#46039f\"],[0.2222222222222222,\"#7201a8\"],[0.3333333333333333,\"#9c179e\"],[0.4444444444444444,\"#bd3786\"],[0.5555555555555556,\"#d8576b\"],[0.6666666666666666,\"#ed7953\"],[0.7777777777777778,\"#fb9f3a\"],[0.8888888888888888,\"#fdca26\"],[1.0,\"#f0f921\"]]}],\"mesh3d\":[{\"type\":\"mesh3d\",\"colorbar\":{\"outlinewidth\":0,\"ticks\":\"\"}}],\"scatter\":[{\"fillpattern\":{\"fillmode\":\"overlay\",\"size\":10,\"solidity\":0.2},\"type\":\"scatter\"}],\"parcoords\":[{\"type\":\"parcoords\",\"line\":{\"colorbar\":{\"outlinewidth\":0,\"ticks\":\"\"}}}],\"scatterpolargl\":[{\"type\":\"scatterpolargl\",\"marker\":{\"colorbar\":{\"outlinewidth\":0,\"ticks\":\"\"}}}],\"bar\":[{\"error_x\":{\"color\":\"#2a3f5f\"},\"error_y\":{\"color\":\"#2a3f5f\"},\"marker\":{\"line\":{\"color\":\"#E5ECF6\",\"width\":0.5},\"pattern\":{\"fillmode\":\"overlay\",\"size\":10,\"solidity\":0.2}},\"type\":\"bar\"}],\"scattergeo\":[{\"type\":\"scattergeo\",\"marker\":{\"colorbar\":{\"outlinewidth\":0,\"ticks\":\"\"}}}],\"scatterpolar\":[{\"type\":\"scatterpolar\",\"marker\":{\"colorbar\":{\"outlinewidth\":0,\"ticks\":\"\"}}}],\"histogram\":[{\"marker\":{\"pattern\":{\"fillmode\":\"overlay\",\"size\":10,\"solidity\":0.2}},\"type\":\"histogram\"}],\"scattergl\":[{\"type\":\"scattergl\",\"marker\":{\"colorbar\":{\"outlinewidth\":0,\"ticks\":\"\"}}}],\"scatter3d\":[{\"type\":\"scatter3d\",\"line\":{\"colorbar\":{\"outlinewidth\":0,\"ticks\":\"\"}},\"marker\":{\"colorbar\":{\"outlinewidth\":0,\"ticks\":\"\"}}}],\"scattermapbox\":[{\"type\":\"scattermapbox\",\"marker\":{\"colorbar\":{\"outlinewidth\":0,\"ticks\":\"\"}}}],\"scatterternary\":[{\"type\":\"scatterternary\",\"marker\":{\"colorbar\":{\"outlinewidth\":0,\"ticks\":\"\"}}}],\"scattercarpet\":[{\"type\":\"scattercarpet\",\"marker\":{\"colorbar\":{\"outlinewidth\":0,\"ticks\":\"\"}}}],\"carpet\":[{\"aaxis\":{\"endlinecolor\":\"#2a3f5f\",\"gridcolor\":\"white\",\"linecolor\":\"white\",\"minorgridcolor\":\"white\",\"startlinecolor\":\"#2a3f5f\"},\"baxis\":{\"endlinecolor\":\"#2a3f5f\",\"gridcolor\":\"white\",\"linecolor\":\"white\",\"minorgridcolor\":\"white\",\"startlinecolor\":\"#2a3f5f\"},\"type\":\"carpet\"}],\"table\":[{\"cells\":{\"fill\":{\"color\":\"#EBF0F8\"},\"line\":{\"color\":\"white\"}},\"header\":{\"fill\":{\"color\":\"#C8D4E3\"},\"line\":{\"color\":\"white\"}},\"type\":\"table\"}],\"barpolar\":[{\"marker\":{\"line\":{\"color\":\"#E5ECF6\",\"width\":0.5},\"pattern\":{\"fillmode\":\"overlay\",\"size\":10,\"solidity\":0.2}},\"type\":\"barpolar\"}],\"pie\":[{\"automargin\":true,\"type\":\"pie\"}]},\"layout\":{\"autotypenumbers\":\"strict\",\"colorway\":[\"#636efa\",\"#EF553B\",\"#00cc96\",\"#ab63fa\",\"#FFA15A\",\"#19d3f3\",\"#FF6692\",\"#B6E880\",\"#FF97FF\",\"#FECB52\"],\"font\":{\"color\":\"#2a3f5f\"},\"hovermode\":\"closest\",\"hoverlabel\":{\"align\":\"left\"},\"paper_bgcolor\":\"white\",\"plot_bgcolor\":\"#E5ECF6\",\"polar\":{\"bgcolor\":\"#E5ECF6\",\"angularaxis\":{\"gridcolor\":\"white\",\"linecolor\":\"white\",\"ticks\":\"\"},\"radialaxis\":{\"gridcolor\":\"white\",\"linecolor\":\"white\",\"ticks\":\"\"}},\"ternary\":{\"bgcolor\":\"#E5ECF6\",\"aaxis\":{\"gridcolor\":\"white\",\"linecolor\":\"white\",\"ticks\":\"\"},\"baxis\":{\"gridcolor\":\"white\",\"linecolor\":\"white\",\"ticks\":\"\"},\"caxis\":{\"gridcolor\":\"white\",\"linecolor\":\"white\",\"ticks\":\"\"}},\"coloraxis\":{\"colorbar\":{\"outlinewidth\":0,\"ticks\":\"\"}},\"colorscale\":{\"sequential\":[[0.0,\"#0d0887\"],[0.1111111111111111,\"#46039f\"],[0.2222222222222222,\"#7201a8\"],[0.3333333333333333,\"#9c179e\"],[0.4444444444444444,\"#bd3786\"],[0.5555555555555556,\"#d8576b\"],[0.6666666666666666,\"#ed7953\"],[0.7777777777777778,\"#fb9f3a\"],[0.8888888888888888,\"#fdca26\"],[1.0,\"#f0f921\"]],\"sequentialminus\":[[0.0,\"#0d0887\"],[0.1111111111111111,\"#46039f\"],[0.2222222222222222,\"#7201a8\"],[0.3333333333333333,\"#9c179e\"],[0.4444444444444444,\"#bd3786\"],[0.5555555555555556,\"#d8576b\"],[0.6666666666666666,\"#ed7953\"],[0.7777777777777778,\"#fb9f3a\"],[0.8888888888888888,\"#fdca26\"],[1.0,\"#f0f921\"]],\"diverging\":[[0,\"#8e0152\"],[0.1,\"#c51b7d\"],[0.2,\"#de77ae\"],[0.3,\"#f1b6da\"],[0.4,\"#fde0ef\"],[0.5,\"#f7f7f7\"],[0.6,\"#e6f5d0\"],[0.7,\"#b8e186\"],[0.8,\"#7fbc41\"],[0.9,\"#4d9221\"],[1,\"#276419\"]]},\"xaxis\":{\"gridcolor\":\"white\",\"linecolor\":\"white\",\"ticks\":\"\",\"title\":{\"standoff\":15},\"zerolinecolor\":\"white\",\"automargin\":true,\"zerolinewidth\":2},\"yaxis\":{\"gridcolor\":\"white\",\"linecolor\":\"white\",\"ticks\":\"\",\"title\":{\"standoff\":15},\"zerolinecolor\":\"white\",\"automargin\":true,\"zerolinewidth\":2},\"scene\":{\"xaxis\":{\"backgroundcolor\":\"#E5ECF6\",\"gridcolor\":\"white\",\"linecolor\":\"white\",\"showbackground\":true,\"ticks\":\"\",\"zerolinecolor\":\"white\",\"gridwidth\":2},\"yaxis\":{\"backgroundcolor\":\"#E5ECF6\",\"gridcolor\":\"white\",\"linecolor\":\"white\",\"showbackground\":true,\"ticks\":\"\",\"zerolinecolor\":\"white\",\"gridwidth\":2},\"zaxis\":{\"backgroundcolor\":\"#E5ECF6\",\"gridcolor\":\"white\",\"linecolor\":\"white\",\"showbackground\":true,\"ticks\":\"\",\"zerolinecolor\":\"white\",\"gridwidth\":2}},\"shapedefaults\":{\"line\":{\"color\":\"#2a3f5f\"}},\"annotationdefaults\":{\"arrowcolor\":\"#2a3f5f\",\"arrowhead\":0,\"arrowwidth\":1},\"geo\":{\"bgcolor\":\"white\",\"landcolor\":\"#E5ECF6\",\"subunitcolor\":\"white\",\"showland\":true,\"showlakes\":true,\"lakecolor\":\"white\"},\"title\":{\"x\":0.05},\"mapbox\":{\"style\":\"light\"}}},\"xaxis\":{\"anchor\":\"y\",\"domain\":[0.0,1.0],\"title\":{\"text\":\"Discount\"}},\"yaxis\":{\"anchor\":\"x\",\"domain\":[0.0,1.0],\"title\":{\"text\":\"Profit\"},\"range\":[-20000,70000],\"categoryarray\":[\"Furniture\",\"Office Supplies\",\"Technology\"]},\"legend\":{\"title\":{\"text\":\"Category\"},\"tracegroupgap\":0,\"itemsizing\":\"constant\"},\"margin\":{\"t\":130},\"updatemenus\":[{\"buttons\":[{\"args\":[null,{\"frame\":{\"duration\":500,\"redraw\":false},\"mode\":\"immediate\",\"fromcurrent\":true,\"transition\":{\"duration\":500,\"easing\":\"linear\"}}],\"label\":\"&#9654;\",\"method\":\"animate\"},{\"args\":[[null],{\"frame\":{\"duration\":0,\"redraw\":false},\"mode\":\"immediate\",\"fromcurrent\":true,\"transition\":{\"duration\":0,\"easing\":\"linear\"}}],\"label\":\"&#9724;\",\"method\":\"animate\"}],\"direction\":\"left\",\"pad\":{\"r\":10,\"t\":70},\"showactive\":false,\"type\":\"buttons\",\"x\":0.1,\"xanchor\":\"right\",\"y\":0,\"yanchor\":\"top\"}],\"sliders\":[{\"active\":0,\"currentvalue\":{\"prefix\":\"Quarter=\"},\"len\":0.9,\"pad\":{\"b\":10,\"t\":60},\"steps\":[{\"args\":[[\"1\"],{\"frame\":{\"duration\":0,\"redraw\":false},\"mode\":\"immediate\",\"fromcurrent\":true,\"transition\":{\"duration\":0,\"easing\":\"linear\"}}],\"label\":\"1\",\"method\":\"animate\"},{\"args\":[[\"2\"],{\"frame\":{\"duration\":0,\"redraw\":false},\"mode\":\"immediate\",\"fromcurrent\":true,\"transition\":{\"duration\":0,\"easing\":\"linear\"}}],\"label\":\"2\",\"method\":\"animate\"},{\"args\":[[\"3\"],{\"frame\":{\"duration\":0,\"redraw\":false},\"mode\":\"immediate\",\"fromcurrent\":true,\"transition\":{\"duration\":0,\"easing\":\"linear\"}}],\"label\":\"3\",\"method\":\"animate\"},{\"args\":[[\"4\"],{\"frame\":{\"duration\":0,\"redraw\":false},\"mode\":\"immediate\",\"fromcurrent\":true,\"transition\":{\"duration\":0,\"easing\":\"linear\"}}],\"label\":\"4\",\"method\":\"animate\"}],\"x\":0.1,\"xanchor\":\"left\",\"y\":0,\"yanchor\":\"top\"}],\"title\":{\"font\":{\"size\":25,\"family\":\"Franklin Gothic\"},\"text\":\"Profit and order volume based on discount by quarters\",\"y\":0.95,\"x\":0.1},\"height\":600,\"width\":900,\"paper_bgcolor\":\"#f8fff2\",\"plot_bgcolor\":\"#f8fff2\"},                        {\"responsive\": true}                    ).then(function(){\n",
       "                            Plotly.addFrames('0738f292-c35b-4c38-ada0-7b2a9249879b', [{\"data\":[{\"hovertemplate\":\"<b>%{hovertext}</b><br><br>Category=Furniture<br>Quarter=1<br>Discount=%{x}<br>Profit=%{y}<br>Order volumn=%{marker.size}<extra></extra>\",\"hovertext\":[\"Furniture\",\"Furniture\",\"Furniture\",\"Furniture\",\"Furniture\",\"Furniture\",\"Furniture\",\"Furniture\",\"Furniture\",\"Furniture\"],\"legendgroup\":\"Furniture\",\"marker\":{\"color\":\"#ffb400\",\"size\":[118,8,5,71,35,7,11,10,17,2],\"sizemode\":\"area\",\"sizeref\":0.448,\"symbol\":\"circle\"},\"mode\":\"markers\",\"name\":\"Furniture\",\"orientation\":\"v\",\"showlegend\":true,\"x\":[0.0,10.0,15.0,20.0,30.0,32.0,40.0,50.0,60.0,70.0],\"xaxis\":\"x\",\"y\":[8409.5621,303.8881,82.5396,689.1243,-1663.0329,-638.885,-4114.9252,-2046.3294,-1081.1887,-419.3988],\"yaxis\":\"y\",\"type\":\"scatter\"},{\"hovertemplate\":\"<b>%{hovertext}</b><br><br>Category=Office Supplies<br>Quarter=1<br>Discount=%{x}<br>Profit=%{y}<br>Order volumn=%{marker.size}<extra></extra>\",\"hovertext\":[\"Office Supplies\",\"Office Supplies\",\"Office Supplies\",\"Office Supplies\",\"Office Supplies\"],\"legendgroup\":\"Office Supplies\",\"marker\":{\"color\":\"#363445\",\"size\":[463,2,262,47,44],\"sizemode\":\"area\",\"sizeref\":0.448,\"symbol\":\"circle\"},\"mode\":\"markers\",\"name\":\"Office Supplies\",\"orientation\":\"v\",\"showlegend\":true,\"x\":[0.0,10.0,20.0,70.0,80.0],\"xaxis\":\"x\",\"y\":[22582.2644,141.9152,3415.7999,-893.1537999999999,-4273.4118],\"yaxis\":\"y\",\"type\":\"scatter\"},{\"hovertemplate\":\"<b>%{hovertext}</b><br><br>Category=Technology<br>Quarter=1<br>Discount=%{x}<br>Profit=%{y}<br>Order volumn=%{marker.size}<extra></extra>\",\"hovertext\":[\"Technology\",\"Technology\",\"Technology\",\"Technology\",\"Technology\",\"Technology\",\"Technology\"],\"legendgroup\":\"Technology\",\"marker\":{\"color\":\"#9080ff\",\"size\":[119,2,119,2,28,3,2],\"sizemode\":\"area\",\"sizeref\":0.448,\"symbol\":\"circle\"},\"mode\":\"markers\",\"name\":\"Technology\",\"orientation\":\"v\",\"showlegend\":true,\"x\":[0.0,10.0,20.0,30.0,40.0,50.0,70.0],\"xaxis\":\"x\",\"y\":[25360.888000000003,832.0843,5820.5322,165.0464,-1200.1325,-1855.3324,-1594.1100000000001],\"yaxis\":\"y\",\"type\":\"scatter\"}],\"name\":\"1\"},{\"data\":[{\"hovertemplate\":\"<b>%{hovertext}</b><br><br>Category=Furniture<br>Quarter=2<br>Discount=%{x}<br>Profit=%{y}<br>Order volumn=%{marker.size}<extra></extra>\",\"hovertext\":[\"Furniture\",\"Furniture\",\"Furniture\",\"Furniture\",\"Furniture\",\"Furniture\",\"Furniture\",\"Furniture\",\"Furniture\",\"Furniture\",\"Furniture\"],\"legendgroup\":\"Furniture\",\"marker\":{\"color\":\"#ffb400\",\"size\":[161,12,14,130,51,5,12,4,10,32,2],\"sizemode\":\"area\",\"sizeref\":0.448,\"symbol\":\"circle\"},\"mode\":\"markers\",\"name\":\"Furniture\",\"orientation\":\"v\",\"showlegend\":true,\"x\":[0.0,10.0,15.0,20.0,30.0,32.0,40.0,45.0,50.0,60.0,70.0],\"xaxis\":\"x\",\"y\":[12219.7429,970.3186,430.30559999999997,680.1125,-2435.9509,-283.6658,-1631.2266,-885.0468,-2797.2122,-1012.4194,-509.94899999999996],\"yaxis\":\"y\",\"type\":\"scatter\"},{\"hovertemplate\":\"<b>%{hovertext}</b><br><br>Category=Office Supplies<br>Quarter=2<br>Discount=%{x}<br>Profit=%{y}<br>Order volumn=%{marker.size}<extra></extra>\",\"hovertext\":[\"Office Supplies\",\"Office Supplies\",\"Office Supplies\",\"Office Supplies\",\"Office Supplies\"],\"legendgroup\":\"Office Supplies\",\"marker\":{\"color\":\"#363445\",\"size\":[659,5,485,90,74],\"sizemode\":\"area\",\"sizeref\":0.448,\"symbol\":\"circle\"},\"mode\":\"markers\",\"name\":\"Office Supplies\",\"orientation\":\"v\",\"showlegend\":true,\"x\":[0.0,10.0,20.0,70.0,80.0],\"xaxis\":\"x\",\"y\":[25363.2348,425.3784,8049.6283,-2334.7391,-6652.4776],\"yaxis\":\"y\",\"type\":\"scatter\"},{\"hovertemplate\":\"<b>%{hovertext}</b><br><br>Category=Technology<br>Quarter=2<br>Discount=%{x}<br>Profit=%{y}<br>Order volumn=%{marker.size}<extra></extra>\",\"hovertext\":[\"Technology\",\"Technology\",\"Technology\",\"Technology\",\"Technology\",\"Technology\"],\"legendgroup\":\"Technology\",\"marker\":{\"color\":\"#9080ff\",\"size\":[162,183,1,23,2,3],\"sizemode\":\"area\",\"sizeref\":0.448,\"symbol\":\"circle\"},\"mode\":\"markers\",\"name\":\"Technology\",\"orientation\":\"v\",\"showlegend\":true,\"x\":[0.0,20.0,30.0,40.0,50.0,70.0],\"xaxis\":\"x\",\"y\":[18338.9735,10603.233,43.1991,470.1839999999998,-29.6575,-3737.4263],\"yaxis\":\"y\",\"type\":\"scatter\"}],\"name\":\"2\"},{\"data\":[{\"hovertemplate\":\"<b>%{hovertext}</b><br><br>Category=Furniture<br>Quarter=3<br>Discount=%{x}<br>Profit=%{y}<br>Order volumn=%{marker.size}<extra></extra>\",\"hovertext\":[\"Furniture\",\"Furniture\",\"Furniture\",\"Furniture\",\"Furniture\",\"Furniture\",\"Furniture\",\"Furniture\",\"Furniture\",\"Furniture\",\"Furniture\"],\"legendgroup\":\"Furniture\",\"marker\":{\"color\":\"#ffb400\",\"size\":[228,27,14,168,59,5,19,3,15,29,3],\"sizemode\":\"area\",\"sizeref\":0.448,\"symbol\":\"circle\"},\"mode\":\"markers\",\"name\":\"Furniture\",\"orientation\":\"v\",\"showlegend\":true,\"x\":[0.0,10.0,15.0,20.0,30.0,32.0,40.0,45.0,50.0,60.0,70.0],\"xaxis\":\"x\",\"y\":[14206.8658,3067.19,794.6204,2243.8172,-3260.8646,-806.3898,-2312.5566,-533.6704,-4693.6548,-1267.9074,-560.6687999999999],\"yaxis\":\"y\",\"type\":\"scatter\"},{\"hovertemplate\":\"<b>%{hovertext}</b><br><br>Category=Office Supplies<br>Quarter=3<br>Discount=%{x}<br>Profit=%{y}<br>Order volumn=%{marker.size}<extra></extra>\",\"hovertext\":[\"Office Supplies\",\"Office Supplies\",\"Office Supplies\",\"Office Supplies\",\"Office Supplies\"],\"legendgroup\":\"Office Supplies\",\"marker\":{\"color\":\"#363445\",\"size\":[887,3,648,110,81],\"sizemode\":\"area\",\"sizeref\":0.448,\"symbol\":\"circle\"},\"mode\":\"markers\",\"name\":\"Office Supplies\",\"orientation\":\"v\",\"showlegend\":true,\"x\":[0.0,10.0,20.0,70.0,80.0],\"xaxis\":\"x\",\"y\":[35791.1943,180.75,11326.2359,-5880.2103,-9126.3468],\"yaxis\":\"y\",\"type\":\"scatter\"},{\"hovertemplate\":\"<b>%{hovertext}</b><br><br>Category=Technology<br>Quarter=3<br>Discount=%{x}<br>Profit=%{y}<br>Order volumn=%{marker.size}<extra></extra>\",\"hovertext\":[\"Technology\",\"Technology\",\"Technology\",\"Technology\",\"Technology\",\"Technology\"],\"legendgroup\":\"Technology\",\"marker\":{\"color\":\"#9080ff\",\"size\":[245,210,1,36,3,5],\"sizemode\":\"area\",\"sizeref\":0.448,\"symbol\":\"circle\"},\"mode\":\"markers\",\"name\":\"Technology\",\"orientation\":\"v\",\"showlegend\":true,\"x\":[0.0,20.0,30.0,40.0,50.0,70.0],\"xaxis\":\"x\",\"y\":[27530.3861,12799.8646,-19.47,-4296.2665,-1628.4897,-1087.3500999999999],\"yaxis\":\"y\",\"type\":\"scatter\"}],\"name\":\"3\"},{\"data\":[{\"hovertemplate\":\"<b>%{hovertext}</b><br><br>Category=Furniture<br>Quarter=4<br>Discount=%{x}<br>Profit=%{y}<br>Order volumn=%{marker.size}<extra></extra>\",\"hovertext\":[\"Furniture\",\"Furniture\",\"Furniture\",\"Furniture\",\"Furniture\",\"Furniture\",\"Furniture\",\"Furniture\",\"Furniture\",\"Furniture\",\"Furniture\"],\"legendgroup\":\"Furniture\",\"marker\":{\"color\":\"#ffb400\",\"size\":[329,29,19,246,77,10,33,4,19,60,8],\"sizemode\":\"area\",\"sizeref\":0.448,\"symbol\":\"circle\"},\"mode\":\"markers\",\"name\":\"Furniture\",\"orientation\":\"v\",\"showlegend\":true,\"x\":[0.0,10.0,15.0,20.0,30.0,32.0,40.0,45.0,50.0,60.0,70.0],\"xaxis\":\"x\",\"y\":[23296.9056,2769.6152,111.52590000000001,2652.8950999999997,-3335.4685,-662.1971,-8128.6884,-1074.3939,-3334.0026,-2583.1396999999997,-2404.9228000000003],\"yaxis\":\"y\",\"type\":\"scatter\"},{\"hovertemplate\":\"<b>%{hovertext}</b><br><br>Category=Office Supplies<br>Quarter=4<br>Discount=%{x}<br>Profit=%{y}<br>Order volumn=%{marker.size}<extra></extra>\",\"hovertext\":[\"Office Supplies\",\"Office Supplies\",\"Office Supplies\",\"Office Supplies\",\"Office Supplies\"],\"legendgroup\":\"Office Supplies\",\"marker\":{\"color\":\"#363445\",\"size\":[1120,6,806,133,101],\"sizemode\":\"area\",\"sizeref\":0.448,\"symbol\":\"circle\"},\"mode\":\"markers\",\"name\":\"Office Supplies\",\"orientation\":\"v\",\"showlegend\":true,\"x\":[0.0,10.0,20.0,70.0,80.0],\"xaxis\":\"x\",\"y\":[46769.4129,338.0372,15247.0871,-7492.9952,-10486.803],\"yaxis\":\"y\",\"type\":\"scatter\"},{\"hovertemplate\":\"<b>%{hovertext}</b><br><br>Category=Technology<br>Quarter=4<br>Discount=%{x}<br>Profit=%{y}<br>Order volumn=%{marker.size}<extra></extra>\",\"hovertext\":[\"Technology\",\"Technology\",\"Technology\",\"Technology\",\"Technology\",\"Technology\"],\"legendgroup\":\"Technology\",\"marker\":{\"color\":\"#9080ff\",\"size\":[307,329,1,44,4,13],\"sizemode\":\"area\",\"sizeref\":0.448,\"symbol\":\"circle\"},\"mode\":\"markers\",\"name\":\"Technology\",\"orientation\":\"v\",\"showlegend\":true,\"x\":[0.0,20.0,30.0,40.0,50.0,70.0],\"xaxis\":\"x\",\"y\":[61118.1728,16808.9759,137.264,-1843.4386,-4121.7495,-13160.4327],\"yaxis\":\"y\",\"type\":\"scatter\"}],\"name\":\"4\"}]);\n",
       "                        }).then(function(){\n",
       "                            \n",
       "var gd = document.getElementById('0738f292-c35b-4c38-ada0-7b2a9249879b');\n",
       "var x = new MutationObserver(function (mutations, observer) {{\n",
       "        var display = window.getComputedStyle(gd).display;\n",
       "        if (!display || display === 'none') {{\n",
       "            console.log([gd, 'removed!']);\n",
       "            Plotly.purge(gd);\n",
       "            observer.disconnect();\n",
       "        }}\n",
       "}});\n",
       "\n",
       "// Listen for the removal of the full notebook cells\n",
       "var notebookContainer = gd.closest('#notebook-container');\n",
       "if (notebookContainer) {{\n",
       "    x.observe(notebookContainer, {childList: true});\n",
       "}}\n",
       "\n",
       "// Listen for the clearing of the current output cell\n",
       "var outputEl = gd.closest('.output');\n",
       "if (outputEl) {{\n",
       "    x.observe(outputEl, {childList: true});\n",
       "}}\n",
       "\n",
       "                        })                };                });            </script>        </div>"
      ]
     },
     "metadata": {},
     "output_type": "display_data"
    }
   ],
   "source": [
    "#Trực quan hóa dữ liệu\n",
    "colors = [\"#ffb400\",\"#363445\",\"#9080ff\"]\n",
    "fig=px.scatter(discount_df, y = 'Profit', x = 'Discount', size = 'Order volumn', hover_name = 'Category', color = 'Category', \n",
    "               color_discrete_sequence=colors,\n",
    "               animation_frame = 'Quarter',size_max=50,\n",
    "               range_y=[-20000,70000]).update_yaxes(categoryarray = ['Furniture', 'Office Supplies', 'Technology'])\n",
    "\n",
    "fig.update_layout(title={'text': \"Profit and order volume based on discount by quarters\",'y':0.95,'x':0.1},\n",
    "                  titlefont = dict(size = 25, family=\"Franklin Gothic\"),\n",
    "                  height = 600,\n",
    "                  width = 900,\n",
    "                  paper_bgcolor='#f8fff2', plot_bgcolor='#f8fff2',\n",
    "                  margin=dict(t=130 ,))\n",
    "\n",
    "fig.show()"
   ]
  },
  {
   "cell_type": "markdown",
   "id": "f0ad013f-76ef-468b-a044-589497a6cbb4",
   "metadata": {},
   "source": [
    "**Nhận xét:**\n",
    "- Nhìn chung quy mô bán ra và lợi nhuận cao khi giảm giá 0% và 20%.\n",
    "- Các mức giảm giá còn lại không đem lại giá trị đáng kể, thậm chí với mức discount trên 50% sẽ gây lỗ vốn. cho dù có giúp cải thiện số lượng mua hàng.\n",
    "- Với 2 mức discount nổi bật là 0% và 20%, điểm đặt biệt là không giảm giá thì lợi nhuận lại cao hơn, dù số lượng bán ra cũng xấp xỉ nhau.\n",
    "</br>=> Chiến thuật giảm giá nên áp dụng ở 2 mức này. Với khi áp dụng mức 20%, mục đích chính có thể không phải do lợi nhuận, mà để xả hàng tồn kho, hoặc phục vụ cho mục đích quảng bá thương hiệu.\n",
    "- Càng về quý cuối, lợi nhuận và số lượng mua càng tăng, đặc biệt là với loại hàng Technology."
   ]
  },
  {
   "cell_type": "markdown",
   "id": "38cd5296-bbf4-4314-8d4d-86aab868c05c",
   "metadata": {},
   "source": [
    "**Kỹ thuật trực quan sử dụng:**\n",
    "\n",
    "- ***Màu sắc***: dùng màu sắc để thể hiện cho 3 loại sản phẩm, phù hợp với tính chất từng loại:\n",
    "    - Màu xanh dương: cho loại hàng Furniture, màu vàng cho Furniture và xanh đậm cho Technology.\n",
    "    \n",
    "- ***Kỹ thuật Manipulate View:***\n",
    "    + Tương tác trực tiếp với tooltip, hiển thị các giá trị về mức Discoun, Category, Profit, Quality.\n",
    "    + Điều chỉnh được quý cần thiết track.\n",
    "  \n",
    "=> Những kỹ thuật này giúp đồ thị vẫn giữ được sự rõ ràng, trực quan, tương tác thân thiện."
   ]
  },
  {
   "cell_type": "markdown",
   "id": "70bc2f6f-3fd0-4f93-843e-d5f90b40558f",
   "metadata": {},
   "source": [
    "## Biểu đồ 4:\n"
   ]
  },
  {
   "cell_type": "code",
   "execution_count": 152,
   "id": "2527341d-6717-45fa-99a5-1004c7507076",
   "metadata": {
    "tags": []
   },
   "outputs": [
    {
     "name": "stdout",
     "output_type": "stream",
     "text": [
      "Index(['Row ID', 'Order ID', 'Order Date', 'Ship Date', 'Ship Mode',\n",
      "       'Customer ID', 'Customer Name', 'Segment', 'Country', 'City', 'State',\n",
      "       'Postal Code', 'Region', 'Product ID', 'Category', 'Sub-Category',\n",
      "       'Product Name', 'Sales', 'Quantity', 'Discount', 'Profit', 'Year',\n",
      "       'Month', 'Day', 'Year-Quarter', 'Quarter'],\n",
      "      dtype='object')\n"
     ]
    }
   ],
   "source": [
    "df4 = df3.copy()\n",
    "# df4 = df4[df4['Year'] >= 2016]\n",
    "# df4 = df4[(df4['Quarter'] == 4) | (df4['Year'] == 2017)]\n",
    "df4[\"Year-Quarter\"] = df4[\"Year-Quarter\"].astype(str)\n",
    "print(df4.columns)\n",
    "df4 = df4[['Ship Mode', 'Order Date', 'Month', 'Year', 'Year-Quarter', 'Profit']]\n",
    "df4_cnt = df4.groupby(['Ship Mode', 'Year-Quarter'])['Profit'].sum().reset_index()"
   ]
  },
  {
   "cell_type": "code",
   "execution_count": 153,
   "id": "239cbf93-321e-49e9-8f91-6bd53c148c87",
   "metadata": {
    "tags": []
   },
   "outputs": [
    {
     "data": {
      "text/plain": [
       "array(['Second Class', 'Standard Class', 'First Class', 'Same Day'],\n",
       "      dtype=object)"
      ]
     },
     "execution_count": 153,
     "metadata": {},
     "output_type": "execute_result"
    }
   ],
   "source": [
    "df4['Ship Mode'].unique()"
   ]
  },
  {
   "cell_type": "code",
   "execution_count": 154,
   "id": "c74499ff-e43d-4f12-9291-0b0d4a318a87",
   "metadata": {
    "tags": []
   },
   "outputs": [
    {
     "data": {
      "application/vnd.plotly.v1+json": {
       "config": {
        "plotlyServerURL": "https://plot.ly"
       },
       "data": [
        {
         "fillpattern": {
          "shape": ""
         },
         "hovertemplate": "Ship Mode=First Class<br>Year-Quarter=%{x}<br>Profit=%{y}<extra></extra>",
         "legendgroup": "",
         "line": {
          "color": "#636efa"
         },
         "marker": {
          "symbol": "circle"
         },
         "mode": "lines",
         "name": "",
         "orientation": "v",
         "showlegend": false,
         "stackgroup": "1",
         "type": "scatter",
         "x": [
          "2014Q1",
          "2014Q2",
          "2014Q3",
          "2014Q4",
          "2015Q1",
          "2015Q2",
          "2015Q3",
          "2015Q4",
          "2016Q1",
          "2016Q2",
          "2016Q3",
          "2016Q4",
          "2017Q1",
          "2017Q2",
          "2017Q3",
          "2017Q4"
         ],
         "xaxis": "x",
         "y": [
          537.9227999999999,
          884.7677000000001,
          2698.6087,
          4952.234,
          3025.8968,
          3601.2939,
          2938.825,
          580.4244999999999,
          1469.6962,
          1925.6102,
          1650.4198999999999,
          4310.1224,
          8708.0152,
          2808.7642,
          2054.1303,
          6823.1081
         ],
         "yaxis": "y"
        },
        {
         "fillpattern": {
          "shape": ""
         },
         "hovertemplate": "Ship Mode=Same Day<br>Year-Quarter=%{x}<br>Profit=%{y}<extra></extra>",
         "legendgroup": "",
         "line": {
          "color": "#636efa"
         },
         "marker": {
          "symbol": "circle"
         },
         "mode": "lines",
         "name": "",
         "orientation": "v",
         "showlegend": false,
         "stackgroup": "1",
         "type": "scatter",
         "x": [
          "2014Q1",
          "2014Q2",
          "2014Q3",
          "2014Q4",
          "2015Q1",
          "2015Q2",
          "2015Q3",
          "2015Q4",
          "2016Q1",
          "2016Q2",
          "2016Q3",
          "2016Q4",
          "2017Q1",
          "2017Q2",
          "2017Q3",
          "2017Q4"
         ],
         "xaxis": "x2",
         "y": [
          109.41720000000001,
          669.6896,
          2044.3535,
          -67.95319999999997,
          225.2187,
          212.8328,
          346.58549999999997,
          3542.7904999999996,
          1697.5289,
          1288.3398,
          998.7836,
          1455.7969,
          1011.5858,
          923.8673,
          4479.987,
          -3047.065
         ],
         "yaxis": "y2"
        },
        {
         "fillpattern": {
          "shape": ""
         },
         "hovertemplate": "Ship Mode=Second Class<br>Year-Quarter=%{x}<br>Profit=%{y}<extra></extra>",
         "legendgroup": "",
         "line": {
          "color": "#636efa"
         },
         "marker": {
          "symbol": "circle"
         },
         "mode": "lines",
         "name": "",
         "orientation": "v",
         "showlegend": false,
         "stackgroup": "1",
         "type": "scatter",
         "x": [
          "2014Q1",
          "2014Q2",
          "2014Q3",
          "2014Q4",
          "2015Q1",
          "2015Q2",
          "2015Q3",
          "2015Q4",
          "2016Q1",
          "2016Q2",
          "2016Q3",
          "2016Q4",
          "2017Q1",
          "2017Q2",
          "2017Q3",
          "2017Q4"
         ],
         "xaxis": "x3",
         "y": [
          1501.5889,
          2313.8753,
          3446.8239,
          2497.1689,
          -1234.6689000000001,
          989.2853,
          3196.6714,
          7799.8641,
          2362.7317,
          3214.079,
          2583.037,
          8186.9093,
          6269.4437,
          3983.8855,
          3085.7372,
          7250.2031
         ],
         "yaxis": "y3"
        },
        {
         "fillpattern": {
          "shape": ""
         },
         "hovertemplate": "Ship Mode=Standard Class<br>Year-Quarter=%{x}<br>Profit=%{y}<extra></extra>",
         "legendgroup": "",
         "line": {
          "color": "#636efa"
         },
         "marker": {
          "symbol": "circle"
         },
         "mode": "lines",
         "name": "",
         "orientation": "v",
         "showlegend": false,
         "stackgroup": "1",
         "type": "scatter",
         "x": [
          "2014Q1",
          "2014Q2",
          "2014Q3",
          "2014Q4",
          "2015Q1",
          "2015Q2",
          "2015Q3",
          "2015Q4",
          "2016Q1",
          "2016Q2",
          "2016Q3",
          "2016Q4",
          "2017Q1",
          "2017Q2",
          "2017Q3",
          "2017Q4"
         ],
         "xaxis": "x4",
         "y": [
          1662.3001,
          7335.7366,
          4614.9357,
          14342.5044,
          7248.495,
          7387.5104,
          10371.5375,
          11386.0412,
          5911.414,
          9962.3104,
          10591.3643,
          24187.0307,
          7517.1579,
          7782.6915,
          17365.278,
          16422.4798
         ],
         "yaxis": "y4"
        }
       ],
       "layout": {
        "annotations": [
         {
          "font": {},
          "showarrow": false,
          "text": "Ship Mode=First Class",
          "x": 0.12275,
          "xanchor": "center",
          "xref": "paper",
          "y": 1,
          "yanchor": "bottom",
          "yref": "paper"
         },
         {
          "font": {},
          "showarrow": false,
          "text": "Ship Mode=Same Day",
          "x": 0.37424999999999997,
          "xanchor": "center",
          "xref": "paper",
          "y": 1,
          "yanchor": "bottom",
          "yref": "paper"
         },
         {
          "font": {},
          "showarrow": false,
          "text": "Ship Mode=Second Class",
          "x": 0.62575,
          "xanchor": "center",
          "xref": "paper",
          "y": 1,
          "yanchor": "bottom",
          "yref": "paper"
         },
         {
          "font": {},
          "showarrow": false,
          "text": "Ship Mode=Standard Class",
          "x": 0.87725,
          "xanchor": "center",
          "xref": "paper",
          "y": 1,
          "yanchor": "bottom",
          "yref": "paper"
         }
        ],
        "height": 600,
        "legend": {
         "tracegroupgap": 0
        },
        "margin": {
         "t": 130
        },
        "paper_bgcolor": "white",
        "plot_bgcolor": "#f8fff2",
        "template": {
         "data": {
          "bar": [
           {
            "error_x": {
             "color": "#2a3f5f"
            },
            "error_y": {
             "color": "#2a3f5f"
            },
            "marker": {
             "line": {
              "color": "#E5ECF6",
              "width": 0.5
             },
             "pattern": {
              "fillmode": "overlay",
              "size": 10,
              "solidity": 0.2
             }
            },
            "type": "bar"
           }
          ],
          "barpolar": [
           {
            "marker": {
             "line": {
              "color": "#E5ECF6",
              "width": 0.5
             },
             "pattern": {
              "fillmode": "overlay",
              "size": 10,
              "solidity": 0.2
             }
            },
            "type": "barpolar"
           }
          ],
          "carpet": [
           {
            "aaxis": {
             "endlinecolor": "#2a3f5f",
             "gridcolor": "white",
             "linecolor": "white",
             "minorgridcolor": "white",
             "startlinecolor": "#2a3f5f"
            },
            "baxis": {
             "endlinecolor": "#2a3f5f",
             "gridcolor": "white",
             "linecolor": "white",
             "minorgridcolor": "white",
             "startlinecolor": "#2a3f5f"
            },
            "type": "carpet"
           }
          ],
          "choropleth": [
           {
            "colorbar": {
             "outlinewidth": 0,
             "ticks": ""
            },
            "type": "choropleth"
           }
          ],
          "contour": [
           {
            "colorbar": {
             "outlinewidth": 0,
             "ticks": ""
            },
            "colorscale": [
             [
              0,
              "#0d0887"
             ],
             [
              0.1111111111111111,
              "#46039f"
             ],
             [
              0.2222222222222222,
              "#7201a8"
             ],
             [
              0.3333333333333333,
              "#9c179e"
             ],
             [
              0.4444444444444444,
              "#bd3786"
             ],
             [
              0.5555555555555556,
              "#d8576b"
             ],
             [
              0.6666666666666666,
              "#ed7953"
             ],
             [
              0.7777777777777778,
              "#fb9f3a"
             ],
             [
              0.8888888888888888,
              "#fdca26"
             ],
             [
              1,
              "#f0f921"
             ]
            ],
            "type": "contour"
           }
          ],
          "contourcarpet": [
           {
            "colorbar": {
             "outlinewidth": 0,
             "ticks": ""
            },
            "type": "contourcarpet"
           }
          ],
          "heatmap": [
           {
            "colorbar": {
             "outlinewidth": 0,
             "ticks": ""
            },
            "colorscale": [
             [
              0,
              "#0d0887"
             ],
             [
              0.1111111111111111,
              "#46039f"
             ],
             [
              0.2222222222222222,
              "#7201a8"
             ],
             [
              0.3333333333333333,
              "#9c179e"
             ],
             [
              0.4444444444444444,
              "#bd3786"
             ],
             [
              0.5555555555555556,
              "#d8576b"
             ],
             [
              0.6666666666666666,
              "#ed7953"
             ],
             [
              0.7777777777777778,
              "#fb9f3a"
             ],
             [
              0.8888888888888888,
              "#fdca26"
             ],
             [
              1,
              "#f0f921"
             ]
            ],
            "type": "heatmap"
           }
          ],
          "heatmapgl": [
           {
            "colorbar": {
             "outlinewidth": 0,
             "ticks": ""
            },
            "colorscale": [
             [
              0,
              "#0d0887"
             ],
             [
              0.1111111111111111,
              "#46039f"
             ],
             [
              0.2222222222222222,
              "#7201a8"
             ],
             [
              0.3333333333333333,
              "#9c179e"
             ],
             [
              0.4444444444444444,
              "#bd3786"
             ],
             [
              0.5555555555555556,
              "#d8576b"
             ],
             [
              0.6666666666666666,
              "#ed7953"
             ],
             [
              0.7777777777777778,
              "#fb9f3a"
             ],
             [
              0.8888888888888888,
              "#fdca26"
             ],
             [
              1,
              "#f0f921"
             ]
            ],
            "type": "heatmapgl"
           }
          ],
          "histogram": [
           {
            "marker": {
             "pattern": {
              "fillmode": "overlay",
              "size": 10,
              "solidity": 0.2
             }
            },
            "type": "histogram"
           }
          ],
          "histogram2d": [
           {
            "colorbar": {
             "outlinewidth": 0,
             "ticks": ""
            },
            "colorscale": [
             [
              0,
              "#0d0887"
             ],
             [
              0.1111111111111111,
              "#46039f"
             ],
             [
              0.2222222222222222,
              "#7201a8"
             ],
             [
              0.3333333333333333,
              "#9c179e"
             ],
             [
              0.4444444444444444,
              "#bd3786"
             ],
             [
              0.5555555555555556,
              "#d8576b"
             ],
             [
              0.6666666666666666,
              "#ed7953"
             ],
             [
              0.7777777777777778,
              "#fb9f3a"
             ],
             [
              0.8888888888888888,
              "#fdca26"
             ],
             [
              1,
              "#f0f921"
             ]
            ],
            "type": "histogram2d"
           }
          ],
          "histogram2dcontour": [
           {
            "colorbar": {
             "outlinewidth": 0,
             "ticks": ""
            },
            "colorscale": [
             [
              0,
              "#0d0887"
             ],
             [
              0.1111111111111111,
              "#46039f"
             ],
             [
              0.2222222222222222,
              "#7201a8"
             ],
             [
              0.3333333333333333,
              "#9c179e"
             ],
             [
              0.4444444444444444,
              "#bd3786"
             ],
             [
              0.5555555555555556,
              "#d8576b"
             ],
             [
              0.6666666666666666,
              "#ed7953"
             ],
             [
              0.7777777777777778,
              "#fb9f3a"
             ],
             [
              0.8888888888888888,
              "#fdca26"
             ],
             [
              1,
              "#f0f921"
             ]
            ],
            "type": "histogram2dcontour"
           }
          ],
          "mesh3d": [
           {
            "colorbar": {
             "outlinewidth": 0,
             "ticks": ""
            },
            "type": "mesh3d"
           }
          ],
          "parcoords": [
           {
            "line": {
             "colorbar": {
              "outlinewidth": 0,
              "ticks": ""
             }
            },
            "type": "parcoords"
           }
          ],
          "pie": [
           {
            "automargin": true,
            "type": "pie"
           }
          ],
          "scatter": [
           {
            "fillpattern": {
             "fillmode": "overlay",
             "size": 10,
             "solidity": 0.2
            },
            "type": "scatter"
           }
          ],
          "scatter3d": [
           {
            "line": {
             "colorbar": {
              "outlinewidth": 0,
              "ticks": ""
             }
            },
            "marker": {
             "colorbar": {
              "outlinewidth": 0,
              "ticks": ""
             }
            },
            "type": "scatter3d"
           }
          ],
          "scattercarpet": [
           {
            "marker": {
             "colorbar": {
              "outlinewidth": 0,
              "ticks": ""
             }
            },
            "type": "scattercarpet"
           }
          ],
          "scattergeo": [
           {
            "marker": {
             "colorbar": {
              "outlinewidth": 0,
              "ticks": ""
             }
            },
            "type": "scattergeo"
           }
          ],
          "scattergl": [
           {
            "marker": {
             "colorbar": {
              "outlinewidth": 0,
              "ticks": ""
             }
            },
            "type": "scattergl"
           }
          ],
          "scattermapbox": [
           {
            "marker": {
             "colorbar": {
              "outlinewidth": 0,
              "ticks": ""
             }
            },
            "type": "scattermapbox"
           }
          ],
          "scatterpolar": [
           {
            "marker": {
             "colorbar": {
              "outlinewidth": 0,
              "ticks": ""
             }
            },
            "type": "scatterpolar"
           }
          ],
          "scatterpolargl": [
           {
            "marker": {
             "colorbar": {
              "outlinewidth": 0,
              "ticks": ""
             }
            },
            "type": "scatterpolargl"
           }
          ],
          "scatterternary": [
           {
            "marker": {
             "colorbar": {
              "outlinewidth": 0,
              "ticks": ""
             }
            },
            "type": "scatterternary"
           }
          ],
          "surface": [
           {
            "colorbar": {
             "outlinewidth": 0,
             "ticks": ""
            },
            "colorscale": [
             [
              0,
              "#0d0887"
             ],
             [
              0.1111111111111111,
              "#46039f"
             ],
             [
              0.2222222222222222,
              "#7201a8"
             ],
             [
              0.3333333333333333,
              "#9c179e"
             ],
             [
              0.4444444444444444,
              "#bd3786"
             ],
             [
              0.5555555555555556,
              "#d8576b"
             ],
             [
              0.6666666666666666,
              "#ed7953"
             ],
             [
              0.7777777777777778,
              "#fb9f3a"
             ],
             [
              0.8888888888888888,
              "#fdca26"
             ],
             [
              1,
              "#f0f921"
             ]
            ],
            "type": "surface"
           }
          ],
          "table": [
           {
            "cells": {
             "fill": {
              "color": "#EBF0F8"
             },
             "line": {
              "color": "white"
             }
            },
            "header": {
             "fill": {
              "color": "#C8D4E3"
             },
             "line": {
              "color": "white"
             }
            },
            "type": "table"
           }
          ]
         },
         "layout": {
          "annotationdefaults": {
           "arrowcolor": "#2a3f5f",
           "arrowhead": 0,
           "arrowwidth": 1
          },
          "autotypenumbers": "strict",
          "coloraxis": {
           "colorbar": {
            "outlinewidth": 0,
            "ticks": ""
           }
          },
          "colorscale": {
           "diverging": [
            [
             0,
             "#8e0152"
            ],
            [
             0.1,
             "#c51b7d"
            ],
            [
             0.2,
             "#de77ae"
            ],
            [
             0.3,
             "#f1b6da"
            ],
            [
             0.4,
             "#fde0ef"
            ],
            [
             0.5,
             "#f7f7f7"
            ],
            [
             0.6,
             "#e6f5d0"
            ],
            [
             0.7,
             "#b8e186"
            ],
            [
             0.8,
             "#7fbc41"
            ],
            [
             0.9,
             "#4d9221"
            ],
            [
             1,
             "#276419"
            ]
           ],
           "sequential": [
            [
             0,
             "#0d0887"
            ],
            [
             0.1111111111111111,
             "#46039f"
            ],
            [
             0.2222222222222222,
             "#7201a8"
            ],
            [
             0.3333333333333333,
             "#9c179e"
            ],
            [
             0.4444444444444444,
             "#bd3786"
            ],
            [
             0.5555555555555556,
             "#d8576b"
            ],
            [
             0.6666666666666666,
             "#ed7953"
            ],
            [
             0.7777777777777778,
             "#fb9f3a"
            ],
            [
             0.8888888888888888,
             "#fdca26"
            ],
            [
             1,
             "#f0f921"
            ]
           ],
           "sequentialminus": [
            [
             0,
             "#0d0887"
            ],
            [
             0.1111111111111111,
             "#46039f"
            ],
            [
             0.2222222222222222,
             "#7201a8"
            ],
            [
             0.3333333333333333,
             "#9c179e"
            ],
            [
             0.4444444444444444,
             "#bd3786"
            ],
            [
             0.5555555555555556,
             "#d8576b"
            ],
            [
             0.6666666666666666,
             "#ed7953"
            ],
            [
             0.7777777777777778,
             "#fb9f3a"
            ],
            [
             0.8888888888888888,
             "#fdca26"
            ],
            [
             1,
             "#f0f921"
            ]
           ]
          },
          "colorway": [
           "#636efa",
           "#EF553B",
           "#00cc96",
           "#ab63fa",
           "#FFA15A",
           "#19d3f3",
           "#FF6692",
           "#B6E880",
           "#FF97FF",
           "#FECB52"
          ],
          "font": {
           "color": "#2a3f5f"
          },
          "geo": {
           "bgcolor": "white",
           "lakecolor": "white",
           "landcolor": "#E5ECF6",
           "showlakes": true,
           "showland": true,
           "subunitcolor": "white"
          },
          "hoverlabel": {
           "align": "left"
          },
          "hovermode": "closest",
          "mapbox": {
           "style": "light"
          },
          "paper_bgcolor": "white",
          "plot_bgcolor": "#E5ECF6",
          "polar": {
           "angularaxis": {
            "gridcolor": "white",
            "linecolor": "white",
            "ticks": ""
           },
           "bgcolor": "#E5ECF6",
           "radialaxis": {
            "gridcolor": "white",
            "linecolor": "white",
            "ticks": ""
           }
          },
          "scene": {
           "xaxis": {
            "backgroundcolor": "#E5ECF6",
            "gridcolor": "white",
            "gridwidth": 2,
            "linecolor": "white",
            "showbackground": true,
            "ticks": "",
            "zerolinecolor": "white"
           },
           "yaxis": {
            "backgroundcolor": "#E5ECF6",
            "gridcolor": "white",
            "gridwidth": 2,
            "linecolor": "white",
            "showbackground": true,
            "ticks": "",
            "zerolinecolor": "white"
           },
           "zaxis": {
            "backgroundcolor": "#E5ECF6",
            "gridcolor": "white",
            "gridwidth": 2,
            "linecolor": "white",
            "showbackground": true,
            "ticks": "",
            "zerolinecolor": "white"
           }
          },
          "shapedefaults": {
           "line": {
            "color": "#2a3f5f"
           }
          },
          "ternary": {
           "aaxis": {
            "gridcolor": "white",
            "linecolor": "white",
            "ticks": ""
           },
           "baxis": {
            "gridcolor": "white",
            "linecolor": "white",
            "ticks": ""
           },
           "bgcolor": "#E5ECF6",
           "caxis": {
            "gridcolor": "white",
            "linecolor": "white",
            "ticks": ""
           }
          },
          "title": {
           "x": 0.05
          },
          "xaxis": {
           "automargin": true,
           "gridcolor": "white",
           "linecolor": "white",
           "ticks": "",
           "title": {
            "standoff": 15
           },
           "zerolinecolor": "white",
           "zerolinewidth": 2
          },
          "yaxis": {
           "automargin": true,
           "gridcolor": "white",
           "linecolor": "white",
           "ticks": "",
           "title": {
            "standoff": 15
           },
           "zerolinecolor": "white",
           "zerolinewidth": 2
          }
         }
        },
        "title": {
         "font": {
          "family": "Franklin Gothic",
          "size": 25
         },
         "text": "Profit by Ship Mode",
         "x": 0.5,
         "xanchor": "center",
         "y": 0.9,
         "yanchor": "top"
        },
        "width": 900,
        "xaxis": {
         "anchor": "y",
         "autorange": true,
         "domain": [
          0,
          0.2455
         ],
         "gridcolor": "#f8fff2",
         "griddash": "dash",
         "linecolor": "#ebe6e6",
         "linewidth": 2,
         "range": [
          0,
          15
         ],
         "showline": true,
         "showticklabels": false,
         "title": {
          "text": ""
         },
         "type": "category"
        },
        "xaxis2": {
         "anchor": "y2",
         "autorange": true,
         "domain": [
          0.2515,
          0.497
         ],
         "gridcolor": "#f8fff2",
         "griddash": "dash",
         "linecolor": "#ebe6e6",
         "linewidth": 2,
         "matches": "x",
         "range": [
          0,
          15
         ],
         "showline": true,
         "showticklabels": false,
         "title": {
          "text": ""
         },
         "type": "category"
        },
        "xaxis3": {
         "anchor": "y3",
         "autorange": true,
         "domain": [
          0.503,
          0.7484999999999999
         ],
         "gridcolor": "#f8fff2",
         "griddash": "dash",
         "linecolor": "#ebe6e6",
         "linewidth": 2,
         "matches": "x",
         "range": [
          0,
          15
         ],
         "showline": true,
         "showticklabels": false,
         "title": {
          "text": ""
         },
         "type": "category"
        },
        "xaxis4": {
         "anchor": "y4",
         "autorange": true,
         "domain": [
          0.7545,
          1
         ],
         "gridcolor": "#f8fff2",
         "griddash": "dash",
         "linecolor": "#ebe6e6",
         "linewidth": 2,
         "matches": "x",
         "range": [
          0,
          15
         ],
         "showline": true,
         "showticklabels": false,
         "title": {
          "text": ""
         },
         "type": "category"
        },
        "yaxis": {
         "anchor": "x",
         "autorange": true,
         "domain": [
          0,
          1
         ],
         "gridcolor": "#ebe6e6",
         "griddash": "dash",
         "linecolor": "#ebe6e6",
         "linewidth": 2,
         "range": [
          -4560.070316666666,
          25700.036016666665
         ],
         "showline": true,
         "title": {
          "text": "Profit"
         },
         "type": "linear"
        },
        "yaxis2": {
         "anchor": "x2",
         "autorange": true,
         "domain": [
          0,
          1
         ],
         "gridcolor": "#ebe6e6",
         "griddash": "dash",
         "linecolor": "#ebe6e6",
         "linewidth": 2,
         "matches": "y",
         "range": [
          -4560.070316666666,
          25700.036016666665
         ],
         "showline": true,
         "showticklabels": false,
         "type": "linear"
        },
        "yaxis3": {
         "anchor": "x3",
         "autorange": true,
         "domain": [
          0,
          1
         ],
         "gridcolor": "#ebe6e6",
         "griddash": "dash",
         "linecolor": "#ebe6e6",
         "linewidth": 2,
         "matches": "y",
         "range": [
          -4560.070316666666,
          25700.036016666665
         ],
         "showline": true,
         "showticklabels": false,
         "type": "linear"
        },
        "yaxis4": {
         "anchor": "x4",
         "autorange": true,
         "domain": [
          0,
          1
         ],
         "gridcolor": "#ebe6e6",
         "griddash": "dash",
         "linecolor": "#ebe6e6",
         "linewidth": 2,
         "matches": "y",
         "range": [
          -4560.070316666666,
          25700.036016666665
         ],
         "showline": true,
         "showticklabels": false,
         "type": "linear"
        }
       }
      },
      "image/png": "[encoded data removed]",
      "text/html": [
       "<div>                            <div id=\"0c0d20ce-9ac0-4c37-82f0-2756ae78a18f\" class=\"plotly-graph-div\" style=\"height:600px; width:900px;\"></div>            <script type=\"text/javascript\">                require([\"plotly\"], function(Plotly) {                    window.PLOTLYENV=window.PLOTLYENV || {};                                    if (document.getElementById(\"0c0d20ce-9ac0-4c37-82f0-2756ae78a18f\")) {                    Plotly.newPlot(                        \"0c0d20ce-9ac0-4c37-82f0-2756ae78a18f\",                        [{\"fillpattern\":{\"shape\":\"\"},\"hovertemplate\":\"Ship Mode=First Class<br>Year-Quarter=%{x}<br>Profit=%{y}<extra></extra>\",\"legendgroup\":\"\",\"line\":{\"color\":\"#636efa\"},\"marker\":{\"symbol\":\"circle\"},\"mode\":\"lines\",\"name\":\"\",\"orientation\":\"v\",\"showlegend\":false,\"stackgroup\":\"1\",\"x\":[\"2014Q1\",\"2014Q2\",\"2014Q3\",\"2014Q4\",\"2015Q1\",\"2015Q2\",\"2015Q3\",\"2015Q4\",\"2016Q1\",\"2016Q2\",\"2016Q3\",\"2016Q4\",\"2017Q1\",\"2017Q2\",\"2017Q3\",\"2017Q4\"],\"xaxis\":\"x\",\"y\":[537.9227999999999,884.7677000000001,2698.6087,4952.234,3025.8968,3601.2939,2938.825,580.4244999999999,1469.6962,1925.6102,1650.4198999999999,4310.1224,8708.0152,2808.7642,2054.1303,6823.1081],\"yaxis\":\"y\",\"type\":\"scatter\"},{\"fillpattern\":{\"shape\":\"\"},\"hovertemplate\":\"Ship Mode=Same Day<br>Year-Quarter=%{x}<br>Profit=%{y}<extra></extra>\",\"legendgroup\":\"\",\"line\":{\"color\":\"#636efa\"},\"marker\":{\"symbol\":\"circle\"},\"mode\":\"lines\",\"name\":\"\",\"orientation\":\"v\",\"showlegend\":false,\"stackgroup\":\"1\",\"x\":[\"2014Q1\",\"2014Q2\",\"2014Q3\",\"2014Q4\",\"2015Q1\",\"2015Q2\",\"2015Q3\",\"2015Q4\",\"2016Q1\",\"2016Q2\",\"2016Q3\",\"2016Q4\",\"2017Q1\",\"2017Q2\",\"2017Q3\",\"2017Q4\"],\"xaxis\":\"x2\",\"y\":[109.41720000000001,669.6896,2044.3535,-67.95319999999997,225.2187,212.8328,346.58549999999997,3542.7904999999996,1697.5289,1288.3398,998.7836,1455.7969,1011.5858,923.8673,4479.987,-3047.065],\"yaxis\":\"y2\",\"type\":\"scatter\"},{\"fillpattern\":{\"shape\":\"\"},\"hovertemplate\":\"Ship Mode=Second Class<br>Year-Quarter=%{x}<br>Profit=%{y}<extra></extra>\",\"legendgroup\":\"\",\"line\":{\"color\":\"#636efa\"},\"marker\":{\"symbol\":\"circle\"},\"mode\":\"lines\",\"name\":\"\",\"orientation\":\"v\",\"showlegend\":false,\"stackgroup\":\"1\",\"x\":[\"2014Q1\",\"2014Q2\",\"2014Q3\",\"2014Q4\",\"2015Q1\",\"2015Q2\",\"2015Q3\",\"2015Q4\",\"2016Q1\",\"2016Q2\",\"2016Q3\",\"2016Q4\",\"2017Q1\",\"2017Q2\",\"2017Q3\",\"2017Q4\"],\"xaxis\":\"x3\",\"y\":[1501.5889,2313.8753,3446.8239,2497.1689,-1234.6689000000001,989.2853,3196.6714,7799.8641,2362.7317,3214.079,2583.037,8186.9093,6269.4437,3983.8855,3085.7372,7250.2031],\"yaxis\":\"y3\",\"type\":\"scatter\"},{\"fillpattern\":{\"shape\":\"\"},\"hovertemplate\":\"Ship Mode=Standard Class<br>Year-Quarter=%{x}<br>Profit=%{y}<extra></extra>\",\"legendgroup\":\"\",\"line\":{\"color\":\"#636efa\"},\"marker\":{\"symbol\":\"circle\"},\"mode\":\"lines\",\"name\":\"\",\"orientation\":\"v\",\"showlegend\":false,\"stackgroup\":\"1\",\"x\":[\"2014Q1\",\"2014Q2\",\"2014Q3\",\"2014Q4\",\"2015Q1\",\"2015Q2\",\"2015Q3\",\"2015Q4\",\"2016Q1\",\"2016Q2\",\"2016Q3\",\"2016Q4\",\"2017Q1\",\"2017Q2\",\"2017Q3\",\"2017Q4\"],\"xaxis\":\"x4\",\"y\":[1662.3001,7335.7366,4614.9357,14342.5044,7248.495,7387.5104,10371.5375,11386.0412,5911.414,9962.3104,10591.3643,24187.0307,7517.1579,7782.6915,17365.278,16422.4798],\"yaxis\":\"y4\",\"type\":\"scatter\"}],                        {\"template\":{\"data\":{\"histogram2dcontour\":[{\"type\":\"histogram2dcontour\",\"colorbar\":{\"outlinewidth\":0,\"ticks\":\"\"},\"colorscale\":[[0.0,\"#0d0887\"],[0.1111111111111111,\"#46039f\"],[0.2222222222222222,\"#7201a8\"],[0.3333333333333333,\"#9c179e\"],[0.4444444444444444,\"#bd3786\"],[0.5555555555555556,\"#d8576b\"],[0.6666666666666666,\"#ed7953\"],[0.7777777777777778,\"#fb9f3a\"],[0.8888888888888888,\"#fdca26\"],[1.0,\"#f0f921\"]]}],\"choropleth\":[{\"type\":\"choropleth\",\"colorbar\":{\"outlinewidth\":0,\"ticks\":\"\"}}],\"histogram2d\":[{\"type\":\"histogram2d\",\"colorbar\":{\"outlinewidth\":0,\"ticks\":\"\"},\"colorscale\":[[0.0,\"#0d0887\"],[0.1111111111111111,\"#46039f\"],[0.2222222222222222,\"#7201a8\"],[0.3333333333333333,\"#9c179e\"],[0.4444444444444444,\"#bd3786\"],[0.5555555555555556,\"#d8576b\"],[0.6666666666666666,\"#ed7953\"],[0.7777777777777778,\"#fb9f3a\"],[0.8888888888888888,\"#fdca26\"],[1.0,\"#f0f921\"]]}],\"heatmap\":[{\"type\":\"heatmap\",\"colorbar\":{\"outlinewidth\":0,\"ticks\":\"\"},\"colorscale\":[[0.0,\"#0d0887\"],[0.1111111111111111,\"#46039f\"],[0.2222222222222222,\"#7201a8\"],[0.3333333333333333,\"#9c179e\"],[0.4444444444444444,\"#bd3786\"],[0.5555555555555556,\"#d8576b\"],[0.6666666666666666,\"#ed7953\"],[0.7777777777777778,\"#fb9f3a\"],[0.8888888888888888,\"#fdca26\"],[1.0,\"#f0f921\"]]}],\"heatmapgl\":[{\"type\":\"heatmapgl\",\"colorbar\":{\"outlinewidth\":0,\"ticks\":\"\"},\"colorscale\":[[0.0,\"#0d0887\"],[0.1111111111111111,\"#46039f\"],[0.2222222222222222,\"#7201a8\"],[0.3333333333333333,\"#9c179e\"],[0.4444444444444444,\"#bd3786\"],[0.5555555555555556,\"#d8576b\"],[0.6666666666666666,\"#ed7953\"],[0.7777777777777778,\"#fb9f3a\"],[0.8888888888888888,\"#fdca26\"],[1.0,\"#f0f921\"]]}],\"contourcarpet\":[{\"type\":\"contourcarpet\",\"colorbar\":{\"outlinewidth\":0,\"ticks\":\"\"}}],\"contour\":[{\"type\":\"contour\",\"colorbar\":{\"outlinewidth\":0,\"ticks\":\"\"},\"colorscale\":[[0.0,\"#0d0887\"],[0.1111111111111111,\"#46039f\"],[0.2222222222222222,\"#7201a8\"],[0.3333333333333333,\"#9c179e\"],[0.4444444444444444,\"#bd3786\"],[0.5555555555555556,\"#d8576b\"],[0.6666666666666666,\"#ed7953\"],[0.7777777777777778,\"#fb9f3a\"],[0.8888888888888888,\"#fdca26\"],[1.0,\"#f0f921\"]]}],\"surface\":[{\"type\":\"surface\",\"colorbar\":{\"outlinewidth\":0,\"ticks\":\"\"},\"colorscale\":[[0.0,\"#0d0887\"],[0.1111111111111111,\"#46039f\"],[0.2222222222222222,\"#7201a8\"],[0.3333333333333333,\"#9c179e\"],[0.4444444444444444,\"#bd3786\"],[0.5555555555555556,\"#d8576b\"],[0.6666666666666666,\"#ed7953\"],[0.7777777777777778,\"#fb9f3a\"],[0.8888888888888888,\"#fdca26\"],[1.0,\"#f0f921\"]]}],\"mesh3d\":[{\"type\":\"mesh3d\",\"colorbar\":{\"outlinewidth\":0,\"ticks\":\"\"}}],\"scatter\":[{\"fillpattern\":{\"fillmode\":\"overlay\",\"size\":10,\"solidity\":0.2},\"type\":\"scatter\"}],\"parcoords\":[{\"type\":\"parcoords\",\"line\":{\"colorbar\":{\"outlinewidth\":0,\"ticks\":\"\"}}}],\"scatterpolargl\":[{\"type\":\"scatterpolargl\",\"marker\":{\"colorbar\":{\"outlinewidth\":0,\"ticks\":\"\"}}}],\"bar\":[{\"error_x\":{\"color\":\"#2a3f5f\"},\"error_y\":{\"color\":\"#2a3f5f\"},\"marker\":{\"line\":{\"color\":\"#E5ECF6\",\"width\":0.5},\"pattern\":{\"fillmode\":\"overlay\",\"size\":10,\"solidity\":0.2}},\"type\":\"bar\"}],\"scattergeo\":[{\"type\":\"scattergeo\",\"marker\":{\"colorbar\":{\"outlinewidth\":0,\"ticks\":\"\"}}}],\"scatterpolar\":[{\"type\":\"scatterpolar\",\"marker\":{\"colorbar\":{\"outlinewidth\":0,\"ticks\":\"\"}}}],\"histogram\":[{\"marker\":{\"pattern\":{\"fillmode\":\"overlay\",\"size\":10,\"solidity\":0.2}},\"type\":\"histogram\"}],\"scattergl\":[{\"type\":\"scattergl\",\"marker\":{\"colorbar\":{\"outlinewidth\":0,\"ticks\":\"\"}}}],\"scatter3d\":[{\"type\":\"scatter3d\",\"line\":{\"colorbar\":{\"outlinewidth\":0,\"ticks\":\"\"}},\"marker\":{\"colorbar\":{\"outlinewidth\":0,\"ticks\":\"\"}}}],\"scattermapbox\":[{\"type\":\"scattermapbox\",\"marker\":{\"colorbar\":{\"outlinewidth\":0,\"ticks\":\"\"}}}],\"scatterternary\":[{\"type\":\"scatterternary\",\"marker\":{\"colorbar\":{\"outlinewidth\":0,\"ticks\":\"\"}}}],\"scattercarpet\":[{\"type\":\"scattercarpet\",\"marker\":{\"colorbar\":{\"outlinewidth\":0,\"ticks\":\"\"}}}],\"carpet\":[{\"aaxis\":{\"endlinecolor\":\"#2a3f5f\",\"gridcolor\":\"white\",\"linecolor\":\"white\",\"minorgridcolor\":\"white\",\"startlinecolor\":\"#2a3f5f\"},\"baxis\":{\"endlinecolor\":\"#2a3f5f\",\"gridcolor\":\"white\",\"linecolor\":\"white\",\"minorgridcolor\":\"white\",\"startlinecolor\":\"#2a3f5f\"},\"type\":\"carpet\"}],\"table\":[{\"cells\":{\"fill\":{\"color\":\"#EBF0F8\"},\"line\":{\"color\":\"white\"}},\"header\":{\"fill\":{\"color\":\"#C8D4E3\"},\"line\":{\"color\":\"white\"}},\"type\":\"table\"}],\"barpolar\":[{\"marker\":{\"line\":{\"color\":\"#E5ECF6\",\"width\":0.5},\"pattern\":{\"fillmode\":\"overlay\",\"size\":10,\"solidity\":0.2}},\"type\":\"barpolar\"}],\"pie\":[{\"automargin\":true,\"type\":\"pie\"}]},\"layout\":{\"autotypenumbers\":\"strict\",\"colorway\":[\"#636efa\",\"#EF553B\",\"#00cc96\",\"#ab63fa\",\"#FFA15A\",\"#19d3f3\",\"#FF6692\",\"#B6E880\",\"#FF97FF\",\"#FECB52\"],\"font\":{\"color\":\"#2a3f5f\"},\"hovermode\":\"closest\",\"hoverlabel\":{\"align\":\"left\"},\"paper_bgcolor\":\"white\",\"plot_bgcolor\":\"#E5ECF6\",\"polar\":{\"bgcolor\":\"#E5ECF6\",\"angularaxis\":{\"gridcolor\":\"white\",\"linecolor\":\"white\",\"ticks\":\"\"},\"radialaxis\":{\"gridcolor\":\"white\",\"linecolor\":\"white\",\"ticks\":\"\"}},\"ternary\":{\"bgcolor\":\"#E5ECF6\",\"aaxis\":{\"gridcolor\":\"white\",\"linecolor\":\"white\",\"ticks\":\"\"},\"baxis\":{\"gridcolor\":\"white\",\"linecolor\":\"white\",\"ticks\":\"\"},\"caxis\":{\"gridcolor\":\"white\",\"linecolor\":\"white\",\"ticks\":\"\"}},\"coloraxis\":{\"colorbar\":{\"outlinewidth\":0,\"ticks\":\"\"}},\"colorscale\":{\"sequential\":[[0.0,\"#0d0887\"],[0.1111111111111111,\"#46039f\"],[0.2222222222222222,\"#7201a8\"],[0.3333333333333333,\"#9c179e\"],[0.4444444444444444,\"#bd3786\"],[0.5555555555555556,\"#d8576b\"],[0.6666666666666666,\"#ed7953\"],[0.7777777777777778,\"#fb9f3a\"],[0.8888888888888888,\"#fdca26\"],[1.0,\"#f0f921\"]],\"sequentialminus\":[[0.0,\"#0d0887\"],[0.1111111111111111,\"#46039f\"],[0.2222222222222222,\"#7201a8\"],[0.3333333333333333,\"#9c179e\"],[0.4444444444444444,\"#bd3786\"],[0.5555555555555556,\"#d8576b\"],[0.6666666666666666,\"#ed7953\"],[0.7777777777777778,\"#fb9f3a\"],[0.8888888888888888,\"#fdca26\"],[1.0,\"#f0f921\"]],\"diverging\":[[0,\"#8e0152\"],[0.1,\"#c51b7d\"],[0.2,\"#de77ae\"],[0.3,\"#f1b6da\"],[0.4,\"#fde0ef\"],[0.5,\"#f7f7f7\"],[0.6,\"#e6f5d0\"],[0.7,\"#b8e186\"],[0.8,\"#7fbc41\"],[0.9,\"#4d9221\"],[1,\"#276419\"]]},\"xaxis\":{\"gridcolor\":\"white\",\"linecolor\":\"white\",\"ticks\":\"\",\"title\":{\"standoff\":15},\"zerolinecolor\":\"white\",\"automargin\":true,\"zerolinewidth\":2},\"yaxis\":{\"gridcolor\":\"white\",\"linecolor\":\"white\",\"ticks\":\"\",\"title\":{\"standoff\":15},\"zerolinecolor\":\"white\",\"automargin\":true,\"zerolinewidth\":2},\"scene\":{\"xaxis\":{\"backgroundcolor\":\"#E5ECF6\",\"gridcolor\":\"white\",\"linecolor\":\"white\",\"showbackground\":true,\"ticks\":\"\",\"zerolinecolor\":\"white\",\"gridwidth\":2},\"yaxis\":{\"backgroundcolor\":\"#E5ECF6\",\"gridcolor\":\"white\",\"linecolor\":\"white\",\"showbackground\":true,\"ticks\":\"\",\"zerolinecolor\":\"white\",\"gridwidth\":2},\"zaxis\":{\"backgroundcolor\":\"#E5ECF6\",\"gridcolor\":\"white\",\"linecolor\":\"white\",\"showbackground\":true,\"ticks\":\"\",\"zerolinecolor\":\"white\",\"gridwidth\":2}},\"shapedefaults\":{\"line\":{\"color\":\"#2a3f5f\"}},\"annotationdefaults\":{\"arrowcolor\":\"#2a3f5f\",\"arrowhead\":0,\"arrowwidth\":1},\"geo\":{\"bgcolor\":\"white\",\"landcolor\":\"#E5ECF6\",\"subunitcolor\":\"white\",\"showland\":true,\"showlakes\":true,\"lakecolor\":\"white\"},\"title\":{\"x\":0.05},\"mapbox\":{\"style\":\"light\"}}},\"xaxis\":{\"anchor\":\"y\",\"domain\":[0.0,0.2455],\"title\":{\"text\":\"\"},\"showticklabels\":false,\"showline\":true,\"linewidth\":2,\"linecolor\":\"#ebe6e6\",\"gridcolor\":\"#f8fff2\",\"griddash\":\"dash\"},\"yaxis\":{\"anchor\":\"x\",\"domain\":[0.0,1.0],\"title\":{\"text\":\"Profit\"},\"showline\":true,\"linewidth\":2,\"linecolor\":\"#ebe6e6\",\"gridcolor\":\"#ebe6e6\",\"griddash\":\"dash\"},\"xaxis2\":{\"anchor\":\"y2\",\"domain\":[0.2515,0.497],\"matches\":\"x\",\"title\":{\"text\":\"\"},\"showticklabels\":false,\"showline\":true,\"linewidth\":2,\"linecolor\":\"#ebe6e6\",\"gridcolor\":\"#f8fff2\",\"griddash\":\"dash\"},\"yaxis2\":{\"anchor\":\"x2\",\"domain\":[0.0,1.0],\"matches\":\"y\",\"showticklabels\":false,\"showline\":true,\"linewidth\":2,\"linecolor\":\"#ebe6e6\",\"gridcolor\":\"#ebe6e6\",\"griddash\":\"dash\"},\"xaxis3\":{\"anchor\":\"y3\",\"domain\":[0.503,0.7484999999999999],\"matches\":\"x\",\"title\":{\"text\":\"\"},\"showticklabels\":false,\"showline\":true,\"linewidth\":2,\"linecolor\":\"#ebe6e6\",\"gridcolor\":\"#f8fff2\",\"griddash\":\"dash\"},\"yaxis3\":{\"anchor\":\"x3\",\"domain\":[0.0,1.0],\"matches\":\"y\",\"showticklabels\":false,\"showline\":true,\"linewidth\":2,\"linecolor\":\"#ebe6e6\",\"gridcolor\":\"#ebe6e6\",\"griddash\":\"dash\"},\"xaxis4\":{\"anchor\":\"y4\",\"domain\":[0.7545,1.0],\"matches\":\"x\",\"title\":{\"text\":\"\"},\"showticklabels\":false,\"showline\":true,\"linewidth\":2,\"linecolor\":\"#ebe6e6\",\"gridcolor\":\"#f8fff2\",\"griddash\":\"dash\"},\"yaxis4\":{\"anchor\":\"x4\",\"domain\":[0.0,1.0],\"matches\":\"y\",\"showticklabels\":false,\"showline\":true,\"linewidth\":2,\"linecolor\":\"#ebe6e6\",\"gridcolor\":\"#ebe6e6\",\"griddash\":\"dash\"},\"annotations\":[{\"font\":{},\"showarrow\":false,\"text\":\"Ship Mode=First Class\",\"x\":0.12275,\"xanchor\":\"center\",\"xref\":\"paper\",\"y\":1.0,\"yanchor\":\"bottom\",\"yref\":\"paper\"},{\"font\":{},\"showarrow\":false,\"text\":\"Ship Mode=Same Day\",\"x\":0.37424999999999997,\"xanchor\":\"center\",\"xref\":\"paper\",\"y\":1.0,\"yanchor\":\"bottom\",\"yref\":\"paper\"},{\"font\":{},\"showarrow\":false,\"text\":\"Ship Mode=Second Class\",\"x\":0.62575,\"xanchor\":\"center\",\"xref\":\"paper\",\"y\":1.0,\"yanchor\":\"bottom\",\"yref\":\"paper\"},{\"font\":{},\"showarrow\":false,\"text\":\"Ship Mode=Standard Class\",\"x\":0.87725,\"xanchor\":\"center\",\"xref\":\"paper\",\"y\":1.0,\"yanchor\":\"bottom\",\"yref\":\"paper\"}],\"legend\":{\"tracegroupgap\":0},\"margin\":{\"t\":130},\"height\":600,\"width\":900,\"title\":{\"font\":{\"size\":25,\"family\":\"Franklin Gothic\"},\"text\":\"Profit by Ship Mode\",\"y\":0.9,\"x\":0.5,\"xanchor\":\"center\",\"yanchor\":\"top\"},\"paper_bgcolor\":\"white\",\"plot_bgcolor\":\"#f8fff2\"},                        {\"responsive\": true}                    ).then(function(){\n",
       "                            \n",
       "var gd = document.getElementById('0c0d20ce-9ac0-4c37-82f0-2756ae78a18f');\n",
       "var x = new MutationObserver(function (mutations, observer) {{\n",
       "        var display = window.getComputedStyle(gd).display;\n",
       "        if (!display || display === 'none') {{\n",
       "            console.log([gd, 'removed!']);\n",
       "            Plotly.purge(gd);\n",
       "            observer.disconnect();\n",
       "        }}\n",
       "}});\n",
       "\n",
       "// Listen for the removal of the full notebook cells\n",
       "var notebookContainer = gd.closest('#notebook-container');\n",
       "if (notebookContainer) {{\n",
       "    x.observe(notebookContainer, {childList: true});\n",
       "}}\n",
       "\n",
       "// Listen for the clearing of the current output cell\n",
       "var outputEl = gd.closest('.output');\n",
       "if (outputEl) {{\n",
       "    x.observe(outputEl, {childList: true});\n",
       "}}\n",
       "\n",
       "                        })                };                });            </script>        </div>"
      ]
     },
     "metadata": {},
     "output_type": "display_data"
    }
   ],
   "source": [
    "fig = px.area(df4_cnt, x = 'Year-Quarter', y = 'Profit', facet_col=\"Ship Mode\", facet_col_wrap=4, facet_col_spacing=0.006, width = 1200, height=500 )\n",
    "fig.update_xaxes(showticklabels=False)\n",
    "# hide subplot y-axis titles and x-axis titles\n",
    "for axis in fig.layout:\n",
    "    if type(fig.layout[axis]) == go.layout.XAxis:\n",
    "        fig.layout[axis].title.text = ''\n",
    "fig.update_layout(title={'text': \"Profit by Ship Mode\",\n",
    "        'y':0.9,\n",
    "        'x':0.5,\n",
    "        'xanchor': 'center', 'yanchor': 'top'},\n",
    "                  titlefont = dict(size = 25, family=\"Franklin Gothic\"),\n",
    "                  height = 600,\n",
    "                  width = 900,\n",
    "                  paper_bgcolor='white', plot_bgcolor='#f8fff2',\n",
    "                  margin=dict(t=130 ,))\n",
    "fig.update_xaxes(showline=True, linewidth=2, linecolor='#ebe6e6', gridcolor='#f8fff2', griddash='dash')\n",
    "fig.update_yaxes(showline=True, linewidth=2, linecolor='#ebe6e6', gridcolor='#ebe6e6', griddash='dash')\n",
    "fig.show()"
   ]
  },
  {
   "cell_type": "markdown",
   "id": "626bfd3b-ce61-47e8-b606-874cccf5516a",
   "metadata": {
    "tags": []
   },
   "source": [
    "**Nhận xét:**\n",
    "- Cả 3 loại Ship mode đều có khởi đầu lời nhuận mức 0. Nhưng sau đó tăng lên. Ngoại trừ loại Ship Same day thì lại giảm và về một giá trị âm.\n",
    "- Trong cả 3 loại, Loại có xu hướng lợi nhuận tăng nhanh nhất là Standard Class. Đặc biệt loại này cũng đạt lợi nhuận đỉnh điểm vào quý cuối năm 2016.\n",
    "=> Nên khuyến khích hình thức ship Standard Class, cải thiện hình thức Same Day.\n"
   ]
  },
  {
   "cell_type": "markdown",
   "id": "f10edf41-4b44-47f1-8180-475346449386",
   "metadata": {},
   "source": [
    "**Kỹ thuật trực quan sử dụng:**\n",
    "    \n",
    "- ***Kỹ thuật Facet:***\n",
    "    + Chia Ship Mode ra làm 3 loại để trực quan.\n",
    "    \n",
    "- ***Kỹ thuật Manipulate View:***\n",
    "    + Tool tip hiển thị các giá trị liên quan cần thiết.\n",
    "  \n",
    "=> Những kỹ thuật này giúp đồ thị vẫn giữ được sự rõ ràng, trực quan, tương tác thân thiện."
   ]
  }
 ],
 "metadata": {
  "kernelspec": {
   "display_name": "Python 3 (ipykernel)",
   "language": "python",
   "name": "python3"
  },
  "language_info": {
   "codemirror_mode": {
    "name": "ipython",
    "version": 3
   },
   "file_extension": ".py",
   "mimetype": "text/x-python",
   "name": "python",
   "nbconvert_exporter": "python",
   "pygments_lexer": "ipython3",
   "version": "3.11.2"
  }
 },
 "nbformat": 4,
 "nbformat_minor": 5
}
