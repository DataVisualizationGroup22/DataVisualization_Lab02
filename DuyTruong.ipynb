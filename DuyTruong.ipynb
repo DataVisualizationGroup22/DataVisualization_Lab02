{
 "cells": [
  {
   "cell_type": "code",
   "execution_count": 138,
   "metadata": {},
   "outputs": [],
   "source": [
    "import numpy as np\n",
    "import pandas as pd\n",
    "\n",
    "\n",
    "import matplotlib.pyplot as plt\n",
    "\n",
    "import seaborn as sns\n",
    "import plotly.express as px\n",
    "from bokeh.io import output_notebook, show\n",
    "from bokeh.models import ColumnDataSource, HoverTool, Range1d, Circle, Line, TapTool, CustomJS\n",
    "from bokeh.plotting import figure\n",
    "import plotly.graph_objects as go\n",
    "import plotly.offline as pyo"
   ]
  },
  {
   "cell_type": "code",
   "execution_count": 78,
   "metadata": {},
   "outputs": [
    {
     "data": {
      "text/html": [
       "<div>\n",
       "<style scoped>\n",
       "    .dataframe tbody tr th:only-of-type {\n",
       "        vertical-align: middle;\n",
       "    }\n",
       "\n",
       "    .dataframe tbody tr th {\n",
       "        vertical-align: top;\n",
       "    }\n",
       "\n",
       "    .dataframe thead th {\n",
       "        text-align: right;\n",
       "    }\n",
       "</style>\n",
       "<table border=\"1\" class=\"dataframe\">\n",
       "  <thead>\n",
       "    <tr style=\"text-align: right;\">\n",
       "      <th></th>\n",
       "      <th>Order ID</th>\n",
       "      <th>Order Date</th>\n",
       "      <th>Ship Date</th>\n",
       "      <th>Ship Mode</th>\n",
       "      <th>Customer ID</th>\n",
       "      <th>Customer Name</th>\n",
       "      <th>Segment</th>\n",
       "      <th>Country</th>\n",
       "      <th>City</th>\n",
       "      <th>State</th>\n",
       "      <th>Postal Code</th>\n",
       "      <th>Region</th>\n",
       "      <th>Product ID</th>\n",
       "      <th>Category</th>\n",
       "      <th>Sub-Category</th>\n",
       "      <th>Product Name</th>\n",
       "      <th>Sales</th>\n",
       "      <th>Quantity</th>\n",
       "      <th>Discount</th>\n",
       "      <th>Profit</th>\n",
       "    </tr>\n",
       "    <tr>\n",
       "      <th>Row ID</th>\n",
       "      <th></th>\n",
       "      <th></th>\n",
       "      <th></th>\n",
       "      <th></th>\n",
       "      <th></th>\n",
       "      <th></th>\n",
       "      <th></th>\n",
       "      <th></th>\n",
       "      <th></th>\n",
       "      <th></th>\n",
       "      <th></th>\n",
       "      <th></th>\n",
       "      <th></th>\n",
       "      <th></th>\n",
       "      <th></th>\n",
       "      <th></th>\n",
       "      <th></th>\n",
       "      <th></th>\n",
       "      <th></th>\n",
       "      <th></th>\n",
       "    </tr>\n",
       "  </thead>\n",
       "  <tbody>\n",
       "    <tr>\n",
       "      <th>1</th>\n",
       "      <td>CA-2016-152156</td>\n",
       "      <td>11/8/2016</td>\n",
       "      <td>11/11/2016</td>\n",
       "      <td>Second Class</td>\n",
       "      <td>CG-12520</td>\n",
       "      <td>Claire Gute</td>\n",
       "      <td>Consumer</td>\n",
       "      <td>United States</td>\n",
       "      <td>Henderson</td>\n",
       "      <td>Kentucky</td>\n",
       "      <td>42420</td>\n",
       "      <td>South</td>\n",
       "      <td>FUR-BO-10001798</td>\n",
       "      <td>Furniture</td>\n",
       "      <td>Bookcases</td>\n",
       "      <td>Bush Somerset Collection Bookcase</td>\n",
       "      <td>261.96</td>\n",
       "      <td>2</td>\n",
       "      <td>0.0</td>\n",
       "      <td>41.9136</td>\n",
       "    </tr>\n",
       "    <tr>\n",
       "      <th>2</th>\n",
       "      <td>CA-2016-152156</td>\n",
       "      <td>11/8/2016</td>\n",
       "      <td>11/11/2016</td>\n",
       "      <td>Second Class</td>\n",
       "      <td>CG-12520</td>\n",
       "      <td>Claire Gute</td>\n",
       "      <td>Consumer</td>\n",
       "      <td>United States</td>\n",
       "      <td>Henderson</td>\n",
       "      <td>Kentucky</td>\n",
       "      <td>42420</td>\n",
       "      <td>South</td>\n",
       "      <td>FUR-CH-10000454</td>\n",
       "      <td>Furniture</td>\n",
       "      <td>Chairs</td>\n",
       "      <td>Hon Deluxe Fabric Upholstered Stacking Chairs,...</td>\n",
       "      <td>731.94</td>\n",
       "      <td>3</td>\n",
       "      <td>0.0</td>\n",
       "      <td>219.5820</td>\n",
       "    </tr>\n",
       "    <tr>\n",
       "      <th>3</th>\n",
       "      <td>CA-2016-138688</td>\n",
       "      <td>6/12/2016</td>\n",
       "      <td>6/16/2016</td>\n",
       "      <td>Second Class</td>\n",
       "      <td>DV-13045</td>\n",
       "      <td>Darrin Van Huff</td>\n",
       "      <td>Corporate</td>\n",
       "      <td>United States</td>\n",
       "      <td>Los Angeles</td>\n",
       "      <td>California</td>\n",
       "      <td>90036</td>\n",
       "      <td>West</td>\n",
       "      <td>OFF-LA-10000240</td>\n",
       "      <td>Office Supplies</td>\n",
       "      <td>Labels</td>\n",
       "      <td>Self-Adhesive Address Labels for Typewriters b...</td>\n",
       "      <td>14.62</td>\n",
       "      <td>2</td>\n",
       "      <td>0.0</td>\n",
       "      <td>6.8714</td>\n",
       "    </tr>\n",
       "  </tbody>\n",
       "</table>\n",
       "</div>"
      ],
      "text/plain": [
       "              Order ID Order Date   Ship Date     Ship Mode Customer ID  \\\n",
       "Row ID                                                                    \n",
       "1       CA-2016-152156  11/8/2016  11/11/2016  Second Class    CG-12520   \n",
       "2       CA-2016-152156  11/8/2016  11/11/2016  Second Class    CG-12520   \n",
       "3       CA-2016-138688  6/12/2016   6/16/2016  Second Class    DV-13045   \n",
       "\n",
       "          Customer Name    Segment        Country         City       State  \\\n",
       "Row ID                                                                       \n",
       "1           Claire Gute   Consumer  United States    Henderson    Kentucky   \n",
       "2           Claire Gute   Consumer  United States    Henderson    Kentucky   \n",
       "3       Darrin Van Huff  Corporate  United States  Los Angeles  California   \n",
       "\n",
       "        Postal Code Region       Product ID         Category Sub-Category  \\\n",
       "Row ID                                                                      \n",
       "1             42420  South  FUR-BO-10001798        Furniture    Bookcases   \n",
       "2             42420  South  FUR-CH-10000454        Furniture       Chairs   \n",
       "3             90036   West  OFF-LA-10000240  Office Supplies       Labels   \n",
       "\n",
       "                                             Product Name   Sales  Quantity  \\\n",
       "Row ID                                                                        \n",
       "1                       Bush Somerset Collection Bookcase  261.96         2   \n",
       "2       Hon Deluxe Fabric Upholstered Stacking Chairs,...  731.94         3   \n",
       "3       Self-Adhesive Address Labels for Typewriters b...   14.62         2   \n",
       "\n",
       "        Discount    Profit  \n",
       "Row ID                      \n",
       "1            0.0   41.9136  \n",
       "2            0.0  219.5820  \n",
       "3            0.0    6.8714  "
      ]
     },
     "execution_count": 78,
     "metadata": {},
     "output_type": "execute_result"
    }
   ],
   "source": [
    "df = pd.read_csv(\"Sample - Superstore.csv\", index_col = 'Row ID', encoding='cp1252')\n",
    "df.head(3)"
   ]
  },
  {
   "attachments": {},
   "cell_type": "markdown",
   "metadata": {},
   "source": [
    "## Biểu đồ 1"
   ]
  },
  {
   "attachments": {},
   "cell_type": "markdown",
   "metadata": {},
   "source": [
    "**Tiêu đề:** Top 10 thành phố có tổng lượng mua hàng cao nhất.\n",
    "\n",
    "**Loại biểu đồ:** Lollipop chart\n",
    "\n",
    "**Lý do lựa chọn:** Thể hiện rõ sự so sánh tổng lượng mua hàng của các thành phố \n",
    "\n",
    "**Trực quan hóa:**"
   ]
  },
  {
   "cell_type": "code",
   "execution_count": 79,
   "metadata": {},
   "outputs": [
    {
     "data": {
      "application/javascript": "(function(root) {\n  function now() {\n    return new Date();\n  }\n\n  const force = true;\n\n  if (typeof root._bokeh_onload_callbacks === \"undefined\" || force === true) {\n    root._bokeh_onload_callbacks = [];\n    root._bokeh_is_loading = undefined;\n  }\n\nconst JS_MIME_TYPE = 'application/javascript';\n  const HTML_MIME_TYPE = 'text/html';\n  const EXEC_MIME_TYPE = 'application/vnd.bokehjs_exec.v0+json';\n  const CLASS_NAME = 'output_bokeh rendered_html';\n\n  /**\n   * Render data to the DOM node\n   */\n  function render(props, node) {\n    const script = document.createElement(\"script\");\n    node.appendChild(script);\n  }\n\n  /**\n   * Handle when an output is cleared or removed\n   */\n  function handleClearOutput(event, handle) {\n    const cell = handle.cell;\n\n    const id = cell.output_area._bokeh_element_id;\n    const server_id = cell.output_area._bokeh_server_id;\n    // Clean up Bokeh references\n    if (id != null && id in Bokeh.index) {\n      Bokeh.index[id].model.document.clear();\n      delete Bokeh.index[id];\n    }\n\n    if (server_id !== undefined) {\n      // Clean up Bokeh references\n      const cmd_clean = \"from bokeh.io.state import curstate; print(curstate().uuid_to_server['\" + server_id + \"'].get_sessions()[0].document.roots[0]._id)\";\n      cell.notebook.kernel.execute(cmd_clean, {\n        iopub: {\n          output: function(msg) {\n            const id = msg.content.text.trim();\n            if (id in Bokeh.index) {\n              Bokeh.index[id].model.document.clear();\n              delete Bokeh.index[id];\n            }\n          }\n        }\n      });\n      // Destroy server and session\n      const cmd_destroy = \"import bokeh.io.notebook as ion; ion.destroy_server('\" + server_id + \"')\";\n      cell.notebook.kernel.execute(cmd_destroy);\n    }\n  }\n\n  /**\n   * Handle when a new output is added\n   */\n  function handleAddOutput(event, handle) {\n    const output_area = handle.output_area;\n    const output = handle.output;\n\n    // limit handleAddOutput to display_data with EXEC_MIME_TYPE content only\n    if ((output.output_type != \"display_data\") || (!Object.prototype.hasOwnProperty.call(output.data, EXEC_MIME_TYPE))) {\n      return\n    }\n\n    const toinsert = output_area.element.find(\".\" + CLASS_NAME.split(' ')[0]);\n\n    if (output.metadata[EXEC_MIME_TYPE][\"id\"] !== undefined) {\n      toinsert[toinsert.length - 1].firstChild.textContent = output.data[JS_MIME_TYPE];\n      // store reference to embed id on output_area\n      output_area._bokeh_element_id = output.metadata[EXEC_MIME_TYPE][\"id\"];\n    }\n    if (output.metadata[EXEC_MIME_TYPE][\"server_id\"] !== undefined) {\n      const bk_div = document.createElement(\"div\");\n      bk_div.innerHTML = output.data[HTML_MIME_TYPE];\n      const script_attrs = bk_div.children[0].attributes;\n      for (let i = 0; i < script_attrs.length; i++) {\n        toinsert[toinsert.length - 1].firstChild.setAttribute(script_attrs[i].name, script_attrs[i].value);\n        toinsert[toinsert.length - 1].firstChild.textContent = bk_div.children[0].textContent\n      }\n      // store reference to server id on output_area\n      output_area._bokeh_server_id = output.metadata[EXEC_MIME_TYPE][\"server_id\"];\n    }\n  }\n\n  function register_renderer(events, OutputArea) {\n\n    function append_mime(data, metadata, element) {\n      // create a DOM node to render to\n      const toinsert = this.create_output_subarea(\n        metadata,\n        CLASS_NAME,\n        EXEC_MIME_TYPE\n      );\n      this.keyboard_manager.register_events(toinsert);\n      // Render to node\n      const props = {data: data, metadata: metadata[EXEC_MIME_TYPE]};\n      render(props, toinsert[toinsert.length - 1]);\n      element.append(toinsert);\n      return toinsert\n    }\n\n    /* Handle when an output is cleared or removed */\n    events.on('clear_output.CodeCell', handleClearOutput);\n    events.on('delete.Cell', handleClearOutput);\n\n    /* Handle when a new output is added */\n    events.on('output_added.OutputArea', handleAddOutput);\n\n    /**\n     * Register the mime type and append_mime function with output_area\n     */\n    OutputArea.prototype.register_mime_type(EXEC_MIME_TYPE, append_mime, {\n      /* Is output safe? */\n      safe: true,\n      /* Index of renderer in `output_area.display_order` */\n      index: 0\n    });\n  }\n\n  // register the mime type if in Jupyter Notebook environment and previously unregistered\n  if (root.Jupyter !== undefined) {\n    const events = require('base/js/events');\n    const OutputArea = require('notebook/js/outputarea').OutputArea;\n\n    if (OutputArea.prototype.mime_types().indexOf(EXEC_MIME_TYPE) == -1) {\n      register_renderer(events, OutputArea);\n    }\n  }\n  if (typeof (root._bokeh_timeout) === \"undefined\" || force === true) {\n    root._bokeh_timeout = Date.now() + 5000;\n    root._bokeh_failed_load = false;\n  }\n\n  const NB_LOAD_WARNING = {'data': {'text/html':\n     \"<div style='background-color: #fdd'>\\n\"+\n     \"<p>\\n\"+\n     \"BokehJS does not appear to have successfully loaded. If loading BokehJS from CDN, this \\n\"+\n     \"may be due to a slow or bad network connection. Possible fixes:\\n\"+\n     \"</p>\\n\"+\n     \"<ul>\\n\"+\n     \"<li>re-rerun `output_notebook()` to attempt to load from CDN again, or</li>\\n\"+\n     \"<li>use INLINE resources instead, as so:</li>\\n\"+\n     \"</ul>\\n\"+\n     \"<code>\\n\"+\n     \"from bokeh.resources import INLINE\\n\"+\n     \"output_notebook(resources=INLINE)\\n\"+\n     \"</code>\\n\"+\n     \"</div>\"}};\n\n  function display_loaded() {\n    const el = document.getElementById(null);\n    if (el != null) {\n      el.textContent = \"BokehJS is loading...\";\n    }\n    if (root.Bokeh !== undefined) {\n      if (el != null) {\n        el.textContent = \"BokehJS \" + root.Bokeh.version + \" successfully loaded.\";\n      }\n    } else if (Date.now() < root._bokeh_timeout) {\n      setTimeout(display_loaded, 100)\n    }\n  }\n\n  function run_callbacks() {\n    try {\n      root._bokeh_onload_callbacks.forEach(function(callback) {\n        if (callback != null)\n          callback();\n      });\n    } finally {\n      delete root._bokeh_onload_callbacks\n    }\n    console.debug(\"Bokeh: all callbacks have finished\");\n  }\n\n  function load_libs(css_urls, js_urls, callback) {\n    if (css_urls == null) css_urls = [];\n    if (js_urls == null) js_urls = [];\n\n    root._bokeh_onload_callbacks.push(callback);\n    if (root._bokeh_is_loading > 0) {\n      console.debug(\"Bokeh: BokehJS is being loaded, scheduling callback at\", now());\n      return null;\n    }\n    if (js_urls == null || js_urls.length === 0) {\n      run_callbacks();\n      return null;\n    }\n    console.debug(\"Bokeh: BokehJS not loaded, scheduling load and callback at\", now());\n    root._bokeh_is_loading = css_urls.length + js_urls.length;\n\n    function on_load() {\n      root._bokeh_is_loading--;\n      if (root._bokeh_is_loading === 0) {\n        console.debug(\"Bokeh: all BokehJS libraries/stylesheets loaded\");\n        run_callbacks()\n      }\n    }\n\n    function on_error(url) {\n      console.error(\"failed to load \" + url);\n    }\n\n    for (let i = 0; i < css_urls.length; i++) {\n      const url = css_urls[i];\n      const element = document.createElement(\"link\");\n      element.onload = on_load;\n      element.onerror = on_error.bind(null, url);\n      element.rel = \"stylesheet\";\n      element.type = \"text/css\";\n      element.href = url;\n      console.debug(\"Bokeh: injecting link tag for BokehJS stylesheet: \", url);\n      document.body.appendChild(element);\n    }\n\n    for (let i = 0; i < js_urls.length; i++) {\n      const url = js_urls[i];\n      const element = document.createElement('script');\n      element.onload = on_load;\n      element.onerror = on_error.bind(null, url);\n      element.async = false;\n      element.src = url;\n      console.debug(\"Bokeh: injecting script tag for BokehJS library: \", url);\n      document.head.appendChild(element);\n    }\n  };\n\n  function inject_raw_css(css) {\n    const element = document.createElement(\"style\");\n    element.appendChild(document.createTextNode(css));\n    document.body.appendChild(element);\n  }\n\n  const js_urls = [\"https://cdn.bokeh.org/bokeh/release/bokeh-3.1.0.min.js\", \"https://cdn.bokeh.org/bokeh/release/bokeh-gl-3.1.0.min.js\", \"https://cdn.bokeh.org/bokeh/release/bokeh-widgets-3.1.0.min.js\", \"https://cdn.bokeh.org/bokeh/release/bokeh-tables-3.1.0.min.js\", \"https://cdn.bokeh.org/bokeh/release/bokeh-mathjax-3.1.0.min.js\"];\n  const css_urls = [];\n\n  const inline_js = [    function(Bokeh) {\n      Bokeh.set_log_level(\"info\");\n    },\nfunction(Bokeh) {\n    }\n  ];\n\n  function run_inline_js() {\n    if (root.Bokeh !== undefined || force === true) {\n          for (let i = 0; i < inline_js.length; i++) {\n      inline_js[i].call(root, root.Bokeh);\n    }\n} else if (Date.now() < root._bokeh_timeout) {\n      setTimeout(run_inline_js, 100);\n    } else if (!root._bokeh_failed_load) {\n      console.log(\"Bokeh: BokehJS failed to load within specified timeout.\");\n      root._bokeh_failed_load = true;\n    } else if (force !== true) {\n      const cell = $(document.getElementById(null)).parents('.cell').data().cell;\n      cell.output_area.append_execute_result(NB_LOAD_WARNING)\n    }\n  }\n\n  if (root._bokeh_is_loading === 0) {\n    console.debug(\"Bokeh: BokehJS loaded, going straight to plotting\");\n    run_inline_js();\n  } else {\n    load_libs(css_urls, js_urls, function() {\n      console.debug(\"Bokeh: BokehJS plotting callback run at\", now());\n      run_inline_js();\n    });\n  }\n}(window));",
      "application/vnd.bokehjs_load.v0+json": ""
     },
     "metadata": {},
     "output_type": "display_data"
    },
    {
     "data": {
      "text/html": [
       "\n",
       "  <div id=\"329e518a-5277-41c5-b693-9961060bad32\" data-root-id=\"p1189\" style=\"display: contents;\"></div>\n"
      ]
     },
     "metadata": {},
     "output_type": "display_data"
    },
    {
     "data": {
      "application/javascript": "(function(root) {\n  function embed_document(root) {\n  const docs_json = {\"d02ee90e-67da-473c-8f75-a06e4aafb288\":{\"version\":\"3.1.0\",\"title\":\"Bokeh Application\",\"defs\":[],\"roots\":[{\"type\":\"object\",\"name\":\"Figure\",\"id\":\"p1189\",\"attributes\":{\"width\":800,\"x_range\":{\"type\":\"object\",\"name\":\"DataRange1d\",\"id\":\"p1191\"},\"y_range\":{\"type\":\"object\",\"name\":\"Range1d\",\"id\":\"p1188\",\"attributes\":{\"end\":11}},\"x_scale\":{\"type\":\"object\",\"name\":\"LinearScale\",\"id\":\"p1202\"},\"y_scale\":{\"type\":\"object\",\"name\":\"LinearScale\",\"id\":\"p1204\"},\"title\":{\"type\":\"object\",\"name\":\"Title\",\"id\":\"p1192\",\"attributes\":{\"text\":\"Top 10 most buying cities\"}},\"renderers\":[{\"type\":\"object\",\"name\":\"GlyphRenderer\",\"id\":\"p1226\",\"attributes\":{\"data_source\":{\"type\":\"object\",\"name\":\"ColumnDataSource\",\"id\":\"p1185\",\"attributes\":{\"selected\":{\"type\":\"object\",\"name\":\"Selection\",\"id\":\"p1187\",\"attributes\":{\"indices\":[],\"line_indices\":[]}},\"selection_policy\":{\"type\":\"object\",\"name\":\"UnionRenderers\",\"id\":\"p1186\"},\"data\":{\"type\":\"map\",\"entries\":[[\"x\",[163,170,222,314,377,428,510,537,747,915]],[\"y\",{\"type\":\"ndarray\",\"array\":{\"type\":\"bytes\",\"data\":\"AQAAAAIAAAADAAAABAAAAAUAAAAGAAAABwAAAAgAAAAJAAAACgAAAA==\"},\"shape\":[10],\"dtype\":\"int32\",\"order\":\"little\"}],[\"line_x\",[0,0,0,0,0,0,0,0,0,0]],[\"line_y\",[1,1,1,1,1,1,1,1,1,1]],[\"colors\",[\"#F7D060\",\"#ADE4DB\",\"#957777\",\"#FF6969\",\"#394867\",\"#A5C0DD\",\"#F79540\",\"#B71375\",\"#B71375\",\"#8B1874\"]]]}}},\"view\":{\"type\":\"object\",\"name\":\"CDSView\",\"id\":\"p1227\",\"attributes\":{\"filter\":{\"type\":\"object\",\"name\":\"AllIndices\",\"id\":\"p1228\"}}},\"glyph\":{\"type\":\"object\",\"name\":\"Circle\",\"id\":\"p1225\",\"attributes\":{\"x\":{\"type\":\"field\",\"field\":\"x\"},\"y\":{\"type\":\"field\",\"field\":\"y\"},\"size\":{\"type\":\"value\",\"value\":10},\"line_color\":{\"type\":\"value\",\"value\":\"white\"},\"fill_color\":{\"type\":\"field\",\"field\":\"colors\"}}}}},{\"type\":\"object\",\"name\":\"GlyphRenderer\",\"id\":\"p1235\",\"attributes\":{\"data_source\":{\"id\":\"p1185\"},\"view\":{\"type\":\"object\",\"name\":\"CDSView\",\"id\":\"p1236\",\"attributes\":{\"filter\":{\"type\":\"object\",\"name\":\"AllIndices\",\"id\":\"p1237\"}}},\"glyph\":{\"type\":\"object\",\"name\":\"Segment\",\"id\":\"p1232\",\"attributes\":{\"x0\":{\"type\":\"value\",\"value\":0},\"y0\":{\"type\":\"field\",\"field\":\"y\"},\"x1\":{\"type\":\"field\",\"field\":\"x\"},\"y1\":{\"type\":\"field\",\"field\":\"y\"},\"line_color\":{\"type\":\"field\",\"field\":\"colors\"}}},\"nonselection_glyph\":{\"type\":\"object\",\"name\":\"Segment\",\"id\":\"p1233\",\"attributes\":{\"x0\":{\"type\":\"value\",\"value\":0},\"y0\":{\"type\":\"field\",\"field\":\"y\"},\"x1\":{\"type\":\"field\",\"field\":\"x\"},\"y1\":{\"type\":\"field\",\"field\":\"y\"},\"line_color\":{\"type\":\"field\",\"field\":\"colors\"},\"line_alpha\":{\"type\":\"value\",\"value\":0.1}}},\"muted_glyph\":{\"type\":\"object\",\"name\":\"Segment\",\"id\":\"p1234\",\"attributes\":{\"x0\":{\"type\":\"value\",\"value\":0},\"y0\":{\"type\":\"field\",\"field\":\"y\"},\"x1\":{\"type\":\"field\",\"field\":\"x\"},\"y1\":{\"type\":\"field\",\"field\":\"y\"},\"line_color\":{\"type\":\"field\",\"field\":\"colors\"},\"line_alpha\":{\"type\":\"value\",\"value\":0.2}}}}},{\"type\":\"object\",\"name\":\"GlyphRenderer\",\"id\":\"p1239\",\"attributes\":{\"data_source\":{\"id\":\"p1185\"},\"view\":{\"type\":\"object\",\"name\":\"CDSView\",\"id\":\"p1240\",\"attributes\":{\"filter\":{\"type\":\"object\",\"name\":\"AllIndices\",\"id\":\"p1241\"}}},\"glyph\":{\"type\":\"object\",\"name\":\"Line\",\"id\":\"p1238\",\"attributes\":{\"x\":{\"type\":\"field\",\"field\":\"line_x\"},\"y\":{\"type\":\"field\",\"field\":\"line_y\"},\"line_width\":3}}}}],\"toolbar\":{\"type\":\"object\",\"name\":\"Toolbar\",\"id\":\"p1197\",\"attributes\":{\"tools\":[{\"type\":\"object\",\"name\":\"TapTool\",\"id\":\"p1220\",\"attributes\":{\"renderers\":\"auto\",\"callback\":{\"type\":\"object\",\"name\":\"CustomJS\",\"id\":\"p1244\",\"attributes\":{\"args\":{\"type\":\"map\",\"entries\":[[\"line_glyph\",{\"id\":\"p1238\"}]]},\"code\":\"\\n    var selected_index = cb_obj.indices[0];\\n    var selected_glyph = cb_obj.selection_glyph;\\n    selected_glyph.size = 20;\\n    selected_glyph.line_color = 'red';\\n    line_glyph.line_alpha = 1;\\n    line_glyph.data_source.data.line_x = [0, cb_obj.data.x[selected_index]];\\n    line_glyph.data_source.data.line_y = [cb_obj.data.y[selected_index], cb_obj.data.y[selected_index]];\\n    line_glyph.data_source.change.emit();\\n\"}}}},{\"type\":\"object\",\"name\":\"HoverTool\",\"id\":\"p1242\",\"attributes\":{\"renderers\":[{\"id\":\"p1226\"}],\"tooltips\":[[\"X\",\"@x\"],[\"Y\",\"@y\"]]}}]}},\"left\":[{\"type\":\"object\",\"name\":\"LinearAxis\",\"id\":\"p1213\",\"attributes\":{\"ticker\":{\"type\":\"object\",\"name\":\"FixedTicker\",\"id\":\"p1223\",\"attributes\":{\"ticks\":{\"type\":\"ndarray\",\"array\":{\"type\":\"bytes\",\"data\":\"AQAAAAIAAAADAAAABAAAAAUAAAAGAAAABwAAAAgAAAAJAAAACgAAAA==\"},\"shape\":[10],\"dtype\":\"int32\",\"order\":\"little\"},\"minor_ticks\":[]}},\"formatter\":{\"type\":\"object\",\"name\":\"BasicTickFormatter\",\"id\":\"p1216\"},\"major_label_overrides\":{\"type\":\"map\",\"entries\":[[1,\"Springfield\"],[2,\"San Diego\"],[3,\"Columbus\"],[4,\"Chicago\"],[5,\"Houston\"],[6,\"Seattle\"],[7,\"San Francisco\"],[8,\"Philadelphia\"],[9,\"Los Angeles\"],[10,\"New York City\"]]},\"major_label_policy\":{\"type\":\"object\",\"name\":\"AllLabels\",\"id\":\"p1215\"}}}],\"below\":[{\"type\":\"object\",\"name\":\"LinearAxis\",\"id\":\"p1206\",\"attributes\":{\"ticker\":{\"type\":\"object\",\"name\":\"BasicTicker\",\"id\":\"p1207\",\"attributes\":{\"mantissas\":[1,2,5]}},\"formatter\":{\"type\":\"object\",\"name\":\"BasicTickFormatter\",\"id\":\"p1209\"},\"major_label_policy\":{\"type\":\"object\",\"name\":\"AllLabels\",\"id\":\"p1208\"}}}],\"center\":[{\"type\":\"object\",\"name\":\"Grid\",\"id\":\"p1212\",\"attributes\":{\"axis\":{\"id\":\"p1206\"}}},{\"type\":\"object\",\"name\":\"Grid\",\"id\":\"p1219\",\"attributes\":{\"dimension\":1,\"axis\":{\"id\":\"p1213\"}}}]}}],\"callbacks\":{\"type\":\"map\"}}};\n  const render_items = [{\"docid\":\"d02ee90e-67da-473c-8f75-a06e4aafb288\",\"roots\":{\"p1189\":\"329e518a-5277-41c5-b693-9961060bad32\"},\"root_ids\":[\"p1189\"]}];\n  root.Bokeh.embed.embed_items_notebook(docs_json, render_items);\n  }\n  if (root.Bokeh !== undefined) {\n    embed_document(root);\n  } else {\n    let attempts = 0;\n    const timer = setInterval(function(root) {\n      if (root.Bokeh !== undefined) {\n        clearInterval(timer);\n        embed_document(root);\n      } else {\n        attempts++;\n        if (attempts > 100) {\n          clearInterval(timer);\n          console.log(\"Bokeh: ERROR: Unable to run BokehJS code because BokehJS library is missing\");\n        }\n      }\n    }, 10, root)\n  }\n})(window);",
      "application/vnd.bokehjs_exec.v0+json": ""
     },
     "metadata": {
      "application/vnd.bokehjs_exec.v0+json": {
       "id": "p1189"
      }
     },
     "output_type": "display_data"
    }
   ],
   "source": [
    "\n",
    "chart_df = df.copy()\n",
    "top_10_cities = chart_df['City'].value_counts().nlargest(10)\n",
    "top_10_cities.sort_values(ascending=True, inplace=True)\n",
    "\n",
    "\n",
    "# Enable inline visualization in Jupyter Notebook\n",
    "output_notebook(hide_banner=True)\n",
    "\n",
    "# Define the data for the lollipop chart\n",
    "x_values = list(top_10_cities.values)\n",
    "y_values = np.arange(1,11)\n",
    "# Calculate the x and y coordinates for the line\n",
    "line_x = [0] * len(x_values)\n",
    "line_y = [y_values[0]] * len(y_values)\n",
    "colors = ['#F7D060','#ADE4DB','#957777','#FF6969','#394867','#A5C0DD','#F79540', '#B71375', '#B71375', '#8B1874']\n",
    "\n",
    "# Add the x and y coordinates for the line to the data dictionary\n",
    "data = {'x': x_values, 'y': y_values, 'line_x': line_x, 'line_y': line_y, 'colors': colors}\n",
    "\n",
    "# Create a ColumnDataSource object to hold the data\n",
    "source = ColumnDataSource(data)\n",
    "\n",
    "# Create a new figure\n",
    "y_range = Range1d(start=0, end=11)\n",
    "p = figure(height=600, width=800, title='Top 10 most buying cities', y_range=y_range, tools='tap')\n",
    "p.yaxis.ticker = y_values\n",
    "p.yaxis.major_label_overrides = dict(zip(y_values, top_10_cities.index))\n",
    "\n",
    "\n",
    "# Draw the horizontal lollipop chart\n",
    "glyph = Circle(x='x', y='y', size=10, fill_color='colors', line_color='white')\n",
    "renderer = p.add_glyph(source, glyph)\n",
    "p.segment(x0=0, y0='y', x1='x', y1='y',line_color='colors', source=source)\n",
    "\n",
    "line_glyph = Line(x='line_x', y='line_y', line_color='black', line_width=3, line_alpha=1)\n",
    "p.add_glyph(source, line_glyph)\n",
    "\n",
    "# Add tooltips to display the data\n",
    "hover = HoverTool(tooltips=[('X', '@x'), ('Y', '@y')], renderers=[renderer])\n",
    "p.add_tools(hover)\n",
    "\n",
    "# Define the callback function to handle click events\n",
    "callback = CustomJS(args=dict(line_glyph=line_glyph), code=\"\"\"\n",
    "    var selected_index = cb_obj.indices[0];\n",
    "    var selected_glyph = cb_obj.selection_glyph;\n",
    "    selected_glyph.size = 20;\n",
    "    selected_glyph.line_color = 'red';\n",
    "    line_glyph.line_alpha = 1;\n",
    "    line_glyph.data_source.data.line_x = [0, cb_obj.data.x[selected_index]];\n",
    "    line_glyph.data_source.data.line_y = [cb_obj.data.y[selected_index], cb_obj.data.y[selected_index]];\n",
    "    line_glyph.data_source.change.emit();\n",
    "\"\"\")\n",
    "\n",
    "# Add the callback function to the TapTool\n",
    "taptool = p.select(type=TapTool)\n",
    "taptool.callback = callback\n",
    "\n",
    "# Display the chart\n",
    "show(p)"
   ]
  },
  {
   "attachments": {},
   "cell_type": "markdown",
   "metadata": {},
   "source": [
    "**Kỹ thuật trực quan sử dụng:**\n",
    "\n",
    "- ***Kỹ thuật Reduce:*** Để người dùng dễ dàng tập trung vào thành phố cần quan tâm. Chẳng hạn như thành phố có tổng lượng mua cao nhất, thành phố có tổng lượng mua thấp nhất trong top 10 thành phố.\n",
    "\n",
    "=> Reduce làm giảm thiểu sự phức tạp, tránh gây rối mắt cho người xem, làm tăng tính thể hiện cho biểu đồ.\n"
   ]
  },
  {
   "attachments": {},
   "cell_type": "markdown",
   "metadata": {},
   "source": [
    "**Nhận xét:**\n",
    "- Hai thành phố có tổng lượng mua cao nhất là New York và Los Angeles.\n",
    "- Hai thành phố có tổng lượng mua thấp nhất là San Diego và Springfield"
   ]
  },
  {
   "attachments": {},
   "cell_type": "markdown",
   "metadata": {},
   "source": [
    "## Biểu đồ 2"
   ]
  },
  {
   "attachments": {},
   "cell_type": "markdown",
   "metadata": {},
   "source": [
    "**Tiêu đề:** Mối quan hệ giữa discount và profit ở từng năm (2014-2017).\n",
    "\n",
    "**Loại biểu đồ:** Horizontal Bar chart.\n",
    "\n",
    "**Lý do lựa chọn:** Thể hiện rõ được mối liên hệ giữa hai yếu tố.\n",
    "\n",
    "**Trực quan hóa:**"
   ]
  },
  {
   "cell_type": "code",
   "execution_count": 137,
   "metadata": {},
   "outputs": [
    {
     "data": {
      "application/vnd.plotly.v1+json": {
       "config": {
        "linkText": "Export to plot.ly",
        "plotlyServerURL": "https://plot.ly",
        "showLink": false
       },
       "data": [
        {
         "marker": {
          "color": [
           "#A4D0A4",
           "#A4D0A4",
           "#A4D0A4",
           "#A4D0A4",
           "#C68387",
           "#C68387",
           "#C68387",
           "#C68387",
           "#C68387",
           "#C68387",
           "#C68387",
           "#C68387"
          ]
         },
         "orientation": "h",
         "text": [
          "104157.71",
          "3300.59",
          "537.53",
          "33013.33",
          "-3867.6",
          "-492.23",
          "-7833.15",
          "-1228.44",
          "-6864.39",
          "-1968.88",
          "-12070.75",
          "-13244.46"
         ],
         "textangle": 0,
         "textposition": "auto",
         "texttemplate": "<b>%{text}</b>",
         "type": "bar",
         "x": [
          58617.17,
          1285.09,
          109.06,
          17576.53,
          -1981.49,
          -130.1,
          -6869.73,
          -110.76,
          -5640.61,
          -627.66,
          -4167.47,
          -8516.05
         ],
         "y": [
          "0%",
          "10%",
          "15%",
          "20%",
          "30%",
          "32%",
          "40%",
          "45%",
          "50%",
          "60%",
          "70%",
          "80%"
         ]
        }
       ],
       "layout": {
        "font": {
         "color": "#101010",
         "family": "Arial",
         "size": 10
        },
        "height": 800,
        "margin": {
         "b": 50,
         "l": 75,
         "r": 70,
         "t": 100
        },
        "template": {
         "data": {
          "bar": [
           {
            "error_x": {
             "color": "#2a3f5f"
            },
            "error_y": {
             "color": "#2a3f5f"
            },
            "marker": {
             "line": {
              "color": "#E5ECF6",
              "width": 0.5
             },
             "pattern": {
              "fillmode": "overlay",
              "size": 10,
              "solidity": 0.2
             }
            },
            "type": "bar"
           }
          ],
          "barpolar": [
           {
            "marker": {
             "line": {
              "color": "#E5ECF6",
              "width": 0.5
             },
             "pattern": {
              "fillmode": "overlay",
              "size": 10,
              "solidity": 0.2
             }
            },
            "type": "barpolar"
           }
          ],
          "carpet": [
           {
            "aaxis": {
             "endlinecolor": "#2a3f5f",
             "gridcolor": "white",
             "linecolor": "white",
             "minorgridcolor": "white",
             "startlinecolor": "#2a3f5f"
            },
            "baxis": {
             "endlinecolor": "#2a3f5f",
             "gridcolor": "white",
             "linecolor": "white",
             "minorgridcolor": "white",
             "startlinecolor": "#2a3f5f"
            },
            "type": "carpet"
           }
          ],
          "choropleth": [
           {
            "colorbar": {
             "outlinewidth": 0,
             "ticks": ""
            },
            "type": "choropleth"
           }
          ],
          "contour": [
           {
            "colorbar": {
             "outlinewidth": 0,
             "ticks": ""
            },
            "colorscale": [
             [
              0,
              "#0d0887"
             ],
             [
              0.1111111111111111,
              "#46039f"
             ],
             [
              0.2222222222222222,
              "#7201a8"
             ],
             [
              0.3333333333333333,
              "#9c179e"
             ],
             [
              0.4444444444444444,
              "#bd3786"
             ],
             [
              0.5555555555555556,
              "#d8576b"
             ],
             [
              0.6666666666666666,
              "#ed7953"
             ],
             [
              0.7777777777777778,
              "#fb9f3a"
             ],
             [
              0.8888888888888888,
              "#fdca26"
             ],
             [
              1,
              "#f0f921"
             ]
            ],
            "type": "contour"
           }
          ],
          "contourcarpet": [
           {
            "colorbar": {
             "outlinewidth": 0,
             "ticks": ""
            },
            "type": "contourcarpet"
           }
          ],
          "heatmap": [
           {
            "colorbar": {
             "outlinewidth": 0,
             "ticks": ""
            },
            "colorscale": [
             [
              0,
              "#0d0887"
             ],
             [
              0.1111111111111111,
              "#46039f"
             ],
             [
              0.2222222222222222,
              "#7201a8"
             ],
             [
              0.3333333333333333,
              "#9c179e"
             ],
             [
              0.4444444444444444,
              "#bd3786"
             ],
             [
              0.5555555555555556,
              "#d8576b"
             ],
             [
              0.6666666666666666,
              "#ed7953"
             ],
             [
              0.7777777777777778,
              "#fb9f3a"
             ],
             [
              0.8888888888888888,
              "#fdca26"
             ],
             [
              1,
              "#f0f921"
             ]
            ],
            "type": "heatmap"
           }
          ],
          "heatmapgl": [
           {
            "colorbar": {
             "outlinewidth": 0,
             "ticks": ""
            },
            "colorscale": [
             [
              0,
              "#0d0887"
             ],
             [
              0.1111111111111111,
              "#46039f"
             ],
             [
              0.2222222222222222,
              "#7201a8"
             ],
             [
              0.3333333333333333,
              "#9c179e"
             ],
             [
              0.4444444444444444,
              "#bd3786"
             ],
             [
              0.5555555555555556,
              "#d8576b"
             ],
             [
              0.6666666666666666,
              "#ed7953"
             ],
             [
              0.7777777777777778,
              "#fb9f3a"
             ],
             [
              0.8888888888888888,
              "#fdca26"
             ],
             [
              1,
              "#f0f921"
             ]
            ],
            "type": "heatmapgl"
           }
          ],
          "histogram": [
           {
            "marker": {
             "pattern": {
              "fillmode": "overlay",
              "size": 10,
              "solidity": 0.2
             }
            },
            "type": "histogram"
           }
          ],
          "histogram2d": [
           {
            "colorbar": {
             "outlinewidth": 0,
             "ticks": ""
            },
            "colorscale": [
             [
              0,
              "#0d0887"
             ],
             [
              0.1111111111111111,
              "#46039f"
             ],
             [
              0.2222222222222222,
              "#7201a8"
             ],
             [
              0.3333333333333333,
              "#9c179e"
             ],
             [
              0.4444444444444444,
              "#bd3786"
             ],
             [
              0.5555555555555556,
              "#d8576b"
             ],
             [
              0.6666666666666666,
              "#ed7953"
             ],
             [
              0.7777777777777778,
              "#fb9f3a"
             ],
             [
              0.8888888888888888,
              "#fdca26"
             ],
             [
              1,
              "#f0f921"
             ]
            ],
            "type": "histogram2d"
           }
          ],
          "histogram2dcontour": [
           {
            "colorbar": {
             "outlinewidth": 0,
             "ticks": ""
            },
            "colorscale": [
             [
              0,
              "#0d0887"
             ],
             [
              0.1111111111111111,
              "#46039f"
             ],
             [
              0.2222222222222222,
              "#7201a8"
             ],
             [
              0.3333333333333333,
              "#9c179e"
             ],
             [
              0.4444444444444444,
              "#bd3786"
             ],
             [
              0.5555555555555556,
              "#d8576b"
             ],
             [
              0.6666666666666666,
              "#ed7953"
             ],
             [
              0.7777777777777778,
              "#fb9f3a"
             ],
             [
              0.8888888888888888,
              "#fdca26"
             ],
             [
              1,
              "#f0f921"
             ]
            ],
            "type": "histogram2dcontour"
           }
          ],
          "mesh3d": [
           {
            "colorbar": {
             "outlinewidth": 0,
             "ticks": ""
            },
            "type": "mesh3d"
           }
          ],
          "parcoords": [
           {
            "line": {
             "colorbar": {
              "outlinewidth": 0,
              "ticks": ""
             }
            },
            "type": "parcoords"
           }
          ],
          "pie": [
           {
            "automargin": true,
            "type": "pie"
           }
          ],
          "scatter": [
           {
            "fillpattern": {
             "fillmode": "overlay",
             "size": 10,
             "solidity": 0.2
            },
            "type": "scatter"
           }
          ],
          "scatter3d": [
           {
            "line": {
             "colorbar": {
              "outlinewidth": 0,
              "ticks": ""
             }
            },
            "marker": {
             "colorbar": {
              "outlinewidth": 0,
              "ticks": ""
             }
            },
            "type": "scatter3d"
           }
          ],
          "scattercarpet": [
           {
            "marker": {
             "colorbar": {
              "outlinewidth": 0,
              "ticks": ""
             }
            },
            "type": "scattercarpet"
           }
          ],
          "scattergeo": [
           {
            "marker": {
             "colorbar": {
              "outlinewidth": 0,
              "ticks": ""
             }
            },
            "type": "scattergeo"
           }
          ],
          "scattergl": [
           {
            "marker": {
             "colorbar": {
              "outlinewidth": 0,
              "ticks": ""
             }
            },
            "type": "scattergl"
           }
          ],
          "scattermapbox": [
           {
            "marker": {
             "colorbar": {
              "outlinewidth": 0,
              "ticks": ""
             }
            },
            "type": "scattermapbox"
           }
          ],
          "scatterpolar": [
           {
            "marker": {
             "colorbar": {
              "outlinewidth": 0,
              "ticks": ""
             }
            },
            "type": "scatterpolar"
           }
          ],
          "scatterpolargl": [
           {
            "marker": {
             "colorbar": {
              "outlinewidth": 0,
              "ticks": ""
             }
            },
            "type": "scatterpolargl"
           }
          ],
          "scatterternary": [
           {
            "marker": {
             "colorbar": {
              "outlinewidth": 0,
              "ticks": ""
             }
            },
            "type": "scatterternary"
           }
          ],
          "surface": [
           {
            "colorbar": {
             "outlinewidth": 0,
             "ticks": ""
            },
            "colorscale": [
             [
              0,
              "#0d0887"
             ],
             [
              0.1111111111111111,
              "#46039f"
             ],
             [
              0.2222222222222222,
              "#7201a8"
             ],
             [
              0.3333333333333333,
              "#9c179e"
             ],
             [
              0.4444444444444444,
              "#bd3786"
             ],
             [
              0.5555555555555556,
              "#d8576b"
             ],
             [
              0.6666666666666666,
              "#ed7953"
             ],
             [
              0.7777777777777778,
              "#fb9f3a"
             ],
             [
              0.8888888888888888,
              "#fdca26"
             ],
             [
              1,
              "#f0f921"
             ]
            ],
            "type": "surface"
           }
          ],
          "table": [
           {
            "cells": {
             "fill": {
              "color": "#EBF0F8"
             },
             "line": {
              "color": "white"
             }
            },
            "header": {
             "fill": {
              "color": "#C8D4E3"
             },
             "line": {
              "color": "white"
             }
            },
            "type": "table"
           }
          ]
         },
         "layout": {
          "annotationdefaults": {
           "arrowcolor": "#2a3f5f",
           "arrowhead": 0,
           "arrowwidth": 1
          },
          "autotypenumbers": "strict",
          "coloraxis": {
           "colorbar": {
            "outlinewidth": 0,
            "ticks": ""
           }
          },
          "colorscale": {
           "diverging": [
            [
             0,
             "#8e0152"
            ],
            [
             0.1,
             "#c51b7d"
            ],
            [
             0.2,
             "#de77ae"
            ],
            [
             0.3,
             "#f1b6da"
            ],
            [
             0.4,
             "#fde0ef"
            ],
            [
             0.5,
             "#f7f7f7"
            ],
            [
             0.6,
             "#e6f5d0"
            ],
            [
             0.7,
             "#b8e186"
            ],
            [
             0.8,
             "#7fbc41"
            ],
            [
             0.9,
             "#4d9221"
            ],
            [
             1,
             "#276419"
            ]
           ],
           "sequential": [
            [
             0,
             "#0d0887"
            ],
            [
             0.1111111111111111,
             "#46039f"
            ],
            [
             0.2222222222222222,
             "#7201a8"
            ],
            [
             0.3333333333333333,
             "#9c179e"
            ],
            [
             0.4444444444444444,
             "#bd3786"
            ],
            [
             0.5555555555555556,
             "#d8576b"
            ],
            [
             0.6666666666666666,
             "#ed7953"
            ],
            [
             0.7777777777777778,
             "#fb9f3a"
            ],
            [
             0.8888888888888888,
             "#fdca26"
            ],
            [
             1,
             "#f0f921"
            ]
           ],
           "sequentialminus": [
            [
             0,
             "#0d0887"
            ],
            [
             0.1111111111111111,
             "#46039f"
            ],
            [
             0.2222222222222222,
             "#7201a8"
            ],
            [
             0.3333333333333333,
             "#9c179e"
            ],
            [
             0.4444444444444444,
             "#bd3786"
            ],
            [
             0.5555555555555556,
             "#d8576b"
            ],
            [
             0.6666666666666666,
             "#ed7953"
            ],
            [
             0.7777777777777778,
             "#fb9f3a"
            ],
            [
             0.8888888888888888,
             "#fdca26"
            ],
            [
             1,
             "#f0f921"
            ]
           ]
          },
          "colorway": [
           "#636efa",
           "#EF553B",
           "#00cc96",
           "#ab63fa",
           "#FFA15A",
           "#19d3f3",
           "#FF6692",
           "#B6E880",
           "#FF97FF",
           "#FECB52"
          ],
          "font": {
           "color": "#2a3f5f"
          },
          "geo": {
           "bgcolor": "white",
           "lakecolor": "white",
           "landcolor": "#E5ECF6",
           "showlakes": true,
           "showland": true,
           "subunitcolor": "white"
          },
          "hoverlabel": {
           "align": "left"
          },
          "hovermode": "closest",
          "mapbox": {
           "style": "light"
          },
          "paper_bgcolor": "white",
          "plot_bgcolor": "#E5ECF6",
          "polar": {
           "angularaxis": {
            "gridcolor": "white",
            "linecolor": "white",
            "ticks": ""
           },
           "bgcolor": "#E5ECF6",
           "radialaxis": {
            "gridcolor": "white",
            "linecolor": "white",
            "ticks": ""
           }
          },
          "scene": {
           "xaxis": {
            "backgroundcolor": "#E5ECF6",
            "gridcolor": "white",
            "gridwidth": 2,
            "linecolor": "white",
            "showbackground": true,
            "ticks": "",
            "zerolinecolor": "white"
           },
           "yaxis": {
            "backgroundcolor": "#E5ECF6",
            "gridcolor": "white",
            "gridwidth": 2,
            "linecolor": "white",
            "showbackground": true,
            "ticks": "",
            "zerolinecolor": "white"
           },
           "zaxis": {
            "backgroundcolor": "#E5ECF6",
            "gridcolor": "white",
            "gridwidth": 2,
            "linecolor": "white",
            "showbackground": true,
            "ticks": "",
            "zerolinecolor": "white"
           }
          },
          "shapedefaults": {
           "line": {
            "color": "#2a3f5f"
           }
          },
          "ternary": {
           "aaxis": {
            "gridcolor": "white",
            "linecolor": "white",
            "ticks": ""
           },
           "baxis": {
            "gridcolor": "white",
            "linecolor": "white",
            "ticks": ""
           },
           "bgcolor": "#E5ECF6",
           "caxis": {
            "gridcolor": "white",
            "linecolor": "white",
            "ticks": ""
           }
          },
          "title": {
           "x": 0.05
          },
          "xaxis": {
           "automargin": true,
           "gridcolor": "white",
           "linecolor": "white",
           "ticks": "",
           "title": {
            "standoff": 15
           },
           "zerolinecolor": "white",
           "zerolinewidth": 2
          },
          "yaxis": {
           "automargin": true,
           "gridcolor": "white",
           "linecolor": "white",
           "ticks": "",
           "title": {
            "standoff": 15
           },
           "zerolinecolor": "white",
           "zerolinewidth": 2
          }
         }
        },
        "title": {
         "font": {
          "color": "#101010",
          "family": "Arial",
          "size": 20
         },
         "text": "<b>The effect of discount on profit in each year (2014-2017)</b>"
        },
        "updatemenus": [
         {
          "buttons": [
           {
            "args": [
             {
              "marker.color": [
               [
                "#A4D0A4",
                "#A4D0A4",
                "#A4D0A4",
                "#A4D0A4",
                "#C68387",
                "#C68387",
                "#C68387",
                "#C68387",
                "#C68387",
                "#C68387",
                "#C68387",
                "#C68387"
               ]
              ],
              "title": "<b>The effect of discount on profit in 2014</b>",
              "x": [
               [
                58617.17,
                1285.09,
                109.06,
                17576.53,
                -1981.49,
                -130.1,
                -6869.73,
                -110.76,
                -5640.61,
                -627.66,
                -4167.47,
                -8516.05
               ]
              ],
              "y": [
               [
                "0%",
                "10%",
                "15%",
                "20%",
                "30%",
                "32%",
                "40%",
                "45%",
                "50%",
                "60%",
                "70%",
                "80%"
               ]
              ],
              "yaxis.ticktext": [
               "0%",
               "10%",
               "15%",
               "20%",
               "30%",
               "32%",
               "40%",
               "45%",
               "50%",
               "60%",
               "70%",
               "80%"
              ],
              "yaxis.tickvals": [
               0,
               1,
               2,
               3,
               4,
               5,
               6,
               7,
               8,
               9,
               10,
               11
              ]
             }
            ],
            "label": "2014",
            "method": "update"
           },
           {
            "args": [
             {
              "marker.color": [
               [
                "#A4D0A4",
                "#A4D0A4",
                "#A4D0A4",
                "#A4D0A4",
                "#C68387",
                "#C68387",
                "#C68387",
                "#C68387",
                "#C68387",
                "#C68387",
                "#C68387",
                "#C68387"
               ]
              ],
              "title": "<b>The effect of discount on profit in 2015</b>",
              "x": [
               [
                68870.76,
                2392.49,
                205.61,
                18554.91,
                -2200.1,
                -796.39,
                -5154.98,
                -616.65,
                -3887.08,
                -1051.85,
                -10379.64,
                -4318.47
               ]
              ],
              "y": [
               [
                "0%",
                "10%",
                "15%",
                "20%",
                "30%",
                "32%",
                "40%",
                "45%",
                "50%",
                "60%",
                "70%",
                "80%"
               ]
              ],
              "yaxis.ticktext": [
               "0%",
               "10%",
               "15%",
               "20%",
               "30%",
               "32%",
               "40%",
               "45%",
               "50%",
               "60%",
               "70%",
               "80%"
              ],
              "yaxis.tickvals": [
               0,
               1,
               2,
               3,
               4,
               5,
               6,
               7,
               8,
               9,
               10,
               11
              ]
             }
            ],
            "label": "2015",
            "method": "update"
           },
           {
            "args": [
             {
              "marker.color": [
               [
                "#A4D0A4",
                "#A4D0A4",
                "#A4D0A4",
                "#A4D0A4",
                "#C68387",
                "#C68387",
                "#C68387",
                "#C68387",
                "#C68387",
                "#C68387",
                "#C68387",
                "#C68387"
               ]
              ],
              "title": "<b>The effect of discount on profit in 2016</b>",
              "x": [
               [
                89341.97,
                2051.01,
                566.79,
                21192.53,
                -2320.08,
                -972.41,
                -3199.19,
                -537.26,
                -4114.35,
                -2296.26,
                -13457.5,
                -4460.06
               ]
              ],
              "y": [
               [
                "0%",
                "10%",
                "15%",
                "20%",
                "30%",
                "32%",
                "40%",
                "45%",
                "50%",
                "60%",
                "70%",
                "80%"
               ]
              ],
              "yaxis.ticktext": [
               "0%",
               "10%",
               "15%",
               "20%",
               "30%",
               "32%",
               "40%",
               "45%",
               "50%",
               "60%",
               "70%",
               "80%"
              ],
              "yaxis.tickvals": [
               0,
               1,
               2,
               3,
               4,
               5,
               6,
               7,
               8,
               9,
               10,
               11
              ]
             }
            ],
            "label": "2016",
            "method": "update"
           },
           {
            "args": [
             {
              "marker.color": [
               [
                "#A4D0A4",
                "#A4D0A4",
                "#A4D0A4",
                "#A4D0A4",
                "#C68387",
                "#C68387",
                "#C68387",
                "#C68387",
                "#C68387",
                "#C68387",
                "#C68387",
                "#C68387"
               ]
              ],
              "title": "<b>The effect of discount on profit in 2017</b>",
              "x": [
               [
                104157.71,
                3300.59,
                537.53,
                33013.33,
                -3867.6,
                -492.23,
                -7833.15,
                -1228.44,
                -6864.39,
                -1968.88,
                -12070.75,
                -13244.46
               ]
              ],
              "y": [
               [
                "0%",
                "10%",
                "15%",
                "20%",
                "30%",
                "32%",
                "40%",
                "45%",
                "50%",
                "60%",
                "70%",
                "80%"
               ]
              ],
              "yaxis.ticktext": [
               "0%",
               "10%",
               "15%",
               "20%",
               "30%",
               "32%",
               "40%",
               "45%",
               "50%",
               "60%",
               "70%",
               "80%"
              ],
              "yaxis.tickvals": [
               0,
               1,
               2,
               3,
               4,
               5,
               6,
               7,
               8,
               9,
               10,
               11
              ]
             }
            ],
            "label": "2017",
            "method": "update"
           }
          ],
          "direction": "down",
          "showactive": true,
          "x": 1,
          "xanchor": "left",
          "y": 1.1,
          "yanchor": "top"
         }
        ],
        "width": 800,
        "xaxis": {
         "title": {
          "text": "Profit"
         }
        },
        "yaxis": {
         "ticktext": [
          "0%",
          "10%",
          "15%",
          "20%",
          "30%",
          "32%",
          "40%",
          "45%",
          "50%",
          "60%",
          "70%",
          "80%"
         ],
         "tickvals": [
          0,
          1,
          2,
          3,
          4,
          5,
          6,
          7,
          8,
          9,
          10,
          11
         ],
         "title": {
          "text": "Discount"
         }
        }
       }
      }
     },
     "metadata": {},
     "output_type": "display_data"
    }
   ],
   "source": [
    "#Process data\n",
    "temp_df = df.copy()\n",
    "temp_df['Order Date'] = pd.to_datetime(temp_df['Order Date'])\n",
    "\n",
    "discount_label = temp_df['Discount'].unique()\n",
    "categories = [\"%\"] * len(plot_df)\n",
    "discount_label.sort(axis=0)\n",
    "for i in range(len(discount_label)):\n",
    "    categories[i] = str(int(discount_label[i] * 100)) + categories[i]\n",
    "\n",
    "data = {}\n",
    "for i in range(2014, 2018):\n",
    "    _df = temp_df[temp_df['Order Date'].dt.year == i].groupby(['Discount'])['Profit'].sum()\n",
    "    values = [0] * len(_df)\n",
    "    for j in range(len(_df)):\n",
    "        values[j] = round(_df.values[j], 2)\n",
    "    data['profit_' + str(i)] = values\n",
    "plot_df = pd.DataFrame(data, index=categories)\n",
    "\n",
    "\n",
    "\n",
    "# Map positive and negative values to colors\n",
    "colors = ['#C68387' if v < 0 else '#A4D0A4' for v in plot_df['profit_2014'].values]\n",
    "\n",
    "# Create trace\n",
    "trace = go.Bar(\n",
    "    x=list(plot_df['profit_2014'].values),\n",
    "    y=list(plot_df['profit_2014'].index),\n",
    "    orientation='h',\n",
    "    marker=dict(\n",
    "        color=colors\n",
    "    ),\n",
    "    text=values,\n",
    "    textposition=\"auto\",\n",
    "    texttemplate='<b>%{text}</b>',\n",
    "    textangle = 0\n",
    ")\n",
    "\n",
    "# Create layout\n",
    "layout = go.Layout(\n",
    "    title = '<b>The effect of discount on profit in each year (2014-2017)</b>',\n",
    "    xaxis=dict(title='Profit'),\n",
    "    yaxis=dict(\n",
    "        title='Discount',\n",
    "        tickvals=list(range(len(list(plot_df['profit_2014'].index)))),\n",
    "        ticktext=list(plot_df['profit_2014'].index)\n",
    "    ),\n",
    "    height=800, # Adjust height to fit y-tick labels\n",
    "    width=800,   # Adjust width as needed\n",
    "    margin = dict( t = 100, b = 50, r = 70, l = 75),\n",
    "    font = dict(\n",
    "            family = \"Arial\",\n",
    "            size = 10,\n",
    "            color= '#101010',\n",
    "                    ),\n",
    "    titlefont = dict(\n",
    "            family =  \"Arial\",#\"Overpass\",\n",
    "            size = 20,\n",
    "            color = '#101010'\n",
    "                    ),\n",
    "    \n",
    ")\n",
    "\n",
    "buttons = []\n",
    "for i in range(2014, 2018):\n",
    "    profit = list(plot_df['profit_' + str(i)].values)\n",
    "    discount = list(plot_df['profit_' + str(i)].index)\n",
    "    colors = ['#C68387' if v < 0 else '#A4D0A4' for v in profit]\n",
    "    _title = '<b>The effect of discount on profit in ' + str(i) + '</b>'\n",
    "    _dict = dict(\n",
    "        args=[{'x': [profit], 'y': [discount], 'marker.color': [colors], 'title': _title, \n",
    "                       'yaxis.tickvals': list(range(len(discount))), 'yaxis.ticktext': discount}],\n",
    "                label=str(i),\n",
    "                method='update'\n",
    "    )\n",
    "    buttons.append(_dict)\n",
    "\n",
    "update_menu = list([\n",
    "    dict(\n",
    "    buttons = buttons,\n",
    "    direction='down',\n",
    "        showactive=True,\n",
    "        x=1,\n",
    "        xanchor='left',\n",
    "        y=1.1,\n",
    "        yanchor='top'\n",
    "\n",
    "    )\n",
    "])\n",
    "\n",
    "layout['updatemenus'] = update_menu\n",
    "# Create figure\n",
    "fig = go.Figure(data=[trace], layout=layout)\n",
    "\n",
    "# Show figure\n",
    "pyo.iplot(fig)\n"
   ]
  },
  {
   "attachments": {},
   "cell_type": "markdown",
   "metadata": {},
   "source": [
    "**Kỹ thuật trực quan sử dụng:**\n",
    "\n",
    "- ***Màu sắc***: dùng màu sắc để thể hiện cho lợi nhuận thu được ở mỗi mức giảm giá là mức dương hay mức âm:\n",
    "    - Màu xanh: lợi nhuận dương.\n",
    "    - Màu đỏ: lợi nhuận âm.\n",
    "- ***Kỹ thuật Manipulate View:*** cho kép người dùng thực hiện các thao tác trực tiếp trên biểu đồ để thay đổi hiển thị dữ liệu. Ở đây biểu đồ này cho phép người dùng sử dụng bộ lọc (filter) để xem mối liên hệ giữa lợi nhuận thu được và chiến dịch giảm giá theo từng năm"
   ]
  },
  {
   "attachments": {},
   "cell_type": "markdown",
   "metadata": {},
   "source": [
    "**Nhận xét:**\n",
    "- Ta thấy rõ mối liên hệ giữa profit và discount ở các năm đều là tỷ lệ nghịch. Khi khuyến mãi càng tăng thì lợi nhuận càng giảm thậm chí dẫn đến lỗ.\n",
    "- Tuy nhiên, cần phải duy trì các chiến dịch khuyến mãi ở mức vừa phải để kích thích nhu cầu mua sắm và tăng mức độ nhận diện thương hiệu cho cửa hàng."
   ]
  }
 ],
 "metadata": {
  "kernelspec": {
   "display_name": "Python 3",
   "language": "python",
   "name": "python3"
  },
  "language_info": {
   "codemirror_mode": {
    "name": "ipython",
    "version": 3
   },
   "file_extension": ".py",
   "mimetype": "text/x-python",
   "name": "python",
   "nbconvert_exporter": "python",
   "pygments_lexer": "ipython3",
   "version": "3.11.2"
  },
  "orig_nbformat": 4
 },
 "nbformat": 4,
 "nbformat_minor": 2
}
